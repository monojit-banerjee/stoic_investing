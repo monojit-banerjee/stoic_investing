{
 "cells": [
  {
   "cell_type": "code",
   "execution_count": 1,
   "id": "3c16e967-b4f6-404b-b4e4-c7c0d0615791",
   "metadata": {
    "execution": {
     "iopub.execute_input": "2023-01-22T15:34:02.336587Z",
     "iopub.status.busy": "2023-01-22T15:34:02.336341Z",
     "iopub.status.idle": "2023-01-22T15:34:51.887973Z",
     "shell.execute_reply": "2023-01-22T15:34:51.887207Z",
     "shell.execute_reply.started": "2023-01-22T15:34:02.336560Z"
    },
    "tags": []
   },
   "outputs": [
    {
     "data": {
      "application/vnd.jupyter.widget-view+json": {
       "model_id": "7a4961d052954b9f97df20cc87bd0cf5",
       "version_major": 2,
       "version_minor": 0
      },
      "text/plain": [
       "VBox()"
      ]
     },
     "metadata": {},
     "output_type": "display_data"
    },
    {
     "name": "stdout",
     "output_type": "stream",
     "text": [
      "Starting Spark application\n"
     ]
    },
    {
     "data": {
      "text/html": [
       "<table>\n",
       "<tr><th>ID</th><th>YARN Application ID</th><th>Kind</th><th>State</th><th>Spark UI</th><th>Driver log</th><th>User</th><th>Current session?</th></tr><tr><td>0</td><td>application_1674401028047_0001</td><td>pyspark</td><td>idle</td><td><a target=\"_blank\" href=\"http://ip-172-31-2-219.ap-south-1.compute.internal:20888/proxy/application_1674401028047_0001/\" class=\"emr-proxy-link\" emr-resource=\"j-3NH7OXTFFSUDG\n",
       "\" application-id=\"application_1674401028047_0001\">Link</a></td><td><a target=\"_blank\" href=\"http://ip-172-31-2-219.ap-south-1.compute.internal:8042/node/containerlogs/container_1674401028047_0001_01_000001/livy\" >Link</a></td><td>None</td><td>✔</td></tr></table>"
      ],
      "text/plain": [
       "<IPython.core.display.HTML object>"
      ]
     },
     "metadata": {},
     "output_type": "display_data"
    },
    {
     "data": {
      "application/vnd.jupyter.widget-view+json": {
       "model_id": "",
       "version_major": 2,
       "version_minor": 0
      },
      "text/plain": [
       "FloatProgress(value=0.0, bar_style='info', description='Progress:', layout=Layout(height='25px', width='50%'),…"
      ]
     },
     "metadata": {},
     "output_type": "display_data"
    },
    {
     "name": "stdout",
     "output_type": "stream",
     "text": [
      "SparkSession available as 'spark'.\n"
     ]
    },
    {
     "data": {
      "application/vnd.jupyter.widget-view+json": {
       "model_id": "",
       "version_major": 2,
       "version_minor": 0
      },
      "text/plain": [
       "FloatProgress(value=0.0, bar_style='info', description='Progress:', layout=Layout(height='25px', width='50%'),…"
      ]
     },
     "metadata": {},
     "output_type": "display_data"
    }
   ],
   "source": [
    "df_one_part1 = spark.read.csv(\"s3://aws-emr-resources-738445632124-ap-south-1/e-1VX6RHDDV359AJJ13Q5DD303B/full_funda_1.csv\", header=True, inferSchema=True)\n"
   ]
  },
  {
   "cell_type": "code",
   "execution_count": 2,
   "id": "22809fb8-86d2-400b-aaa8-1456ddf18632",
   "metadata": {
    "execution": {
     "iopub.execute_input": "2023-01-22T15:34:51.889172Z",
     "iopub.status.busy": "2023-01-22T15:34:51.888996Z",
     "iopub.status.idle": "2023-01-22T15:35:01.300419Z",
     "shell.execute_reply": "2023-01-22T15:35:01.299618Z",
     "shell.execute_reply.started": "2023-01-22T15:34:51.889151Z"
    },
    "tags": []
   },
   "outputs": [
    {
     "data": {
      "application/vnd.jupyter.widget-view+json": {
       "model_id": "58dc3c8e7ac347a4b08e21fef6241d15",
       "version_major": 2,
       "version_minor": 0
      },
      "text/plain": [
       "VBox()"
      ]
     },
     "metadata": {},
     "output_type": "display_data"
    },
    {
     "data": {
      "application/vnd.jupyter.widget-view+json": {
       "model_id": "",
       "version_major": 2,
       "version_minor": 0
      },
      "text/plain": [
       "FloatProgress(value=0.0, bar_style='info', description='Progress:', layout=Layout(height='25px', width='50%'),…"
      ]
     },
     "metadata": {},
     "output_type": "display_data"
    }
   ],
   "source": [
    "df_one_part2 = spark.read.csv(\"s3://aws-emr-resources-738445632124-ap-south-1/e-1VX6RHDDV359AJJ13Q5DD303B/full_funda_2.csv\", header=True, inferSchema=True)\n"
   ]
  },
  {
   "cell_type": "code",
   "execution_count": 3,
   "id": "fecf635f-0d63-43f0-b1d9-be926eeabebc",
   "metadata": {
    "execution": {
     "iopub.execute_input": "2023-01-22T15:35:01.302355Z",
     "iopub.status.busy": "2023-01-22T15:35:01.301971Z",
     "iopub.status.idle": "2023-01-22T15:35:10.682848Z",
     "shell.execute_reply": "2023-01-22T15:35:10.681954Z",
     "shell.execute_reply.started": "2023-01-22T15:35:01.302318Z"
    },
    "tags": []
   },
   "outputs": [
    {
     "data": {
      "application/vnd.jupyter.widget-view+json": {
       "model_id": "a12af327e7a041a79b8e044e6cb24b50",
       "version_major": 2,
       "version_minor": 0
      },
      "text/plain": [
       "VBox()"
      ]
     },
     "metadata": {},
     "output_type": "display_data"
    },
    {
     "data": {
      "application/vnd.jupyter.widget-view+json": {
       "model_id": "",
       "version_major": 2,
       "version_minor": 0
      },
      "text/plain": [
       "FloatProgress(value=0.0, bar_style='info', description='Progress:', layout=Layout(height='25px', width='50%'),…"
      ]
     },
     "metadata": {},
     "output_type": "display_data"
    },
    {
     "name": "stdout",
     "output_type": "stream",
     "text": [
      "(rows, columns) :  (255078, 2565)"
     ]
    }
   ],
   "source": [
    "df_one = df_one_part1.unionAll(df_one_part2)\n",
    "# get the number of rows\n",
    "num_rows = df_one.count()\n",
    "\n",
    "# get the number of columns\n",
    "num_cols = len(df_one.columns)\n",
    "\n",
    "# print the shape of the dataframe\n",
    "print(\"(rows, columns) : \", (num_rows, num_cols))"
   ]
  },
  {
   "cell_type": "code",
   "execution_count": 4,
   "id": "7984649b-496e-4b66-9cc3-0a1589bd8dd3",
   "metadata": {
    "execution": {
     "iopub.execute_input": "2023-01-22T15:35:10.684207Z",
     "iopub.status.busy": "2023-01-22T15:35:10.684039Z",
     "iopub.status.idle": "2023-01-22T15:35:10.755210Z",
     "shell.execute_reply": "2023-01-22T15:35:10.754492Z",
     "shell.execute_reply.started": "2023-01-22T15:35:10.684185Z"
    },
    "tags": []
   },
   "outputs": [
    {
     "data": {
      "application/vnd.jupyter.widget-view+json": {
       "model_id": "f938294228ea4268983d4cb54f623922",
       "version_major": 2,
       "version_minor": 0
      },
      "text/plain": [
       "VBox()"
      ]
     },
     "metadata": {},
     "output_type": "display_data"
    },
    {
     "data": {
      "application/vnd.jupyter.widget-view+json": {
       "model_id": "",
       "version_major": 2,
       "version_minor": 0
      },
      "text/plain": [
       "FloatProgress(value=0.0, bar_style='info', description='Progress:', layout=Layout(height='25px', width='50%'),…"
      ]
     },
     "metadata": {},
     "output_type": "display_data"
    }
   ],
   "source": [
    "\n",
    "\n",
    "cols_needed= ['Compid', 'Period', 'DISCL_DATE', 'QTR_DATE_END', 'QTRC_DATE_END', 'QTRB_DATE_END', 'QTRCB_DATE_END', 'QTRCF_DATE_END', 'QTRCFC_DATE_END', 'BS_YEAR_END', 'BSC_YEAR_END', 'CF_YEAR_END', 'CFC_YEAR_END', 'PL_YEAR_END', 'PLC_YEAR_END', 'BS_OTH_LT_LNEMP', 'BSC_OTH_LT_LNEMP', 'BS_OTH_LT_LNOTHER', 'BSC_OTH_LT_LNOTHER', 'BS_OTH_LT_LNSUBS', 'BSC_OTH_LT_LNSUBS', 'BS_STB_RELATEDPART', 'BSC_STB_RELATEDPART', 'BS_SECURED_LOANS', 'BSC_SECURED_LOANS', 'BS_UNSECURED_LOANS_NF', 'BSC_UNSECURED_LOANS_NF', 'BS_UNSEC_DEBENTURES_BONDS', 'BSC_UNSEC_DEBENTURES_BONDS', 'BS_CL_CURMAT_DEB', 'BSC_CL_CURMAT_DEB', 'BS_CURMATDEB_RUPLOAN', 'BSC_CURMATDEB_RUPLOAN', 'BS_CURMATDEB_FRGNLOAN', 'BSC_CURMATDEB_FRGNLOAN', 'BS_CL_CURMAT_OTHERS', 'BSC_CL_CURMAT_OTHERS', 'BS_STBS_FRM_BANK', 'BSC_STBS_FRM_BANK', 'BS_STBS_FRM_INST', 'BSC_STBS_FRM_INST', 'BS_STBS_WCAP', 'BSC_STBS_WCAP', 'BS_STBS_BUYCREDIT', 'BSC_STBS_BUYCREDIT', 'BS_STBS_COMM_BOR', 'BSC_STBS_COMM_BOR', 'BS_STBS_OTHER_SEC', 'BSC_STBS_OTHER_SEC', 'BS_STBU_BANK', 'BSC_STBU_BANK', 'BS_STBU_INST', 'BSC_STBU_INST', 'BS_STBU_WC', 'BSC_STBU_WC', 'BS_STBU_BUYCREDIT', 'BSC_STBU_BUYCREDIT', 'BS_STBU_COMMBORR', 'BSC_STBU_COMMBORR', 'BS_STBU_COMMPAP', 'BSC_STBU_COMMPAP', 'BS_STB_SECDEP', 'BSC_STB_SECDEP', 'BS_STB_OTHERLNADV', 'BSC_STB_OTHERLNADV',\n",
    " 'BS_SHAREHODERS_FUNDS', 'BSC_SHAREHODERS_FUNDS', 'BS_ONA_NONC_CASHBNK', 'BSC_ONA_NONC_CASHBNK', 'BS_CASH_BANK', 'BSC_CASH_BANK', 'BS_GOVT_SECURITIES_QUOTED', 'BSC_GOVT_SECURITIES_QUOTED', 'BS_MUTUAL_UNITS_QUOTED', 'BSC_MUTUAL_UNITS_QUOTED', 'BS_QUO_DEBENTURE', 'BSC_QUO_DEBENTURE', 'BS_GOVT_SECURITIES_UNQUOTED', 'BSC_GOVT_SECURITIES_UNQUOTED', 'BS_MUTUAL_UNITS_UNQUOTED', 'BSC_MUTUAL_UNITS_UNQUOTED', 'BS_QUOTED_GOVT', 'BSC_QUOTED_GOVT', 'BS_QUOTED_TREASURY_BILLS', 'BSC_QUOTED_TREASURY_BILLS', 'BS_MUTUAL_UNITS', 'BSC_MUTUAL_UNITS', 'BS_QUOTED_DEBENTURE', 'BSC_QUOTED_DEBENTURE', 'BS_OTH_CURR_QT_INVST', 'BSC_OTH_CURR_QT_INVST', 'BS_UNQUOTED_GOVT', 'BSC_UNQUOTED_GOVT', 'BS_UNQUOTED_TREASURY_BILLS', 'BSC_UNQUOTED_TREASURY_BILLS', 'BS_COLLATERAL_BORROWINGS', 'BSC_COLLATERAL_BORROWINGS', 'BS_UNQUOTED_MUTUAL_UNITS', 'BSC_UNQUOTED_MUTUAL_UNITS', 'BS_UNQUOTED_DEBENTURES', 'BSC_UNQUOTED_DEBENTURES', 'BS_OTH_CURR_UNQT_INVST', 'BSC_OTH_CURR_UNQT_INVST', 'BS_CURRENT_PROV_DIMINV_INVEST', 'BSC_CURRENT_PROV_DIMINV_INVEST',\n",
    "'QTR_NET_SALES', 'QTRC_NET_SALES', 'QTR_EXPORT_INCENTIVES', 'QTRC_EXPORT_INCENTIVES', 'QTR_EXPENDITURE', 'QTRC_EXPENDITURE', 'QTR_DEPRECIATION', 'QTRC_DEPRECIATION', 'QTR_TAX', 'QTRC_TAX','QTR_PBT', 'QTRC_PBT', 'QTR_PAT', 'QTRC_PAT']\n",
    "\n",
    "\n",
    "\n",
    "\n",
    "\n",
    "\n",
    "\n",
    "\n"
   ]
  },
  {
   "cell_type": "code",
   "execution_count": 5,
   "id": "142c89ca-18c2-408e-9933-3b73fa736739",
   "metadata": {
    "execution": {
     "iopub.execute_input": "2023-01-22T15:35:10.756226Z",
     "iopub.status.busy": "2023-01-22T15:35:10.756061Z",
     "iopub.status.idle": "2023-01-22T15:35:18.137730Z",
     "shell.execute_reply": "2023-01-22T15:35:18.137000Z",
     "shell.execute_reply.started": "2023-01-22T15:35:10.756205Z"
    },
    "tags": []
   },
   "outputs": [
    {
     "data": {
      "application/vnd.jupyter.widget-view+json": {
       "model_id": "7cf985b5318c429692897ee1b4f0d1ad",
       "version_major": 2,
       "version_minor": 0
      },
      "text/plain": [
       "VBox()"
      ]
     },
     "metadata": {},
     "output_type": "display_data"
    },
    {
     "data": {
      "application/vnd.jupyter.widget-view+json": {
       "model_id": "",
       "version_major": 2,
       "version_minor": 0
      },
      "text/plain": [
       "FloatProgress(value=0.0, bar_style='info', description='Progress:', layout=Layout(height='25px', width='50%'),…"
      ]
     },
     "metadata": {},
     "output_type": "display_data"
    },
    {
     "name": "stdout",
     "output_type": "stream",
     "text": [
      "(rows, columns) :  (255078, 119)"
     ]
    }
   ],
   "source": [
    "df_one = df_one.select(*cols_needed)\n",
    "# get the number of rows\n",
    "num_rows = df_one.count()\n",
    "\n",
    "# get the number of columns\n",
    "num_cols = len(df_one.columns)\n",
    "\n",
    "# print the shape of the dataframe\n",
    "print(\"(rows, columns) : \", (num_rows, num_cols))"
   ]
  },
  {
   "cell_type": "code",
   "execution_count": 6,
   "id": "0ebebe20-ddf9-4cf1-a3c4-4fe2bf042bdd",
   "metadata": {
    "execution": {
     "iopub.execute_input": "2023-01-22T15:35:18.139393Z",
     "iopub.status.busy": "2023-01-22T15:35:18.138918Z",
     "iopub.status.idle": "2023-01-22T15:35:18.342200Z",
     "shell.execute_reply": "2023-01-22T15:35:18.325029Z",
     "shell.execute_reply.started": "2023-01-22T15:35:18.139354Z"
    },
    "tags": []
   },
   "outputs": [
    {
     "data": {
      "application/vnd.jupyter.widget-view+json": {
       "model_id": "dced3fb3d38a4895b56f84e5a71db540",
       "version_major": 2,
       "version_minor": 0
      },
      "text/plain": [
       "VBox()"
      ]
     },
     "metadata": {},
     "output_type": "display_data"
    },
    {
     "data": {
      "application/vnd.jupyter.widget-view+json": {
       "model_id": "",
       "version_major": 2,
       "version_minor": 0
      },
      "text/plain": [
       "FloatProgress(value=0.0, bar_style='info', description='Progress:', layout=Layout(height='25px', width='50%'),…"
      ]
     },
     "metadata": {},
     "output_type": "display_data"
    }
   ],
   "source": [
    "from pyspark.sql.functions import lag\n",
    "from pyspark.sql import Window"
   ]
  },
  {
   "cell_type": "code",
   "execution_count": 7,
   "id": "e52ab457-d7fc-42c6-8bb9-264b3af48c8e",
   "metadata": {
    "execution": {
     "iopub.execute_input": "2023-01-22T15:35:18.345404Z",
     "iopub.status.busy": "2023-01-22T15:35:18.343198Z",
     "iopub.status.idle": "2023-01-22T15:35:19.207421Z",
     "shell.execute_reply": "2023-01-22T15:35:19.206691Z",
     "shell.execute_reply.started": "2023-01-22T15:35:18.345362Z"
    },
    "tags": []
   },
   "outputs": [
    {
     "data": {
      "application/vnd.jupyter.widget-view+json": {
       "model_id": "27152eea3b2e44688c2749f24edecd92",
       "version_major": 2,
       "version_minor": 0
      },
      "text/plain": [
       "VBox()"
      ]
     },
     "metadata": {},
     "output_type": "display_data"
    },
    {
     "data": {
      "application/vnd.jupyter.widget-view+json": {
       "model_id": "",
       "version_major": 2,
       "version_minor": 0
      },
      "text/plain": [
       "FloatProgress(value=0.0, bar_style='info', description='Progress:', layout=Layout(height='25px', width='50%'),…"
      ]
     },
     "metadata": {},
     "output_type": "display_data"
    }
   ],
   "source": [
    "w = Window.partitionBy('Compid').orderBy('DISCL_DATE')\n",
    "df_one = df_one.withColumn('PREV_DISCL_DATE', lag('DISCL_DATE', 1).over(w))"
   ]
  },
  {
   "cell_type": "code",
   "execution_count": 12,
   "id": "d0b959a2-eae8-4571-a3bf-e8df165bd405",
   "metadata": {
    "execution": {
     "iopub.execute_input": "2023-01-22T16:09:13.708490Z",
     "iopub.status.busy": "2023-01-22T16:09:13.708214Z",
     "iopub.status.idle": "2023-01-22T16:09:23.072885Z",
     "shell.execute_reply": "2023-01-22T16:09:23.072305Z",
     "shell.execute_reply.started": "2023-01-22T16:09:13.708462Z"
    },
    "tags": []
   },
   "outputs": [
    {
     "data": {
      "application/vnd.jupyter.widget-view+json": {
       "model_id": "a51d63c7caee49cfaa9b33fcef4bac21",
       "version_major": 2,
       "version_minor": 0
      },
      "text/plain": [
       "VBox()"
      ]
     },
     "metadata": {},
     "output_type": "display_data"
    },
    {
     "data": {
      "application/vnd.jupyter.widget-view+json": {
       "model_id": "",
       "version_major": 2,
       "version_minor": 0
      },
      "text/plain": [
       "FloatProgress(value=0.0, bar_style='info', description='Progress:', layout=Layout(height='25px', width='50%'),…"
      ]
     },
     "metadata": {},
     "output_type": "display_data"
    },
    {
     "name": "stdout",
     "output_type": "stream",
     "text": [
      "88599"
     ]
    }
   ],
   "source": [
    "df_one.dropna(thresh=1, subset=['QTR_DATE_END', 'QTRC_DATE_END', 'QTRB_DATE_END', 'QTRCB_DATE_END', 'QTRCF_DATE_END', 'QTRCFC_DATE_END', 'BS_YEAR_END', 'BSC_YEAR_END', 'CF_YEAR_END', 'CFC_YEAR_END', 'PL_YEAR_END', 'PLC_YEAR_END']).select('Compid', 'Period', 'DISCL_DATE', 'PREV_DISCL_DATE', 'QTR_DATE_END', 'QTRC_DATE_END', 'QTRB_DATE_END', 'QTRCB_DATE_END', 'QTRCF_DATE_END', 'QTRCFC_DATE_END', 'BS_YEAR_END', 'BSC_YEAR_END', 'CF_YEAR_END', 'CFC_YEAR_END', 'PL_YEAR_END', 'PLC_YEAR_END').count()\n",
    "\n",
    "#df_one.select('Compid', 'Period', 'DISCL_DATE', 'PREV_DISCL_DATE', 'QTR_DATE_END', 'QTRC_DATE_END', 'QTRB_DATE_END', 'QTRCB_DATE_END', 'QTRCF_DATE_END', 'QTRCFC_DATE_END', 'BS_YEAR_END', 'BSC_YEAR_END', 'CF_YEAR_END', 'CFC_YEAR_END', 'PL_YEAR_END', 'PLC_YEAR_END').show()"
   ]
  },
  {
   "cell_type": "code",
   "execution_count": null,
   "id": "b55d99a8-4029-48fe-9443-5dcd9951e7c8",
   "metadata": {},
   "outputs": [],
   "source": []
  }
 ],
 "metadata": {
  "kernelspec": {
   "display_name": "PySpark",
   "language": "python",
   "name": "pysparkkernel"
  },
  "language_info": {
   "codemirror_mode": {
    "name": "python",
    "version": 3
   },
   "file_extension": ".py",
   "mimetype": "text/x-python",
   "name": "pyspark",
   "pygments_lexer": "python3"
  }
 },
 "nbformat": 4,
 "nbformat_minor": 5
}
