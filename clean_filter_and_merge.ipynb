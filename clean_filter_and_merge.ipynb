{
  "nbformat": 4,
  "nbformat_minor": 0,
  "metadata": {
    "colab": {
      "provenance": [],
      "authorship_tag": "ABX9TyMi+j6RynukJShiUxsWnzZj",
      "include_colab_link": true
    },
    "kernelspec": {
      "name": "python3",
      "display_name": "Python 3"
    },
    "language_info": {
      "name": "python"
    }
  },
  "cells": [
    {
      "cell_type": "markdown",
      "metadata": {
        "id": "view-in-github",
        "colab_type": "text"
      },
      "source": [
        "<a href=\"https://colab.research.google.com/github/monojit-banerjee/stoic_investing/blob/main/clean_filter_and_merge.ipynb\" target=\"_parent\"><img src=\"https://colab.research.google.com/assets/colab-badge.svg\" alt=\"Open In Colab\"/></a>"
      ]
    },
    {
      "cell_type": "code",
      "execution_count": 1,
      "metadata": {
        "colab": {
          "base_uri": "https://localhost:8080/"
        },
        "id": "u_zbhvAsdoYG",
        "outputId": "15a0ca60-53cd-4867-8334-c18a13a327ef"
      },
      "outputs": [
        {
          "output_type": "stream",
          "name": "stdout",
          "text": [
            "Mounted at /content/gdrive\n"
          ]
        }
      ],
      "source": [
        "from google.colab import drive\n",
        "\n",
        "drive.mount('/content/gdrive')"
      ]
    },
    {
      "cell_type": "markdown",
      "source": [
        "'BS_ONA_NONC_CASHBNK',\n",
        "'BSC_ONA_NONC_CASHBNK',\n",
        "'BS_CASH_BANK',\n",
        "'BSC_CASH_BANK',\n",
        "'BS_GOVT_SECURITIES_QUOTED',\n",
        "'BSC_GOVT_SECURITIES_QUOTED',\n",
        "'BS_MUTUAL_UNITS_QUOTED',\n",
        "'BSC_MUTUAL_UNITS_QUOTED',\n",
        "'BS_QUO_DEBENTURE',\n",
        "'BSC_QUO_DEBENTURE',\n",
        "'BS_GOVT_SECURITIES_UNQUOTED',\n",
        "'BSC_GOVT_SECURITIES_UNQUOTED',\n",
        "'BS_MUTUAL_UNITS_UNQUOTED',\n",
        "'BSC_MUTUAL_UNITS_UNQUOTED',\n",
        "'BS_QUOTED_GOVT',\n",
        "'BSC_QUOTED_GOVT',\n",
        "'BS_QUOTED_TREASURY_BILLS',\n",
        "'BSC_QUOTED_TREASURY_BILLS',\n",
        "'BS_MUTUAL_UNITS',\n",
        "'BSC_MUTUAL_UNITS',\n",
        "'BS_QUOTED_DEBENTURE',\n",
        "'BSC_QUOTED_DEBENTURE',\n",
        "'BS_OTH_CURR_QT_INVST',\n",
        "'BSC_OTH_CURR_QT_INVST',\n",
        "'BS_UNQUOTED_GOVT',\n",
        "'BSC_UNQUOTED_GOVT',\n",
        "'BS_UNQUOTED_TREASURY_BILLS',\n",
        "'BSC_UNQUOTED_TREASURY_BILLS',\n",
        "'BS_COLLATERAL_BORROWINGS',\n",
        "'BSC_COLLATERAL_BORROWINGS',\n",
        "'BS_UNQUOTED_MUTUAL_UNITS',\n",
        "'BSC_UNQUOTED_MUTUAL_UNITS',\n",
        "'BS_UNQUOTED_DEBENTURES',\n",
        "'BSC_UNQUOTED_DEBENTURES',\n",
        "'BS_OTH_CURR_UNQT_INVST',\n",
        "'BSC_OTH_CURR_UNQT_INVST',\n",
        "'BS_CURRENT_PROV_DIMINV_INVEST',\n",
        "'BSC_CURRENT_PROV_DIMINV_INVEST',\n",
        "\n"
      ],
      "metadata": {
        "id": "UZJmGnz-f9cz"
      }
    },
    {
      "cell_type": "code",
      "source": [
        "cols_needed= ['Compid', 'Period', 'DISCL_DATE', 'QTR_DATE_END', 'QTRC_DATE_END', 'QTRB_DATE_END', 'QTRCB_DATE_END', 'QTRCF_DATE_END', 'QTRCFC_DATE_END', 'BS_YEAR_END', 'BSC_YEAR_END', 'CF_YEAR_END', 'CFC_YEAR_END', 'PL_YEAR_END', 'PLC_YEAR_END', 'BS_OTH_LT_LNEMP', 'BSC_OTH_LT_LNEMP', 'BS_OTH_LT_LNOTHER', 'BSC_OTH_LT_LNOTHER', 'BS_OTH_LT_LNSUBS', 'BSC_OTH_LT_LNSUBS', 'BS_STB_RELATEDPART', 'BSC_STB_RELATEDPART', 'BS_SECURED_LOANS', 'BSC_SECURED_LOANS', 'BS_UNSECURED_LOANS_NF', 'BSC_UNSECURED_LOANS_NF', 'BS_UNSEC_DEBENTURES_BONDS', 'BSC_UNSEC_DEBENTURES_BONDS', 'BS_CL_CURMAT_DEB', 'BSC_CL_CURMAT_DEB', 'BS_CURMATDEB_RUPLOAN', 'BSC_CURMATDEB_RUPLOAN', 'BS_CURMATDEB_FRGNLOAN', 'BSC_CURMATDEB_FRGNLOAN', 'BS_CL_CURMAT_OTHERS', 'BSC_CL_CURMAT_OTHERS', 'BS_STBS_FRM_BANK', 'BSC_STBS_FRM_BANK', 'BS_STBS_FRM_INST', 'BSC_STBS_FRM_INST', 'BS_STBS_WCAP', 'BSC_STBS_WCAP', 'BS_STBS_BUYCREDIT', 'BSC_STBS_BUYCREDIT', 'BS_STBS_COMM_BOR', 'BSC_STBS_COMM_BOR', 'BS_STBS_OTHER_SEC', 'BSC_STBS_OTHER_SEC', 'BS_STBU_BANK', 'BSC_STBU_BANK', 'BS_STBU_INST', 'BSC_STBU_INST', 'BS_STBU_WC', 'BSC_STBU_WC', 'BS_STBU_BUYCREDIT', 'BSC_STBU_BUYCREDIT', 'BS_STBU_COMMBORR', 'BSC_STBU_COMMBORR', 'BS_STBU_COMMPAP', 'BSC_STBU_COMMPAP', 'BS_STB_SECDEP', 'BSC_STB_SECDEP', 'BS_STB_OTHERLNADV', 'BSC_STB_OTHERLNADV',\n",
        " 'BS_SHAREHODERS_FUNDS', 'BSC_SHAREHODERS_FUNDS', 'BS_ONA_NONC_CASHBNK', 'BSC_ONA_NONC_CASHBNK', 'BS_CASH_BANK', 'BSC_CASH_BANK', 'BS_GOVT_SECURITIES_QUOTED', 'BSC_GOVT_SECURITIES_QUOTED', 'BS_MUTUAL_UNITS_QUOTED', 'BSC_MUTUAL_UNITS_QUOTED', 'BS_QUO_DEBENTURE', 'BSC_QUO_DEBENTURE', 'BS_GOVT_SECURITIES_UNQUOTED', 'BSC_GOVT_SECURITIES_UNQUOTED', 'BS_MUTUAL_UNITS_UNQUOTED', 'BSC_MUTUAL_UNITS_UNQUOTED', 'BS_QUOTED_GOVT', 'BSC_QUOTED_GOVT', 'BS_QUOTED_TREASURY_BILLS', 'BSC_QUOTED_TREASURY_BILLS', 'BS_MUTUAL_UNITS', 'BSC_MUTUAL_UNITS', 'BS_QUOTED_DEBENTURE', 'BSC_QUOTED_DEBENTURE', 'BS_OTH_CURR_QT_INVST', 'BSC_OTH_CURR_QT_INVST', 'BS_UNQUOTED_GOVT', 'BSC_UNQUOTED_GOVT', 'BS_UNQUOTED_TREASURY_BILLS', 'BSC_UNQUOTED_TREASURY_BILLS', 'BS_COLLATERAL_BORROWINGS', 'BSC_COLLATERAL_BORROWINGS', 'BS_UNQUOTED_MUTUAL_UNITS', 'BSC_UNQUOTED_MUTUAL_UNITS', 'BS_UNQUOTED_DEBENTURES', 'BSC_UNQUOTED_DEBENTURES', 'BS_OTH_CURR_UNQT_INVST', 'BSC_OTH_CURR_UNQT_INVST', 'BS_CURRENT_PROV_DIMINV_INVEST', 'BSC_CURRENT_PROV_DIMINV_INVEST',\n",
        "'QTR_NET_SALES', 'QTRC_NET_SALES', 'QTR_EXPORT_INCENTIVES', 'QTRC_EXPORT_INCENTIVES', 'QTR_EXPENDITURE', 'QTRC_EXPENDITURE', 'QTR_DEPRECIATION', 'QTRC_DEPRECIATION', 'QTR_TAX', 'QTRC_TAX','QTR_PBT', 'QTRC_PBT', 'QTR_PAT', 'QTRC_PAT']\n"
      ],
      "metadata": {
        "id": "WoT7sxX3eBJ5"
      },
      "execution_count": 2,
      "outputs": []
    },
    {
      "cell_type": "code",
      "source": [
        "import pandas as pd\n",
        "\n",
        "df_one_part1 = pd.read_csv('/content/gdrive/MyDrive/full_funda_1.csv', usecols=cols_needed)\n",
        "df_one_part1 = df_one_part1.dropna(thresh=1, subset=['QTR_DATE_END', 'QTRC_DATE_END', 'QTRB_DATE_END', 'QTRCB_DATE_END', 'QTRCF_DATE_END', 'QTRCFC_DATE_END', 'BS_YEAR_END', 'BSC_YEAR_END', 'CF_YEAR_END', 'CFC_YEAR_END', 'PL_YEAR_END', 'PLC_YEAR_END'])\n",
        "df_one_part1.shape"
      ],
      "metadata": {
        "colab": {
          "base_uri": "https://localhost:8080/"
        },
        "id": "S461Frs-jsqB",
        "outputId": "600cfa47-bce0-4e5d-8d77-74cbe62095b3"
      },
      "execution_count": 12,
      "outputs": [
        {
          "output_type": "execute_result",
          "data": {
            "text/plain": [
              "(38710, 119)"
            ]
          },
          "metadata": {},
          "execution_count": 12
        }
      ]
    },
    {
      "cell_type": "code",
      "source": [
        "df_one_part2 = pd.read_csv('/content/gdrive/MyDrive/full_funda_2.csv', usecols=cols_needed)\n",
        "df_one_part2 = df_one_part2.dropna(thresh=1, subset=['QTR_DATE_END', 'QTRC_DATE_END', 'QTRB_DATE_END', 'QTRCB_DATE_END', 'QTRCF_DATE_END', 'QTRCFC_DATE_END', 'BS_YEAR_END', 'BSC_YEAR_END', 'CF_YEAR_END', 'CFC_YEAR_END', 'PL_YEAR_END', 'PLC_YEAR_END'])\n",
        "df_one_part2.shape"
      ],
      "metadata": {
        "colab": {
          "base_uri": "https://localhost:8080/"
        },
        "id": "Xkk51dmSrh-I",
        "outputId": "a56fcc1d-e832-46d0-f962-39c3c109bbbc"
      },
      "execution_count": 13,
      "outputs": [
        {
          "output_type": "execute_result",
          "data": {
            "text/plain": [
              "(49889, 119)"
            ]
          },
          "metadata": {},
          "execution_count": 13
        }
      ]
    },
    {
      "cell_type": "code",
      "source": [
        "df_one = pd.concat([df_one_part1, df_one_part2], axis=0)\n",
        "df_one.to_csv('/content/gdrive/MyDrive/full_funda.csv', encoding='utf-8', index=False)\n",
        "df_one.shape"
      ],
      "metadata": {
        "colab": {
          "base_uri": "https://localhost:8080/"
        },
        "id": "sVLU6TnzrooT",
        "outputId": "6b431dfd-6529-4999-e129-4cddbe136016"
      },
      "execution_count": 15,
      "outputs": [
        {
          "output_type": "execute_result",
          "data": {
            "text/plain": [
              "(88599, 119)"
            ]
          },
          "metadata": {},
          "execution_count": 15
        }
      ]
    },
    {
      "cell_type": "code",
      "source": [
        "df_one = None\n",
        "df_one_part1 = None\n",
        "df_one_part2 = None"
      ],
      "metadata": {
        "id": "lEUxskYmkQlU"
      },
      "execution_count": 16,
      "outputs": []
    }
  ]
}