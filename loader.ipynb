{
  "nbformat": 4,
  "nbformat_minor": 0,
  "metadata": {
    "colab": {
      "provenance": [],
      "authorship_tag": "ABX9TyN6Ne6i49cFUB0K5NKXslRc",
      "include_colab_link": true
    },
    "kernelspec": {
      "name": "python3",
      "display_name": "Python 3"
    },
    "language_info": {
      "name": "python"
    }
  },
  "cells": [
    {
      "cell_type": "markdown",
      "metadata": {
        "id": "view-in-github",
        "colab_type": "text"
      },
      "source": [
        "<a href=\"https://colab.research.google.com/github/monojit-banerjee/stoic_investing/blob/main/loader.ipynb\" target=\"_parent\"><img src=\"https://colab.research.google.com/assets/colab-badge.svg\" alt=\"Open In Colab\"/></a>"
      ]
    },
    {
      "cell_type": "code",
      "execution_count": null,
      "metadata": {
        "colab": {
          "base_uri": "https://localhost:8080/"
        },
        "id": "MG4EtvuaciTE",
        "outputId": "dcd99746-7335-49ca-d0cc-2e899f658892"
      },
      "outputs": [
        {
          "output_type": "stream",
          "name": "stdout",
          "text": [
            "Drive already mounted at /content/gdrive; to attempt to forcibly remount, call drive.mount(\"/content/gdrive\", force_remount=True).\n"
          ]
        }
      ],
      "source": [
        "from google.colab import drive\n",
        "\n",
        "drive.mount('/content/gdrive')"
      ]
    },
    {
      "cell_type": "code",
      "source": [
        "import os\n",
        "raw_files_path = '/content/gdrive/MyDrive/raw_data/'\n",
        "flat_files_path = '/content/gdrive/MyDrive/flat_data/'\n"
      ],
      "metadata": {
        "id": "fA5wziaUdJB_"
      },
      "execution_count": null,
      "outputs": []
    },
    {
      "cell_type": "code",
      "source": [
        "import pandas as pd\n",
        "raw_files = os.listdir(raw_files_path)\n",
        "\n",
        "i = 0\n",
        "for raw_file in raw_files:\n",
        "  i = i + 1\n",
        "  if os.path.exists(flat_files_path + raw_file):\n",
        "    print(raw_file + ' already processed!', ';' + str(len(raw_files) - i) + ' left')\n",
        "    continue\n",
        "  try:\n",
        "    xls = pd.ExcelFile(raw_files_path + raw_file)\n",
        "    df_Prov_CF_Con = pd.read_excel(xls, 'Prov_CF_Con')\n",
        "    \n",
        "    df_Prov_CF_SA = pd.read_excel(xls, 'Prov_CF_SA')\n",
        "    df_Prov_BS_Con = pd.read_excel(xls, 'Prov_BS_Con')\n",
        "    df_Prov_BS_SA = pd.read_excel(xls, 'Prov_BS_SA')\n",
        "    df_Qtr_PnL_Con = pd.read_excel(xls, 'Qtr_PnL_Con')\n",
        "    df_Qtr_PnL_SA = pd.read_excel(xls, 'Qtr_PnL_SA')\n",
        "    df_PnL_Con = pd.read_excel(xls, 'PnL_Con')\n",
        "    df_PnL_SA = pd.read_excel(xls, 'PnL_SA')\n",
        "    df_CFS_Con = pd.read_excel(xls, 'CFS_Con')\n",
        "    df_CFS_SA = pd.read_excel(xls, 'CFS_SA')\n",
        "    df_BSS_Con = pd.read_excel(xls, 'BSS_Con')\n",
        "    df_BSS_SA = pd.read_excel(xls, 'BSS_SA')\n",
        "\n",
        "    df_all = pd.concat([df_Prov_CF_Con, df_Prov_CF_SA, df_Prov_BS_Con, df_Prov_BS_SA, df_Qtr_PnL_Con, df_Qtr_PnL_SA, df_PnL_Con, df_PnL_SA, df_CFS_Con, df_CFS_SA, df_BSS_Con, df_BSS_SA], axis=1, join='outer')\n",
        "    df_all = df_all.loc[:,~df_all.columns.duplicated()]\n",
        "    df_all.to_csv(flat_files_path + raw_file, encoding='utf-8', index=False)\n",
        "    print('processed ' + raw_file, ';' + str(len(raw_files) - i) + ' left')\n",
        "  except Exception as e:\n",
        "    print('issue with ', raw_file, ' ', e)\n"
      ],
      "metadata": {
        "id": "HwmKhps5dkiM"
      },
      "execution_count": null,
      "outputs": []
    },
    {
      "cell_type": "code",
      "source": [
        "flat_files = os.listdir(flat_files_path)\n",
        "i = 0\n",
        "df_one = None\n",
        "\n",
        "for flat_file in flat_files: \n",
        "  i = i + 1\n",
        "  try:\n",
        "    csv = pd.read_csv(flat_files_path + flat_file)\n",
        "    if i == 1:\n",
        "      df_one = csv\n",
        "    else:\n",
        "      csv = csv.reset_index(drop=True)\n",
        "      df_one = pd.concat([df_one, csv], axis=0)\n",
        "      print('concatenated ' + flat_file, ';' + str(len(flat_files) - i) + ' left')\n",
        "  except Exception as e:\n",
        "    print('issue with ', flat_file, ' ', e)\n",
        "\n",
        "df_one.to_csv('/content/gdrive/MyDrive/full_funda.csv', encoding='utf-8', index=False)\n",
        "df_one = None"
      ],
      "metadata": {
        "id": "kt-mrCZfUrBc"
      },
      "execution_count": null,
      "outputs": []
    },
    {
      "cell_type": "code",
      "source": [
        "df_one.shape"
      ],
      "metadata": {
        "colab": {
          "base_uri": "https://localhost:8080/"
        },
        "id": "rmLgCVHwbLdu",
        "outputId": "ba3767c2-1806-453b-f08c-39a2a840736a"
      },
      "execution_count": null,
      "outputs": [
        {
          "output_type": "execute_result",
          "data": {
            "text/plain": [
              "(127539, 2564)"
            ]
          },
          "metadata": {},
          "execution_count": 33
        }
      ]
    }
  ]
}