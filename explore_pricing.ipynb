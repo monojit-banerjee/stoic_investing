{
 "cells": [
  {
   "cell_type": "code",
   "execution_count": 1,
   "id": "1a9f53ac-2cc0-48da-a4f9-a81834dde5bc",
   "metadata": {
    "execution": {
     "iopub.execute_input": "2022-11-27T16:14:44.510632Z",
     "iopub.status.busy": "2022-11-27T16:14:44.510393Z",
     "iopub.status.idle": "2022-11-27T16:14:44.529098Z",
     "shell.execute_reply": "2022-11-27T16:14:44.528411Z",
     "shell.execute_reply.started": "2022-11-27T16:14:44.510601Z"
    },
    "tags": []
   },
   "outputs": [
    {
     "data": {
      "text/html": [
       "Current session configs: <tt>{'conf': {'spark.jars': 's3://stoic-quant-raw-data/postgresql-42.2.5.jar'}, 'proxyUser': 'user_zep', 'kind': 'pyspark'}</tt><br>"
      ],
      "text/plain": [
       "<IPython.core.display.HTML object>"
      ]
     },
     "metadata": {},
     "output_type": "display_data"
    },
    {
     "data": {
      "text/html": [
       "No active sessions."
      ],
      "text/plain": [
       "<IPython.core.display.HTML object>"
      ]
     },
     "metadata": {},
     "output_type": "display_data"
    }
   ],
   "source": [
    "%%configure -f\n",
    "{ \"conf\":{\n",
    "          \"spark.jars\": \"s3://stoic-quant-raw-data/postgresql-42.2.5.jar\"\n",
    "         }\n",
    "}"
   ]
  },
  {
   "cell_type": "code",
   "execution_count": 2,
   "id": "c14facdd-1c9d-4741-ad70-da20ac5389d1",
   "metadata": {
    "execution": {
     "iopub.execute_input": "2022-11-27T16:14:51.731351Z",
     "iopub.status.busy": "2022-11-27T16:14:51.731025Z",
     "iopub.status.idle": "2022-11-27T16:15:25.628847Z",
     "shell.execute_reply": "2022-11-27T16:15:25.625568Z",
     "shell.execute_reply.started": "2022-11-27T16:14:51.731315Z"
    },
    "tags": []
   },
   "outputs": [
    {
     "data": {
      "application/vnd.jupyter.widget-view+json": {
       "model_id": "65384c02d3124d33a85b8a026294437a",
       "version_major": 2,
       "version_minor": 0
      },
      "text/plain": [
       "VBox()"
      ]
     },
     "metadata": {},
     "output_type": "display_data"
    },
    {
     "name": "stdout",
     "output_type": "stream",
     "text": [
      "Starting Spark application\n"
     ]
    },
    {
     "data": {
      "text/html": [
       "<table>\n",
       "<tr><th>ID</th><th>YARN Application ID</th><th>Kind</th><th>State</th><th>Spark UI</th><th>Driver log</th><th>User</th><th>Current session?</th></tr><tr><td>14</td><td>application_1669534397620_0015</td><td>pyspark</td><td>idle</td><td><a target=\"_blank\" href=\"http://ip-172-31-40-154.ap-south-1.compute.internal:20888/proxy/application_1669534397620_0015/\" class=\"emr-proxy-link\" emr-resource=\"j-VWK6AF8KYS2E\n",
       "\" application-id=\"application_1669534397620_0015\">Link</a></td><td><a target=\"_blank\" href=\"http://ip-172-31-40-154.ap-south-1.compute.internal:8042/node/containerlogs/container_1669534397620_0015_01_000001/livy\" >Link</a></td><td>None</td><td>✔</td></tr></table>"
      ],
      "text/plain": [
       "<IPython.core.display.HTML object>"
      ]
     },
     "metadata": {},
     "output_type": "display_data"
    },
    {
     "data": {
      "application/vnd.jupyter.widget-view+json": {
       "model_id": "",
       "version_major": 2,
       "version_minor": 0
      },
      "text/plain": [
       "FloatProgress(value=0.0, bar_style='info', description='Progress:', layout=Layout(height='25px', width='50%'),…"
      ]
     },
     "metadata": {},
     "output_type": "display_data"
    },
    {
     "name": "stdout",
     "output_type": "stream",
     "text": [
      "SparkSession available as 'spark'.\n"
     ]
    },
    {
     "data": {
      "application/vnd.jupyter.widget-view+json": {
       "model_id": "",
       "version_major": 2,
       "version_minor": 0
      },
      "text/plain": [
       "FloatProgress(value=0.0, bar_style='info', description='Progress:', layout=Layout(height='25px', width='50%'),…"
      ]
     },
     "metadata": {},
     "output_type": "display_data"
    }
   ],
   "source": [
    "df = spark.read \\\n",
    "    .format(\"jdbc\") \\\n",
    "    .option(\"url\", \"jdbc:postgresql://ls-dd31fddee5fb278b7636d965e5004e29de9a083b.cj4kyg10bbsp.ap-south-1.rds.amazonaws.com:5432/stoicim_research\") \\\n",
    "    .option(\"user\", \"postgres\") \\\n",
    "    .option(\"password\", \"stoicimresearch123\") \\\n",
    "    .option(\"driver\", \"org.postgresql.Driver\") \\\n",
    "    .option(\"query\", \"SELECT a.*, b.name from weekly_securities_prices a inner join securities b on b.accord_code = a.accord_code\") \\\n",
    "    .load()\n",
    "\n",
    "#df.count()"
   ]
  },
  {
   "cell_type": "code",
   "execution_count": 3,
   "id": "6c11dad1-e714-4118-a2c1-6eec72a5e23b",
   "metadata": {
    "execution": {
     "iopub.execute_input": "2022-11-27T16:15:25.630540Z",
     "iopub.status.busy": "2022-11-27T16:15:25.630279Z",
     "iopub.status.idle": "2022-11-27T16:15:41.007499Z",
     "shell.execute_reply": "2022-11-27T16:15:41.006784Z",
     "shell.execute_reply.started": "2022-11-27T16:15:25.630506Z"
    },
    "tags": []
   },
   "outputs": [
    {
     "data": {
      "application/vnd.jupyter.widget-view+json": {
       "model_id": "7a5182420cce4f55b6997544bd8f8e46",
       "version_major": 2,
       "version_minor": 0
      },
      "text/plain": [
       "VBox()"
      ]
     },
     "metadata": {},
     "output_type": "display_data"
    },
    {
     "data": {
      "application/vnd.jupyter.widget-view+json": {
       "model_id": "",
       "version_major": 2,
       "version_minor": 0
      },
      "text/plain": [
       "FloatProgress(value=0.0, bar_style='info', description='Progress:', layout=Layout(height='25px', width='50%'),…"
      ]
     },
     "metadata": {},
     "output_type": "display_data"
    },
    {
     "name": "stdout",
     "output_type": "stream",
     "text": [
      "+---------------------------+\n",
      "|count(DISTINCT accord_code)|\n",
      "+---------------------------+\n",
      "|                       7002|\n",
      "+---------------------------+"
     ]
    }
   ],
   "source": [
    "from pyspark.sql.functions import countDistinct\n",
    "df2 = df.select(countDistinct(\"accord_code\"))\n",
    "df2.show()"
   ]
  },
  {
   "cell_type": "code",
   "execution_count": 4,
   "id": "eefb7589-8c48-42a6-a215-c86c26aef474",
   "metadata": {
    "execution": {
     "iopub.execute_input": "2022-11-27T16:15:55.436228Z",
     "iopub.status.busy": "2022-11-27T16:15:55.435993Z",
     "iopub.status.idle": "2022-11-27T16:15:55.489494Z",
     "shell.execute_reply": "2022-11-27T16:15:55.488918Z",
     "shell.execute_reply.started": "2022-11-27T16:15:55.436204Z"
    },
    "tags": []
   },
   "outputs": [
    {
     "data": {
      "application/vnd.jupyter.widget-view+json": {
       "model_id": "e88984a47eb04b9ea158d315afac0922",
       "version_major": 2,
       "version_minor": 0
      },
      "text/plain": [
       "VBox()"
      ]
     },
     "metadata": {},
     "output_type": "display_data"
    },
    {
     "data": {
      "application/vnd.jupyter.widget-view+json": {
       "model_id": "",
       "version_major": 2,
       "version_minor": 0
      },
      "text/plain": [
       "FloatProgress(value=0.0, bar_style='info', description='Progress:', layout=Layout(height='25px', width='50%'),…"
      ]
     },
     "metadata": {},
     "output_type": "display_data"
    }
   ],
   "source": [
    "from pyspark.sql.functions import col, avg, first, stddev, row_number, monotonically_increasing_id"
   ]
  },
  {
   "cell_type": "code",
   "execution_count": 5,
   "id": "b8a505da-6e8e-40e0-89af-53d3c4f0c673",
   "metadata": {
    "execution": {
     "iopub.execute_input": "2022-11-27T16:16:17.320843Z",
     "iopub.status.busy": "2022-11-27T16:16:17.320609Z",
     "iopub.status.idle": "2022-11-27T16:16:17.586070Z",
     "shell.execute_reply": "2022-11-27T16:16:17.585479Z",
     "shell.execute_reply.started": "2022-11-27T16:16:17.320819Z"
    },
    "tags": []
   },
   "outputs": [
    {
     "data": {
      "application/vnd.jupyter.widget-view+json": {
       "model_id": "4a0029123ead4cc0afc222165eb29316",
       "version_major": 2,
       "version_minor": 0
      },
      "text/plain": [
       "VBox()"
      ]
     },
     "metadata": {},
     "output_type": "display_data"
    },
    {
     "data": {
      "application/vnd.jupyter.widget-view+json": {
       "model_id": "",
       "version_major": 2,
       "version_minor": 0
      },
      "text/plain": [
       "FloatProgress(value=0.0, bar_style='info', description='Progress:', layout=Layout(height='25px', width='50%'),…"
      ]
     },
     "metadata": {},
     "output_type": "display_data"
    },
    {
     "name": "stdout",
     "output_type": "stream",
     "text": [
      "DataFrame[accord_code: bigint, name: string, tdate: timestamp, adj_close: double, market_cap: double, volume: double, no_of_trades: double, delivery_volume: double, delivery_percent: double]"
     ]
    }
   ],
   "source": [
    "df_price = df.select(col(\"accord_code\"), col(\"name\"), col(\"tdate\"), col(\"adj_close\"), col(\"market_cap\"), col(\"volume\"), col(\"no_of_trades\"), col(\"delivery_volume\"), col(\"delivery_percent\"))\n",
    "df_price.cache()"
   ]
  },
  {
   "cell_type": "code",
   "execution_count": 6,
   "id": "d13c1144-26d7-40e3-96a1-daabde8fa9c1",
   "metadata": {
    "execution": {
     "iopub.execute_input": "2022-11-27T16:16:35.474289Z",
     "iopub.status.busy": "2022-11-27T16:16:35.473993Z",
     "iopub.status.idle": "2022-11-27T16:17:10.868564Z",
     "shell.execute_reply": "2022-11-27T16:17:10.867871Z",
     "shell.execute_reply.started": "2022-11-27T16:16:35.474253Z"
    },
    "tags": []
   },
   "outputs": [
    {
     "data": {
      "application/vnd.jupyter.widget-view+json": {
       "model_id": "8a7c2a61626b4e1f962d93ffd35ba14a",
       "version_major": 2,
       "version_minor": 0
      },
      "text/plain": [
       "VBox()"
      ]
     },
     "metadata": {},
     "output_type": "display_data"
    },
    {
     "data": {
      "application/vnd.jupyter.widget-view+json": {
       "model_id": "",
       "version_major": 2,
       "version_minor": 0
      },
      "text/plain": [
       "FloatProgress(value=0.0, bar_style='info', description='Progress:', layout=Layout(height='25px', width='50%'),…"
      ]
     },
     "metadata": {},
     "output_type": "display_data"
    },
    {
     "name": "stdout",
     "output_type": "stream",
     "text": [
      "+-----------+------------------+-------------------+---------+------------+-----------------+------------+---------------+----------------+\n",
      "|accord_code|              name|              tdate|adj_close|  market_cap|           volume|no_of_trades|delivery_volume|delivery_percent|\n",
      "+-----------+------------------+-------------------+---------+------------+-----------------+------------+---------------+----------------+\n",
      "|     131131|Mascon Global Ltd.|2003-05-05 00:00:00|     9.75|34.402324125|          117.328|       598.0|            0.0|             0.0|\n",
      "|     131131|Mascon Global Ltd.|2003-05-12 00:00:00|      9.6|  33.8730576|          184.752|       821.0|            0.0|             0.0|\n",
      "|     131131|Mascon Global Ltd.|2003-05-19 00:00:00|     8.75|30.873880625|          229.895|       877.0|            0.0|             0.0|\n",
      "|     131131|Mascon Global Ltd.|2003-05-26 00:00:00|      8.5| 29.99176975|          182.806|       868.0|            0.0|             0.0|\n",
      "|     131131|Mascon Global Ltd.|2003-06-02 00:00:00|    10.55|37.225078925|          356.974|      1111.0|            0.0|             0.0|\n",
      "|     131131|Mascon Global Ltd.|2003-06-09 00:00:00|    11.97|42.235468695|          456.571|      1612.0|            0.0|             0.0|\n",
      "|     131131|Mascon Global Ltd.|2003-06-16 00:00:00|     11.2|  39.5185672|652.6320000000001|       998.0|            0.0|             0.0|\n",
      "|     131131|Mascon Global Ltd.|2003-06-23 00:00:00|    10.66| 37.61320771|          266.812|       721.0|            0.0|             0.0|\n",
      "|     131131|Mascon Global Ltd.|2003-06-30 00:00:00|    11.52| 40.64766912|          379.531|      1346.0|            0.0|             0.0|\n",
      "|     131131|Mascon Global Ltd.|2003-07-07 00:00:00|    12.54| 44.24668149|836.9839999999999|      2118.0|            0.0|             0.0|\n",
      "+-----------+------------------+-------------------+---------+------------+-----------------+------------+---------------+----------------+\n",
      "only showing top 10 rows"
     ]
    }
   ],
   "source": [
    "df_price.show(n=10)"
   ]
  },
  {
   "cell_type": "code",
   "execution_count": 7,
   "id": "903f2ecc-bac5-4bad-93c3-c88db58f0af4",
   "metadata": {
    "execution": {
     "iopub.execute_input": "2022-11-27T16:18:09.322311Z",
     "iopub.status.busy": "2022-11-27T16:18:09.322092Z",
     "iopub.status.idle": "2022-11-27T16:18:09.377029Z",
     "shell.execute_reply": "2022-11-27T16:18:09.376469Z",
     "shell.execute_reply.started": "2022-11-27T16:18:09.322287Z"
    },
    "tags": []
   },
   "outputs": [
    {
     "data": {
      "application/vnd.jupyter.widget-view+json": {
       "model_id": "1693bcef445641a9a45b993a86ecf7ae",
       "version_major": 2,
       "version_minor": 0
      },
      "text/plain": [
       "VBox()"
      ]
     },
     "metadata": {},
     "output_type": "display_data"
    },
    {
     "data": {
      "application/vnd.jupyter.widget-view+json": {
       "model_id": "",
       "version_major": 2,
       "version_minor": 0
      },
      "text/plain": [
       "FloatProgress(value=0.0, bar_style='info', description='Progress:', layout=Layout(height='25px', width='50%'),…"
      ]
     },
     "metadata": {},
     "output_type": "display_data"
    }
   ],
   "source": [
    "#variables\n",
    "time_window_for_blended_price = 0  #rolling average price of no of weeks\n",
    "time_window_for_evaluation = 52 #no of weeks for which to evaluate price growth\n",
    "time_window_for_historic_trade_volume = 52\n",
    "time_window_for_current_trade_volume = 4\n",
    "trade_volume_growth = 3\n",
    "rebalance_frequency = 52 #every n week"
   ]
  },
  {
   "cell_type": "code",
   "execution_count": 8,
   "id": "6a3df26c-345d-4208-8de4-9faaa0f26d36",
   "metadata": {
    "execution": {
     "iopub.execute_input": "2022-11-27T16:18:16.344498Z",
     "iopub.status.busy": "2022-11-27T16:18:16.344275Z",
     "iopub.status.idle": "2022-11-27T16:18:16.398681Z",
     "shell.execute_reply": "2022-11-27T16:18:16.397954Z",
     "shell.execute_reply.started": "2022-11-27T16:18:16.344474Z"
    },
    "tags": []
   },
   "outputs": [
    {
     "data": {
      "application/vnd.jupyter.widget-view+json": {
       "model_id": "d70cf7ceaf4a421d853bd698787b837a",
       "version_major": 2,
       "version_minor": 0
      },
      "text/plain": [
       "VBox()"
      ]
     },
     "metadata": {},
     "output_type": "display_data"
    },
    {
     "data": {
      "application/vnd.jupyter.widget-view+json": {
       "model_id": "",
       "version_major": 2,
       "version_minor": 0
      },
      "text/plain": [
       "FloatProgress(value=0.0, bar_style='info', description='Progress:', layout=Layout(height='25px', width='50%'),…"
      ]
     },
     "metadata": {},
     "output_type": "display_data"
    }
   ],
   "source": [
    "from pyspark.sql import functions as f\n",
    "from pyspark.sql.window import Window"
   ]
  },
  {
   "cell_type": "code",
   "execution_count": 9,
   "id": "14d828af-5366-49c8-9ffc-81618aa4be35",
   "metadata": {
    "execution": {
     "iopub.execute_input": "2022-11-27T16:19:23.354709Z",
     "iopub.status.busy": "2022-11-27T16:19:23.354488Z",
     "iopub.status.idle": "2022-11-27T16:19:23.617021Z",
     "shell.execute_reply": "2022-11-27T16:19:23.616305Z",
     "shell.execute_reply.started": "2022-11-27T16:19:23.354687Z"
    },
    "tags": []
   },
   "outputs": [
    {
     "data": {
      "application/vnd.jupyter.widget-view+json": {
       "model_id": "db9f944905fe45ec92170af35d25f011",
       "version_major": 2,
       "version_minor": 0
      },
      "text/plain": [
       "VBox()"
      ]
     },
     "metadata": {},
     "output_type": "display_data"
    },
    {
     "data": {
      "application/vnd.jupyter.widget-view+json": {
       "model_id": "",
       "version_major": 2,
       "version_minor": 0
      },
      "text/plain": [
       "FloatProgress(value=0.0, bar_style='info', description='Progress:', layout=Layout(height='25px', width='50%'),…"
      ]
     },
     "metadata": {},
     "output_type": "display_data"
    }
   ],
   "source": [
    "last_n_rows = Window.partitionBy('accord_code').orderBy('tdate').rowsBetween(-time_window_for_blended_price, 0)\n",
    "df_price = df_price.withColumn(\"blended_price\",avg(df_price.adj_close).over(last_n_rows))"
   ]
  },
  {
   "cell_type": "code",
   "execution_count": 10,
   "id": "93367d8e-a8fc-4cc1-a870-23568e1eed0b",
   "metadata": {
    "execution": {
     "iopub.execute_input": "2022-11-27T16:19:27.902180Z",
     "iopub.status.busy": "2022-11-27T16:19:27.901957Z",
     "iopub.status.idle": "2022-11-27T16:19:28.165800Z",
     "shell.execute_reply": "2022-11-27T16:19:28.165156Z",
     "shell.execute_reply.started": "2022-11-27T16:19:27.902157Z"
    },
    "tags": []
   },
   "outputs": [
    {
     "data": {
      "application/vnd.jupyter.widget-view+json": {
       "model_id": "5315093304b4415f836e4c6bf7e8448d",
       "version_major": 2,
       "version_minor": 0
      },
      "text/plain": [
       "VBox()"
      ]
     },
     "metadata": {},
     "output_type": "display_data"
    },
    {
     "data": {
      "application/vnd.jupyter.widget-view+json": {
       "model_id": "",
       "version_major": 2,
       "version_minor": 0
      },
      "text/plain": [
       "FloatProgress(value=0.0, bar_style='info', description='Progress:', layout=Layout(height='25px', width='50%'),…"
      ]
     },
     "metadata": {},
     "output_type": "display_data"
    }
   ],
   "source": [
    "last_n_rows = Window.partitionBy('accord_code').orderBy('tdate').rowsBetween(-time_window_for_evaluation, 0)\n",
    "df_price = df_price.withColumn(\"last_price\",first(df_price.blended_price).over(last_n_rows))"
   ]
  },
  {
   "cell_type": "code",
   "execution_count": 11,
   "id": "c54ae18e-8242-4bb6-8ac3-e0172214f756",
   "metadata": {
    "execution": {
     "iopub.execute_input": "2022-11-27T16:19:32.112701Z",
     "iopub.status.busy": "2022-11-27T16:19:32.112479Z",
     "iopub.status.idle": "2022-11-27T16:19:32.385591Z",
     "shell.execute_reply": "2022-11-27T16:19:32.384903Z",
     "shell.execute_reply.started": "2022-11-27T16:19:32.112678Z"
    },
    "tags": []
   },
   "outputs": [
    {
     "data": {
      "application/vnd.jupyter.widget-view+json": {
       "model_id": "7810be8ce8e945dc963f9979c7d8bdf4",
       "version_major": 2,
       "version_minor": 0
      },
      "text/plain": [
       "VBox()"
      ]
     },
     "metadata": {},
     "output_type": "display_data"
    },
    {
     "data": {
      "application/vnd.jupyter.widget-view+json": {
       "model_id": "",
       "version_major": 2,
       "version_minor": 0
      },
      "text/plain": [
       "FloatProgress(value=0.0, bar_style='info', description='Progress:', layout=Layout(height='25px', width='50%'),…"
      ]
     },
     "metadata": {},
     "output_type": "display_data"
    }
   ],
   "source": [
    "last_n_rows = Window.partitionBy('accord_code').orderBy('tdate').rowsBetween(-time_window_for_evaluation, 0)\n",
    "df_price = df_price.withColumn(\"std_dev\",stddev(df_price.blended_price).over(last_n_rows))"
   ]
  },
  {
   "cell_type": "code",
   "execution_count": 16,
   "id": "b035562a-ec3b-46f0-af26-246717906b17",
   "metadata": {
    "execution": {
     "iopub.execute_input": "2022-11-27T16:20:57.796641Z",
     "iopub.status.busy": "2022-11-27T16:20:57.796416Z",
     "iopub.status.idle": "2022-11-27T16:20:58.066022Z",
     "shell.execute_reply": "2022-11-27T16:20:58.065390Z",
     "shell.execute_reply.started": "2022-11-27T16:20:57.796617Z"
    },
    "tags": []
   },
   "outputs": [
    {
     "data": {
      "application/vnd.jupyter.widget-view+json": {
       "model_id": "61e4d77bebb340108496ca5934220ac8",
       "version_major": 2,
       "version_minor": 0
      },
      "text/plain": [
       "VBox()"
      ]
     },
     "metadata": {},
     "output_type": "display_data"
    },
    {
     "data": {
      "application/vnd.jupyter.widget-view+json": {
       "model_id": "",
       "version_major": 2,
       "version_minor": 0
      },
      "text/plain": [
       "FloatProgress(value=0.0, bar_style='info', description='Progress:', layout=Layout(height='25px', width='50%'),…"
      ]
     },
     "metadata": {},
     "output_type": "display_data"
    }
   ],
   "source": [
    "last_n_rows = Window.partitionBy('accord_code').orderBy('tdate').rowsBetween(-time_window_for_historic_trade_volume, 0)\n",
    "df_price = df_price.withColumn(\"historic_volume\",avg(df_price.volume).over(last_n_rows))"
   ]
  },
  {
   "cell_type": "code",
   "execution_count": 17,
   "id": "42c513ff-3026-42c0-b0af-1cb409d17b84",
   "metadata": {
    "execution": {
     "iopub.execute_input": "2022-11-27T16:21:05.901548Z",
     "iopub.status.busy": "2022-11-27T16:21:05.901322Z",
     "iopub.status.idle": "2022-11-27T16:21:06.166356Z",
     "shell.execute_reply": "2022-11-27T16:21:06.165769Z",
     "shell.execute_reply.started": "2022-11-27T16:21:05.901525Z"
    },
    "tags": []
   },
   "outputs": [
    {
     "data": {
      "application/vnd.jupyter.widget-view+json": {
       "model_id": "455643db5c384a0cbadf0c3f1cf8cc2f",
       "version_major": 2,
       "version_minor": 0
      },
      "text/plain": [
       "VBox()"
      ]
     },
     "metadata": {},
     "output_type": "display_data"
    },
    {
     "data": {
      "application/vnd.jupyter.widget-view+json": {
       "model_id": "",
       "version_major": 2,
       "version_minor": 0
      },
      "text/plain": [
       "FloatProgress(value=0.0, bar_style='info', description='Progress:', layout=Layout(height='25px', width='50%'),…"
      ]
     },
     "metadata": {},
     "output_type": "display_data"
    }
   ],
   "source": [
    "last_n_rows = Window.partitionBy('accord_code').orderBy('tdate').rowsBetween(-time_window_for_current_trade_volume, 0)\n",
    "df_price = df_price.withColumn(\"current_volume\",avg(df_price.volume).over(last_n_rows))"
   ]
  },
  {
   "cell_type": "code",
   "execution_count": 18,
   "id": "b756e3c4-6b70-47af-a809-c0a8e4190a72",
   "metadata": {
    "execution": {
     "iopub.execute_input": "2022-11-27T16:21:08.168343Z",
     "iopub.status.busy": "2022-11-27T16:21:08.168126Z",
     "iopub.status.idle": "2022-11-27T16:21:08.233351Z",
     "shell.execute_reply": "2022-11-27T16:21:08.232664Z",
     "shell.execute_reply.started": "2022-11-27T16:21:08.168320Z"
    },
    "tags": []
   },
   "outputs": [
    {
     "data": {
      "application/vnd.jupyter.widget-view+json": {
       "model_id": "673c1293631d4ec690ecd71cb3ca32f2",
       "version_major": 2,
       "version_minor": 0
      },
      "text/plain": [
       "VBox()"
      ]
     },
     "metadata": {},
     "output_type": "display_data"
    },
    {
     "data": {
      "application/vnd.jupyter.widget-view+json": {
       "model_id": "",
       "version_major": 2,
       "version_minor": 0
      },
      "text/plain": [
       "FloatProgress(value=0.0, bar_style='info', description='Progress:', layout=Layout(height='25px', width='50%'),…"
      ]
     },
     "metadata": {},
     "output_type": "display_data"
    }
   ],
   "source": [
    "#df_price.select(col(\"name\"), col(\"tdate\") ,col(\"blended_price\"), col(\"last_price\")).show(n=10)"
   ]
  },
  {
   "cell_type": "code",
   "execution_count": 19,
   "id": "601c18ba-e975-4cd2-aa36-fa49e28b63cf",
   "metadata": {
    "execution": {
     "iopub.execute_input": "2022-11-27T16:21:09.370788Z",
     "iopub.status.busy": "2022-11-27T16:21:09.370569Z",
     "iopub.status.idle": "2022-11-27T16:21:09.627009Z",
     "shell.execute_reply": "2022-11-27T16:21:09.626392Z",
     "shell.execute_reply.started": "2022-11-27T16:21:09.370764Z"
    },
    "tags": []
   },
   "outputs": [
    {
     "data": {
      "application/vnd.jupyter.widget-view+json": {
       "model_id": "456900902d794298b1ed2641f7227d85",
       "version_major": 2,
       "version_minor": 0
      },
      "text/plain": [
       "VBox()"
      ]
     },
     "metadata": {},
     "output_type": "display_data"
    },
    {
     "data": {
      "application/vnd.jupyter.widget-view+json": {
       "model_id": "",
       "version_major": 2,
       "version_minor": 0
      },
      "text/plain": [
       "FloatProgress(value=0.0, bar_style='info', description='Progress:', layout=Layout(height='25px', width='50%'),…"
      ]
     },
     "metadata": {},
     "output_type": "display_data"
    }
   ],
   "source": [
    "df_price = df_price.withColumn('growth', (col(\"blended_price\") - col(\"last_price\")) / col(\"last_price\") * 100)\n",
    "#df_price.select(col(\"name\"), col(\"tdate\") ,col(\"blended_price\"), col(\"last_price\"), col(\"growth\"), col(\"std_dev\")).show(n=10)"
   ]
  },
  {
   "cell_type": "code",
   "execution_count": 20,
   "id": "baa42bcf-849b-4b2c-b1d1-ab8d1dceebad",
   "metadata": {
    "execution": {
     "iopub.execute_input": "2022-11-27T16:21:11.640398Z",
     "iopub.status.busy": "2022-11-27T16:21:11.640176Z",
     "iopub.status.idle": "2022-11-27T16:21:11.725337Z",
     "shell.execute_reply": "2022-11-27T16:21:11.724742Z",
     "shell.execute_reply.started": "2022-11-27T16:21:11.640375Z"
    },
    "tags": []
   },
   "outputs": [
    {
     "data": {
      "application/vnd.jupyter.widget-view+json": {
       "model_id": "9adf3f4ca5d94735831227949e6c60b8",
       "version_major": 2,
       "version_minor": 0
      },
      "text/plain": [
       "VBox()"
      ]
     },
     "metadata": {},
     "output_type": "display_data"
    },
    {
     "data": {
      "application/vnd.jupyter.widget-view+json": {
       "model_id": "",
       "version_major": 2,
       "version_minor": 0
      },
      "text/plain": [
       "FloatProgress(value=0.0, bar_style='info', description='Progress:', layout=Layout(height='25px', width='50%'),…"
      ]
     },
     "metadata": {},
     "output_type": "display_data"
    }
   ],
   "source": [
    "df_price = df_price.withColumn('volume_growth', (col(\"current_volume\") - col(\"historic_volume\")) / col(\"historic_volume\") * 100)\n",
    "#df_price.select(col(\"name\"), col(\"tdate\") ,col(\"blended_price\"), col(\"last_price\"), col(\"growth\"), col(\"std_dev\")).show(n=10)\n"
   ]
  },
  {
   "cell_type": "code",
   "execution_count": 21,
   "id": "b4f1242c-18ce-49d6-8b06-2de8c94673ea",
   "metadata": {
    "execution": {
     "iopub.execute_input": "2022-11-27T16:21:12.652514Z",
     "iopub.status.busy": "2022-11-27T16:21:12.652289Z",
     "iopub.status.idle": "2022-11-27T16:21:12.915231Z",
     "shell.execute_reply": "2022-11-27T16:21:12.914505Z",
     "shell.execute_reply.started": "2022-11-27T16:21:12.652490Z"
    },
    "tags": []
   },
   "outputs": [
    {
     "data": {
      "application/vnd.jupyter.widget-view+json": {
       "model_id": "c02df5c0155a4851bce089668ef0adb8",
       "version_major": 2,
       "version_minor": 0
      },
      "text/plain": [
       "VBox()"
      ]
     },
     "metadata": {},
     "output_type": "display_data"
    },
    {
     "data": {
      "application/vnd.jupyter.widget-view+json": {
       "model_id": "",
       "version_major": 2,
       "version_minor": 0
      },
      "text/plain": [
       "FloatProgress(value=0.0, bar_style='info', description='Progress:', layout=Layout(height='25px', width='50%'),…"
      ]
     },
     "metadata": {},
     "output_type": "display_data"
    }
   ],
   "source": [
    "df_price = df_price.filter(df_price.volume_growth > 3)\n",
    "last_n_rows = Window.partitionBy('tdate').orderBy(col('growth').desc(), col('std_dev'))\n",
    "df_price = df_price.withColumn(\"row\",row_number().over(last_n_rows)).filter(col(\"row\") <= 20).drop(\"row\")"
   ]
  },
  {
   "cell_type": "code",
   "execution_count": 22,
   "id": "db54f71c-2b39-48f9-b24b-7c490ea10232",
   "metadata": {
    "execution": {
     "iopub.execute_input": "2022-11-27T16:21:15.449694Z",
     "iopub.status.busy": "2022-11-27T16:21:15.449470Z",
     "iopub.status.idle": "2022-11-27T16:21:15.719083Z",
     "shell.execute_reply": "2022-11-27T16:21:15.718484Z",
     "shell.execute_reply.started": "2022-11-27T16:21:15.449671Z"
    },
    "tags": []
   },
   "outputs": [
    {
     "data": {
      "application/vnd.jupyter.widget-view+json": {
       "model_id": "b0c23617000340088d665a834a41e41d",
       "version_major": 2,
       "version_minor": 0
      },
      "text/plain": [
       "VBox()"
      ]
     },
     "metadata": {},
     "output_type": "display_data"
    },
    {
     "data": {
      "application/vnd.jupyter.widget-view+json": {
       "model_id": "",
       "version_major": 2,
       "version_minor": 0
      },
      "text/plain": [
       "FloatProgress(value=0.0, bar_style='info', description='Progress:', layout=Layout(height='25px', width='50%'),…"
      ]
     },
     "metadata": {},
     "output_type": "display_data"
    }
   ],
   "source": [
    "\n",
    "df_rebalance_dates = df_price.select(col(\"tdate\")).dropDuplicates().orderBy(col('tdate'))\n",
    "df_rebalance_dates = df_rebalance_dates.withColumn(\"index\", row_number().over(Window.orderBy(monotonically_increasing_id()))).filter(col(\"index\") % rebalance_frequency == 0)\n",
    "df_rebalance_dates = df_rebalance_dates.drop(col('index'))\n",
    "#df_rebalance_dates.show(n=50)\n",
    "\n"
   ]
  },
  {
   "cell_type": "code",
   "execution_count": 23,
   "id": "321e11a4-c47a-436a-8710-7899da1f3768",
   "metadata": {
    "execution": {
     "iopub.execute_input": "2022-11-27T16:21:20.715422Z",
     "iopub.status.busy": "2022-11-27T16:21:20.715184Z",
     "iopub.status.idle": "2022-11-27T16:21:20.981505Z",
     "shell.execute_reply": "2022-11-27T16:21:20.980791Z",
     "shell.execute_reply.started": "2022-11-27T16:21:20.715399Z"
    },
    "tags": []
   },
   "outputs": [
    {
     "data": {
      "application/vnd.jupyter.widget-view+json": {
       "model_id": "f0be5e73732a45c0807b13422ede4455",
       "version_major": 2,
       "version_minor": 0
      },
      "text/plain": [
       "VBox()"
      ]
     },
     "metadata": {},
     "output_type": "display_data"
    },
    {
     "data": {
      "application/vnd.jupyter.widget-view+json": {
       "model_id": "",
       "version_major": 2,
       "version_minor": 0
      },
      "text/plain": [
       "FloatProgress(value=0.0, bar_style='info', description='Progress:', layout=Layout(height='25px', width='50%'),…"
      ]
     },
     "metadata": {},
     "output_type": "display_data"
    }
   ],
   "source": [
    "df_portfolio_log = df_price.join(df_rebalance_dates,df_price.tdate ==  df_rebalance_dates.tdate,\"inner\")\n",
    "#df_portfolio_log.count()"
   ]
  },
  {
   "cell_type": "code",
   "execution_count": 24,
   "id": "c6fc97af-feb3-40fe-bba9-34ade6b5f9eb",
   "metadata": {
    "execution": {
     "iopub.execute_input": "2022-11-27T16:21:23.455438Z",
     "iopub.status.busy": "2022-11-27T16:21:23.455200Z",
     "iopub.status.idle": "2022-11-27T16:22:15.920919Z",
     "shell.execute_reply": "2022-11-27T16:22:15.914705Z",
     "shell.execute_reply.started": "2022-11-27T16:21:23.455414Z"
    },
    "tags": []
   },
   "outputs": [
    {
     "data": {
      "application/vnd.jupyter.widget-view+json": {
       "model_id": "7e2b7d7286ff48269b57c502da7c90cd",
       "version_major": 2,
       "version_minor": 0
      },
      "text/plain": [
       "VBox()"
      ]
     },
     "metadata": {},
     "output_type": "display_data"
    },
    {
     "data": {
      "application/vnd.jupyter.widget-view+json": {
       "model_id": "",
       "version_major": 2,
       "version_minor": 0
      },
      "text/plain": [
       "FloatProgress(value=0.0, bar_style='info', description='Progress:', layout=Layout(height='25px', width='50%'),…"
      ]
     },
     "metadata": {},
     "output_type": "display_data"
    },
    {
     "name": "stdout",
     "output_type": "stream",
     "text": [
      "+-----------+--------------------+-------------------+-----------------+---------------+--------------------+------------+-------------------+----------------+-----------------+------------------+--------------------+--------------------+-------------------+------------------+------------------+-------------------+\n",
      "|accord_code|                name|              tdate|        adj_close|     market_cap|              volume|no_of_trades|    delivery_volume|delivery_percent|    blended_price|        last_price|             std_dev|     historic_volume|     current_volume|            growth|     volume_growth|              tdate|\n",
      "+-----------+--------------------+-------------------+-----------------+---------------+--------------------+------------+-------------------+----------------+-----------------+------------------+--------------------+--------------------+-------------------+------------------+------------------+-------------------+\n",
      "|     131411|Tuni Textile Mill...|2010-12-20 00:00:00|           15.685|    204.8947235|              87.615|       157.0|                0.0|             0.0|           15.685|              0.05|   4.284907019605754|             20.6092|  72.74600000000001|           31270.0|252.97828154416476|2010-12-20 00:00:00|\n",
      "|     130039|Lords Chemicals Ltd.|2010-12-20 00:00:00|             55.3|        22.3412|  53.967000000000006|       243.0|  43.86299999999999|           81.28|             55.3|              0.65|   14.56519152170203|   49.99813207547172|  63.87179999999999| 8407.692307692307|27.748372486368282|2010-12-20 00:00:00|\n",
      "|     131822|  Rodium Realty Ltd.|2010-12-20 00:00:00|            228.1|      74.084599|              26.777|       204.0|                0.0|             0.0|            228.1|               2.9|   96.10122104848699|  16.681339622641513| 23.596200000000003|  7765.51724137931|41.452668273553876|2010-12-20 00:00:00|\n",
      "|     105285|Tulive Developers...|2010-12-20 00:00:00|            174.3|    60.73265625|                1.15|        16.0|               1.15|           100.0|            174.3|  3.34368980092854|   75.36129085385488|               0.695| 2.1100000000000003| 5112.804128887706|203.59712230215834|2010-12-20 00:00:00|\n",
      "|     112131|Signet Industries...|2010-12-20 00:00:00|           123.25|     359.729775|              14.203|       169.0|                0.0|             0.0|           123.25|  2.56944444444444|  28.895308077620523|   1.307772727272727|  4.364199999999999| 4696.756756756765|233.71241875499632|2010-12-20 00:00:00|\n",
      "|     112105|Proaim Enterprise...|2010-12-20 00:00:00|            360.0|         430.56|             818.021|       391.0|                0.0|             0.0|            360.0|            12.075|   107.0800073367786|   64.33273584905659| 433.83240000000006|2881.3664596273293| 574.3571437998498|2010-12-20 00:00:00|\n",
      "|     106194|Arihant Superstru...|2010-12-20 00:00:00| 52.7246758678377|   201.82115587|  14.876000000000001|        73.0|                0.0|             0.0| 52.7246758678377|  2.25809284818068|  25.161340124707227|  10.029930232558138| 18.245400000000004|2234.9206349206315| 81.90954051478488|2010-12-20 00:00:00|\n",
      "|     130165|Kanchan Internati...|2010-12-20 00:00:00|            188.8|      60.606688|             226.155|       999.0|            226.155|           100.0|            188.8|             10.45|   62.12671945738814|   81.38499999999999|           213.6026|1706.6985645933016|162.45942126927568|2010-12-20 00:00:00|\n",
      "|     131760|Fusion Fittings (...|2010-12-20 00:00:00|           160.65|      47.170053|                 0.1|         1.0|                0.1|           100.0|           160.65|              10.0|  61.606457851264196|   2.603999999999999|               2.92|1506.5000000000002|12.135176651305715|2010-12-20 00:00:00|\n",
      "|     105525|Parichay Investme...|2010-12-20 00:00:00|           144.35|         17.322|               256.2|      1821.0|                0.0|             0.0|           144.35|               9.0|   30.24621725060862|  254.93958333333327| 350.24000000000007|1503.8888888888887| 37.38156916262846|2010-12-20 00:00:00|\n",
      "|     109130|   Dunlop India Ltd.|2010-12-20 00:00:00|             80.8|      581.62163|             634.407|      7692.0| 144.99599999999998|           22.86|             80.8|               5.5|  20.708571353515158|  141.90428301886794| 181.57160000000002| 1369.090909090909|27.953572744423656|2010-12-20 00:00:00|\n",
      "|     114446|  LS Industries Ltd.|2010-12-20 00:00:00|             77.0|    1307.180798|  1.7000000000000002|         9.0|                0.0|             0.0|             77.0|              5.56|  21.396876674043085|  1.9535849056603771| 3.4800000000000004|1284.8920863309352|  78.1340544717018|2010-12-20 00:00:00|\n",
      "|     113403|   PM Telelinks Ltd.|2010-12-20 00:00:00|             48.9|       49.26675|             199.075|       726.0|                0.0|             0.0|             48.9|               3.7|  17.414804826376425|   223.2067169811321|           239.6232|1221.6216216216214| 7.354833779601533|2010-12-20 00:00:00|\n",
      "|     131447|Rockon Enterprise...|2010-12-20 00:00:00|             50.6|     83.5795114|             155.205|       277.0|                0.0|             0.0|             50.6|               5.2|   12.43705378381393|  141.75809433962263| 157.41000000000003|  873.076923076923|11.041278265831307|2010-12-20 00:00:00|\n",
      "|     132140|Mohite Industries...|2010-12-20 00:00:00|            228.5|     459.278145|  501.65200000000004|       657.0|                0.0|             0.0|            228.5|              26.0|   90.90849975868295|   70.50824528301888|           217.6942| 778.8461538461538|208.74998963054497|2010-12-20 00:00:00|\n",
      "|     106128|     Parnax Lab Ltd.|2010-12-20 00:00:00|             72.7|         23.264|   3.499999999999999|         9.0|                0.0|             0.0|             72.7|               8.4|  31.510106634359325|   6.677083333333333| 31.119999999999997| 765.4761904761904| 366.0717628705148|2010-12-20 00:00:00|\n",
      "|     130393|DB (International...|2010-12-20 00:00:00|            80.25|        280.875|             443.634|       799.0|                0.0|             0.0|            80.25|             10.03|   21.24996379233661|   96.69601886792454|           338.1944| 700.0997008973081|249.75007653824304|2010-12-20 00:00:00|\n",
      "|     111176|Parshwanath Corpo...|2010-12-20 00:00:00| 51.2083333333333|         18.435|                 0.2|         2.0|                0.2|           100.0| 51.2083333333333|  6.40833333333333|  14.460052051977959|  0.8584905660377361|               3.78| 699.0897269180754|340.30769230769215|2010-12-20 00:00:00|\n",
      "|     108860|Diamant Infrastru...|2010-12-20 00:00:00|            48.75|       171.6195|             119.709|       403.0|             96.595|           80.69|            48.75|            6.2025|  13.872676337383227|   35.72005660377359|             80.938| 685.9733978234583|126.58978651072302|2010-12-20 00:00:00|\n",
      "|     121080|Pasari Spinning M...|2010-12-20 00:00:00|             26.3|          31.56|             428.303|       804.0|                0.0|             0.0|             26.3|              3.91|   9.753341978689438|  236.65633962264155| 489.00699999999995| 572.6342710997442|106.63169251233333|2010-12-20 00:00:00|\n",
      "|     113418|Smiths & Founders...|2014-12-15 00:00:00|             6.87|   36.519728055|              76.049|       383.0|             68.742|           90.39|             6.87|              0.09|  1.4853174246467862|  19.216905660377357|            23.1632| 7533.333333333334|20.535534749277375|2014-12-15 00:00:00|\n",
      "|     109024|Golden Legand Lea...|2014-12-15 00:00:00|           266.55|      396.35985|             127.386|       178.0|            127.386|           100.0|           266.55|               4.0|  115.70220009836285|  36.388849056603775|           211.9708|           6563.75| 482.5158132104538|2014-12-15 00:00:00|\n",
      "|     112381|Starteck Finance ...|2014-12-15 00:00:00|            104.0|     103.067432|               2.481|        12.0|              2.481|           100.0|            104.0|               2.1|   28.85239222313959| 0.22422727272727275|             0.7404| 4852.380952380952|230.20068923575914|2014-12-15 00:00:00|\n",
      "|     101314|Prismx Global Ven...|2014-12-15 00:00:00|             47.8|        1357.04|                 0.0|         4.0|                0.0|             0.0|             47.8|              1.06|  14.560204525141586|0.029090909090909098|              0.068|  4409.43396226415|133.74999999999997|2014-12-15 00:00:00|\n",
      "|     206168| Suchak Trading Ltd.|2014-12-15 00:00:00|            163.6|     191.843086|             953.251|      4699.0|            825.141|           86.56|            163.6|              3.65|   59.87604158612376|   77.73179245283019|           788.5696| 4382.191780821918| 914.4749980884924|2014-12-15 00:00:00|\n",
      "|     103641|Zodiac Ventures Ltd.|2014-12-15 00:00:00|             88.5|       330.0165|              217.72|       389.0|             217.72|           100.0|             88.5|             2.135|  26.537014961415863|   77.53867924528302|           377.6198|4045.1990632318507| 387.0082953121388|2014-12-15 00:00:00|\n",
      "|     109762|Mapro Industries ...|2014-12-15 00:00:00|            397.0|    333.0403225|              43.546|       173.0|             43.546|           100.0|            397.0|              12.9|   160.4054298141452|   9.006415094339623|             69.572|2977.5193798449613| 672.4716135249507|2014-12-15 00:00:00|\n",
      "|     124502|Raaj Medisafe Ind...|2014-12-15 00:00:00|             7.23|        3.64392|                 1.0|        10.0|                1.0|           100.0|             7.23|              0.25|  1.8642443809104448|  1.0867924528301889|               4.04|            2792.0|271.73611111111103|2014-12-15 00:00:00|\n",
      "|     105592|Shreekrishna Biot...|2014-12-15 00:00:00|           337.15|    332.1433225|               2.841|       100.0|              2.841|           100.0|           337.15|             11.93|   81.90243980318466|  0.2858611111111111|               0.89| 2726.068734283319| 211.3400058303372|2014-12-15 00:00:00|\n",
      "|     103624|Svaraj Trading & ...|2014-12-15 00:00:00|           196.25|      289.46875|              83.576|       517.0|             83.576|           100.0|           196.25|              7.71|   72.30044021610568|   82.97194339622641|           232.1826|2445.3955901426716|179.83266450832554|2014-12-15 00:00:00|\n",
      "|     111064|Aplaya Creations ...|2014-12-15 00:00:00|            40.13|       577.0694|             304.211|      1129.0|            304.211|           100.0|            40.13|             1.605|  12.656274441005374|  54.482615384615386| 349.65979999999996| 2400.311526479751| 541.7823328259967|2014-12-15 00:00:00|\n",
      "|     111246| Bombay Talkies Ltd.|2014-12-15 00:00:00|             6.37|         34.398|              10.319|        52.0|             10.319|           100.0|             6.37|              0.27|  1.3887931349027383|   5.701471698113208|            35.8516|2259.2592592592587| 528.8130836791559|2014-12-15 00:00:00|\n",
      "|     131737|Greencrest Financ...|2014-12-15 00:00:00|            68.45|     2501.90226|            1517.058|      2868.0|           1517.058|           100.0|            68.45|              2.95|  24.646912954334052|   713.5343396226414|          1988.4316| 2220.338983050847|178.67356756110698|2014-12-15 00:00:00|\n",
      "|     104382|Simplex Trading &...|2014-12-15 00:00:00|            87.31|         436.55|               1.237|       106.0|              1.237|           100.0|            87.31|             4.015|  25.410201981677304|  1.7804905660377355|  4.000800000000001|2074.5952677459527|124.70211728800638|2014-12-15 00:00:00|\n",
      "|     124622|iStreet Network Ltd.|2014-12-15 00:00:00|             37.0|        74.0925|   76.19599999999998|       582.0|  76.19599999999998|           100.0|             37.0|              1.78|   9.872503498432412|   33.73813207547169|           120.7748|1978.6516853932583|257.97713913096493|2014-12-15 00:00:00|\n",
      "|     131699|Super Domestic Ma...|2014-12-15 00:00:00|            82.65|      35.782491|                72.7|       148.0|               72.7|           100.0|            82.65|               4.0|  15.910053299995832|   7.113207547169812|              38.42|1966.2500000000002| 440.1220159151194|2014-12-15 00:00:00|\n",
      "|     112319|Rajlaxmi Industri...|2014-12-15 00:00:00|            28.85|         894.35|             603.923|       939.0|              600.3|            99.4|            28.85|              1.84|  12.006938506384518|  242.60193750000005|           618.5928|1467.9347826086957| 154.9826297244637|2014-12-15 00:00:00|\n",
      "|     132143|SKM Egg Products ...|2014-12-15 00:00:00|           105.85|      278.70305|             656.395|      7204.0|             365.77|           55.72|           105.85|              7.15|   34.51410070793956|   322.9507169811321|             845.95|1380.4195804195801|161.94399192166014|2014-12-15 00:00:00|\n",
      "|     116064|Arrow Greentech Ltd.|2014-12-15 00:00:00| 408.793926321556|   514.97281902|             119.124|      4856.0|  80.62899999999999|           67.68| 408.793926321556|   28.237674609696|   92.57551051801346|   75.64013207547171|            82.9242| 1347.689768976897| 9.629898474080449|2014-12-15 00:00:00|\n",
      "|     114394|Atlas Jewellery I...|2014-12-15 00:00:00|           172.45| 1735.787421585| 0.44699999999999995|        36.0|0.44699999999999995|           100.0|           172.45|              12.4|   46.19628037948353|   12.84843396226415|  41.57340000000001|1290.7258064516127|223.56783808907048|2014-12-15 00:00:00|\n",
      "|     248008| TTI Enterprise Ltd.|2021-12-06 00:00:00|             42.7|   108.47688194|  134.90800000000002|      1614.0| 134.90800000000002|           100.0|             42.7|              0.89|   15.38643105686417|   58.34694339622641| 151.02280000000002| 4697.752808988764|158.83583819365495|2021-12-06 00:00:00|\n",
      "|     132368|Brightcom Group Ltd.|2021-12-06 00:00:00|            160.7| 16739.04430268|            5399.376|     18472.0| 407.10800000000006|            7.54|            160.7|               4.0|   37.88815014497062|   29610.57433962264|         41270.2884|3917.4999999999995| 39.37685884321132|2021-12-06 00:00:00|\n",
      "|     114113|Adinath Textiles ...|2021-12-06 00:00:00|            55.25|    27.70428375|             179.179|      2562.0|            179.179|           100.0|            55.25|              1.44|  23.767526006146078|  28.862471698113204| 119.75259999999999|3736.8055555555557| 314.9076394168572|2021-12-06 00:00:00|\n",
      "|     131273|Radhe Developers ...|2021-12-06 00:00:00|          16.9275|    852.4655145|   777.5150000000001|      8361.0|  777.5150000000001|           100.0|          16.9275|             0.463|    4.41228948393255|              148.66|             586.46|3556.0475161987038|294.49751109915246|2021-12-06 00:00:00|\n",
      "|     104882|National Standard...|2021-12-06 00:00:00|          13591.4|        27182.8|               3.136|      1039.0|              3.136|           100.0|          13591.4|            423.85|   4508.553180170671|  0.4237547169811321|             0.9972|3106.6532971570127|135.32481410570372|2021-12-06 00:00:00|\n",
      "|     130557|NCL Research & Fi...|2021-12-06 00:00:00| 1.46739130434783|        94.2354|           85082.528|     72884.0|          85082.528|           100.0| 1.46739130434783| 0.047554347826087| 0.37012944216255445|   4254.883943396228| 31778.189800000004|2985.7142857142912|   646.86384453144|2021-12-06 00:00:00|\n",
      "|     274098|Chennai Ferrous I...|2021-12-06 00:00:00|            128.2|    46.20980538|              32.033|       745.0|             32.033|           100.0|            128.2|              4.73|   58.18175128245263|   6.513037735849057| 27.491200000000003| 2610.359408033826|322.09489818680095|2021-12-06 00:00:00|\n",
      "|     190013|     Xpro India Ltd.|2021-12-06 00:00:00| 626.533333333333|     1110.23273|             486.713|     15861.0|            207.722|           42.68| 626.533333333333|  23.4333333333333|   172.8154771858557|   310.3376603773585|  518.8534000000001|2573.6842105263177| 67.18995669719705|2021-12-06 00:00:00|\n",
      "|     114316|Raghuvir Syntheti...|2021-12-06 00:00:00|            600.4|        2326.55|               38.65|       382.0|              38.65|           100.0|            600.4|             23.57|  117.07021781168791|  13.532886792452828|  94.39259999999999|2447.3058973271104| 597.5052806371062|2021-12-06 00:00:00|\n",
      "|     274155|Gita Renewable En...|2021-12-06 00:00:00|           149.35|    61.41714076|               7.147|       114.0|              7.147|           100.0|           149.35|               6.7|   83.28375067887364|   9.890754716981135|            12.5902|  2129.10447761194| 27.29261173956997|2021-12-06 00:00:00|\n",
      "|     123100| Cosmo Ferrites Ltd.|2021-12-06 00:00:00|            246.5|       296.5395|             119.699|      1206.0|            119.699|           100.0|            246.5|              11.5|   68.06751836245554|  105.96811320754716| 182.03719999999998|2043.4782608695652| 71.78488366917068|2021-12-06 00:00:00|\n",
      "|     132731|Rohit Ferro-Tech ...|2021-12-06 00:00:00|             20.8|   236.65433584|            1580.206|      4846.0| 359.06000000000006|           22.72|             20.8|               1.0|   5.590885666861102|   392.6546603773585|          1514.3184|            1980.0|285.66163930021185|2021-12-06 00:00:00|\n",
      "|     109051|Indian Infotech &...|2021-12-06 00:00:00|              4.1|    411.4108141|           67816.538|     92268.0|          67816.538|           100.0|              4.1|              0.21|  0.9057129595886925|  17035.338924528303|          37162.064|1852.3809523809523|118.14690135980955|2021-12-06 00:00:00|\n",
      "|     246197|Jindal Poly Inves...|2021-12-06 00:00:00|            368.2|   387.04922578|             309.713|      3477.0|              42.66|           13.77|            368.2|             19.25|  100.33579904876783|   42.36801886792453|           171.1828|1812.7272727272725|304.03777324031773|2021-12-06 00:00:00|\n",
      "|     131310|Available Finance...|2021-12-06 00:00:00|             90.5|      92.343485|              53.412|       592.0|             44.022|           82.42|             90.5|              4.85|  31.956351395063248|  41.457962264150936|  86.28279999999998|1765.9793814432992|108.12117935330718|2021-12-06 00:00:00|\n",
      "|     132371|Tata Teleservices...|2021-12-06 00:00:00|           148.25|28981.803552775|   57039.26499999999|    280741.0|          31316.127|            54.9|           148.25|               8.0|  29.128681768945825|   25164.86932075472|         63427.3216|          1753.125|152.04709307863698|2021-12-06 00:00:00|\n",
      "|     112379|Cressanda Solutio...|2021-12-06 00:00:00|             5.69|    172.7355975|           20190.025|     14785.0|          20190.025|           100.0|             5.69|              0.31|  1.1863269777397831|  1101.4633773584906|  6742.958199999999|1735.4838709677424| 512.1817882107746|2021-12-06 00:00:00|\n",
      "|     111525|Pan India Corpora...|2021-12-06 00:00:00|             3.81|     81.6317265|            2094.143|      2125.0|           2094.143|           100.0|             3.81|              0.21|    0.75916815296102|   839.5813773584905| 2642.1449999999995|1714.2857142857142|214.69790436667074|2021-12-06 00:00:00|\n",
      "|     113502|Baroda Extrusion ...|2021-12-06 00:00:00|             5.68|      84.659832|            1819.991|      2588.0| 1701.7959999999998|           93.51|             5.68|              0.33|   1.189008868758129|   813.1779056603771| 1844.8120000000004| 1621.212121212121|126.86450125595077|2021-12-06 00:00:00|\n",
      "|     254723|JITF Infralogisti...|2021-12-06 00:00:00|            149.8|   385.04151588|   604.6419999999999|      4203.0|            198.956|            32.9|            149.8|               9.0|   86.87186554473239|  292.83954716981134|           377.7844|1564.4444444444446|  29.0073023439457|2021-12-06 00:00:00|\n",
      "|     220781|Dow Jones Composi...|1993-08-09 00:00:00|           1325.8|            0.0|           1249500.0|         0.0|                0.0|             0.0|           1325.8|           1158.28|  62.410252585564194|  1143556.9811320754|          1241840.0|14.462824187588492| 8.594501235139882|1993-08-09 00:00:00|\n",
      "|     112267|Media Matrix Worl...|2002-12-30 00:00:00|             48.6|       393.0039|               70.05|        28.0|                0.0|             0.0|             48.6|  4.37348214285714|   19.17689978566903|  14.819207547169809|            95.4274|1011.2426760304601| 543.9440145247501|2002-12-30 00:00:00|\n",
      "|     131482|Shree Yaax Pharma...|2002-12-30 00:00:00|            10.95|     26.7323445|                52.0|       448.0|                0.0|             0.0|            10.95|               1.0|   3.798114260624461|   551.7111304347826| 1277.9132000000002| 994.9999999999999|131.62722836367743|2002-12-30 00:00:00|\n",
      "|     131690| Seagull Leafin Ltd.|2002-12-30 00:00:00|             39.1|      684.94598|              61.775|       561.0|                0.0|             0.0|             39.1|             3.585|     14.270613313239|  16.628358490566036|            50.0204| 990.6555090655509|200.81381772216824|2002-12-30 00:00:00|\n",
      "|     131936|Blue Chip India Ltd.|2002-12-30 00:00:00|             10.6|     58.6226004|              33.277|       117.0| 16.650000000000002|           50.03|             10.6|               1.1|     2.4427589894229|   54.79356603773584|           301.8972| 863.6363636363635|450.97198782807106|2002-12-30 00:00:00|\n",
      "|     122205|Praj Industries Ltd.|2002-12-30 00:00:00|            2.815|    36.57615076|            1105.473|      3843.0|            339.182|           30.68|            2.815|             0.325|  0.9247349897903319|   273.1041132075472|           615.3302| 766.1538461538461| 125.3097519378538|2002-12-30 00:00:00|\n",
      "|     113117|Amforge Industrie...|2002-12-30 00:00:00|             19.4|    23.50666572|             151.897|      1078.0|                0.0|             0.0|             19.4|              2.65|   4.614866610384318|   89.39994339622642|           201.0366| 632.0754716981132|124.87329674135539|2002-12-30 00:00:00|\n",
      "|     112093|Cranes Software I...|2002-12-30 00:00:00|            11.59|     97.6160796|  19.572000000000003|       193.0|                0.0|             0.0|            11.59|               1.6|  3.2924209105007742|  19.580454545454547|           152.9128|           624.375| 680.9461197390717|2002-12-30 00:00:00|\n",
      "|     100138|Uniworth Textiles...|2002-12-30 00:00:00|              5.7|       13.01025|              13.874|        77.0|                0.0|             0.0|              5.7|              0.95|  2.2008207830291546|   6.348169811320755|  9.309000000000001|             500.0| 46.64068978430866|2002-12-30 00:00:00|\n",
      "|     123630|National Fertiliz...|2002-12-30 00:00:00|             38.5|     1888.72684|             390.759|      3736.0|                0.0|             0.0|             38.5|              7.25|   9.198126820726035|   87.39320754716978| 116.41280000000002|431.03448275862075| 33.20577567446205|2002-12-30 00:00:00|\n",
      "|     130207|  Brawn Biotech Ltd.|2002-12-30 00:00:00|             7.95|      2.3852385|               23.72|       124.0|                0.0|             0.0|             7.95|              1.55|   2.107761763499159|   2.181509433962264|              5.644| 412.9032258064516|  158.719944646255|2002-12-30 00:00:00|\n",
      "|     124394|     Vimta Labs Ltd.|2002-12-30 00:00:00|             5.48|     9.88762976|              75.941|       681.0|                0.0|             0.0|             5.48|              1.07|  1.1620587556246662|  12.797622641509436|              39.21|412.14953271028037|206.38503023851715|2002-12-30 00:00:00|\n",
      "|     100048|           BEML Ltd.|2002-12-30 00:00:00|             79.0|      290.28155|            6990.675|     20965.0|  897.9459999999999|           12.84|             79.0|              17.4|  21.361178086549508|   4889.447566037737|  7765.013000000001| 354.0229885057472|58.811663181256634|2002-12-30 00:00:00|\n",
      "|     131845|Zenith Steel Pipe...|2002-12-30 00:00:00| 3.16666666666667|    12.90514428|   8.626999999999999|        84.0|                0.0|             0.0| 3.16666666666667| 0.708333333333333|  1.2671984487692274|   9.878490566037737| 15.527199999999999|347.05882352941245| 57.18190847276337|2002-12-30 00:00:00|\n",
      "|     100136|Ester Industries ...|2002-12-30 00:00:00|             7.35|      30.002994|  30.191000000000003|       149.0|                0.0|             0.0|             7.35|              1.65|   2.130460200903611|   36.22232075471698|             37.558|345.45454545454544| 3.687448008446785|2002-12-30 00:00:00|\n",
      "|     100265|Maharashtra Seaml...|2002-12-30 00:00:00|             37.1|    427.7267904|   529.1560000000001|      1262.0| 45.751000000000005|            8.65|             37.1|             8.375|   10.79255214419629|  160.20981132075474|           570.0856| 342.9850746268657|255.83688370909837|2002-12-30 00:00:00|\n",
      "|     121200|Suryalakshmi Cott...|2002-12-30 00:00:00|            7.275|    13.02296586|  1.3250000000000002|         4.0|                0.0|             0.0|            7.275|              1.75|   1.833591745763114|   2.612169811320755|  6.820600000000001| 315.7142857142857|161.10859908266818|2002-12-30 00:00:00|\n",
      "|     106142|Vyapar Industries...|2002-12-30 00:00:00|0.442222222222222|         0.2388|                0.05|         1.0|                0.0|             0.0|0.442222222222222| 0.106666666666667| 0.13891584923515474|  0.3083333333333333|               0.33| 314.5833333333318| 7.027027027027047|2002-12-30 00:00:00|\n",
      "|     108814|    Cosmo Films Ltd.|2002-12-30 00:00:00| 52.9833333333333|  134.896175975|            2112.125|      7102.0|            500.513|            23.7| 52.9833333333333|              12.8|  14.195736261127308|   451.5087358490566|  864.5404000000001|313.93229166666634| 91.47811135353616|2002-12-30 00:00:00|\n",
      "|     112527|Super Sales India...|2002-12-30 00:00:00|             10.2|        3.13293|  44.190999999999995|        69.0|                0.0|             0.0|             10.2|               2.5|  3.1104565791253367|  15.377547169811313|            32.5404|307.99999999999994|111.60982073839594|2002-12-30 00:00:00|\n",
      "|     124802|Veronica Laborato...|2002-12-30 00:00:00|            32.45|   31.797102755|  1617.5189999999998|     11411.0|                0.0|             0.0|            32.45|               8.0|   7.999293328730425|   820.9246792452832|          1697.0318|305.62500000000006| 106.7219859390956|2002-12-30 00:00:00|\n",
      "|     108939|Exotica Ventures ...|2011-12-19 00:00:00|            725.0|      1475.1575|              670.73|      2106.0|            590.949|           88.11|            725.0|              3.37|   255.2888066530184|    174.003358490566| 1040.5133999999998|21413.353115727004|497.98466479393477|2011-12-19 00:00:00|\n",
      "|     124031|Patidar Buildcon ...|2011-12-19 00:00:00|            41.05|     2.05483985|                 0.5|         5.0|                0.5|           100.0|            41.05|               1.0|   19.10420360125214|  0.2857142857142857|               0.36|4004.9999999999995|              26.0|2011-12-19 00:00:00|\n",
      "|     131295|Sunlake Resorts a...|2011-12-19 00:00:00|            34.12|     27.3662872|                34.2|        46.0|               34.2|           100.0|            34.12|              1.25|   9.388340254197871|   8.167924528301885|               36.8|            2629.6| 350.5428505428506|2011-12-19 00:00:00|\n",
      "|     103675|Wagend Infra Vent...|2011-12-19 00:00:00|             32.6|       140.2452|   7.995000000000001|        35.0|  7.995000000000001|           100.0|             32.6|               1.2|   9.864491084102156|   1.504754716981132|             5.0238| 2616.666666666667|  233.861721336142|2011-12-19 00:00:00|\n",
      "|     130967|Kyra Landscapes Ltd.|2011-12-19 00:00:00|             26.2|         97.595|   73.69999999999999|       236.0|  73.69999999999999|           100.0|             26.2|               1.5|   6.267347077256249|   3.271698113207548|              22.38|1646.6666666666665| 584.0484429065742|2011-12-19 00:00:00|\n",
      "|     109895|Hindoostan Mills ...|2011-12-19 00:00:00|            332.0|     55.2629936|  0.9600000000000001|        49.0| 0.9600000000000001|           100.0|            332.0|  19.6666666666667|  169.81691889613654|  0.7308604651162791| 1.5000000000000002|1588.1355932203362|105.23753460400293|2011-12-19 00:00:00|\n",
      "|     121036|Source Industries...|2011-12-19 00:00:00|            15.82|    12.29706002|               0.138|        11.0|              0.138|           100.0|            15.82|               1.0|   7.794270789679889|  2.1437500000000003|               3.37|            1482.0|   57.201166180758|2011-12-19 00:00:00|\n",
      "|     131055|GFL Financial Ind...|2011-12-19 00:00:00|              7.5|          11.25|   744.0120000000001|        90.0|  744.0120000000001|           100.0|              7.5|               0.6|   8.271388997487083|   143.7146226415094|           660.6478|1150.0000000000002|359.69421055222784|2011-12-19 00:00:00|\n",
      "|     126538|Maximaa Systems Ltd.|2011-12-19 00:00:00|             6.83|   34.311362165|             131.703|       237.0|            105.981|           80.47|             6.83|             0.548|  1.6386317702200384|   48.07775471698113|           192.5968|1146.3503649635036|300.59441447246815|2011-12-19 00:00:00|\n",
      "|     130971|Nimbus Industries...|2011-12-19 00:00:00|             46.9|      35.744366|               197.2|       350.0|              197.2|           100.0|             46.9|             3.825|  15.014117926167717|   28.23396226415094|             181.44|1126.1437908496732| 542.6303127506015|2011-12-19 00:00:00|\n",
      "|     206169| Tilak Ventures Ltd.|2011-12-19 00:00:00|             48.1|        587.782|   859.3050000000001|       674.0|  859.3050000000001|           100.0|             48.1|              4.45|  13.413922568300443|  205.18867924528303|  733.9793999999999| 980.8988764044942| 257.7095006896551|2011-12-19 00:00:00|\n",
      "|     131648|Mahavir Industrie...|2011-12-19 00:00:00|           10.675|    13.46414265|                 0.4|         4.0|                0.4|           100.0|           10.675|             1.375|  2.9558148392002437| 0.29090909090909095|               0.32| 676.3636363636365| 9.999999999999986|2011-12-19 00:00:00|\n",
      "|     113430|Maitri Enterprise...|2011-12-19 00:00:00|             7.54|         3.5815|  2.5000000000000004|        12.0| 2.5000000000000004|           100.0|             7.54|               1.0|   3.585237257208537|                 1.4|                2.3|             654.0| 64.28571428571428|2011-12-19 00:00:00|\n",
      "|     126532|Square Four Proje...|2011-12-19 00:00:00|             41.0|       40.21649|                 0.5|         4.0|                0.5|           100.0|             41.0|              5.55|  12.052413037002747|  0.8358490566037738|               1.18| 638.7387387387388| 41.17381489841981|2011-12-19 00:00:00|\n",
      "|     131401|Khodiyar Industri...|2011-12-19 00:00:00|             5.15|    3.263181625|             314.357|       446.0|            314.357|           100.0|             5.15|               0.7|  1.7350722014564854|  184.52818867924523|           293.4578| 635.7142857142858|59.031420673673274|2011-12-19 00:00:00|\n",
      "|     112465|Santowin Corporat...|2011-12-19 00:00:00|             42.8|       422.1364|   884.6410000000001|       655.0|            777.179|           87.85|             42.8|              7.37|  12.115948007381087|             164.216|            384.845| 480.7327001356852| 134.3529254153067|2011-12-19 00:00:00|\n",
      "|     131695|Veronica Producti...|2011-12-19 00:00:00|              9.2|    18.76849956|             778.758|      1149.0|            478.274|           61.41|              9.2|  1.63333333333333|    5.37512760243521|   186.9607169811321|  558.1605999999999|463.26530612245006|198.54431936968285|2011-12-19 00:00:00|\n",
      "|     123862|Pacheli Industria...|2011-12-19 00:00:00|             7.88|      2.9408554|                 0.4|         2.0|                0.4|           100.0|             7.88|               1.5|  3.5074457189952506|  3.4002452830188674|            14.9024| 425.3333333333333|338.27426434275003|2011-12-19 00:00:00|\n",
      "|     131720|Alpha Graphic Ind...|2011-12-19 00:00:00|             24.0|       95.60352|             236.013|       200.0|            236.013|           100.0|             24.0|               4.7|    7.47089777782271|   72.02960377358491|           204.3836|410.63829787234044| 183.7494436904742|2011-12-19 00:00:00|\n",
      "|     112481|  Polytex India Ltd.|2011-12-19 00:00:00|           127.05|       171.5175|             746.622|       431.0|             566.39|           75.86|           127.05|             26.25|   44.30360431333319|  242.01275471698114|  550.7302000000001|             384.0|127.56246902938848|2011-12-19 00:00:00|\n",
      "|     117431|Narmada Macplast ...|2020-12-07 00:00:00|             3.83|       1.387609|                14.9|        11.0|               14.9|           100.0|             3.83|               0.1|   1.187872651787649|   7.392452830188681|              13.88|3729.9999999999995| 87.75906074527818|2020-12-07 00:00:00|\n",
      "|     226691|Balaxi Pharmaceut...|2020-12-07 00:00:00|            643.6|          643.6|              13.234|      1406.0|              8.122|           61.37|            643.6|              17.6|  183.43483834419223|   12.44075471698113| 13.920399999999997| 3556.818181818181|11.893533123028382|2020-12-07 00:00:00|\n",
      "|     112020|Saraswati Commerc...|2020-12-07 00:00:00|            979.0|     97.9908512|               0.203|        64.0|0.14600000000000002|           71.92|            979.0|              31.6|   363.6845229000331| 0.09722641509433963|             0.2894|2998.1012658227846|197.65573452357847|2020-12-07 00:00:00|\n",
      "|     126707|      Alchemist Ltd.|2020-12-07 00:00:00|              9.5|       12.88181|              970.82|      2366.0|  826.3839999999999|           85.12|              9.5|              0.65|  2.2135644471493476|   213.3823018867924|           421.1572|1361.5384615384614|  97.3721326820442|2020-12-07 00:00:00|\n",
      "|     111153|   Anjani Foods Ltd.|2020-12-07 00:00:00|            21.19|     59.2237191|  17.948999999999998|       197.0| 17.948999999999998|           100.0|            21.19|             1.656|   5.046686307950625|  4.8226415094339625|            20.6632|1179.5893719806766| 328.4622848200313|2020-12-07 00:00:00|\n",
      "|     132790|Tanla Platforms Ltd.|2020-12-07 00:00:00|            859.7|  11695.0536065|            3873.101|    130637.0|           1845.762|           47.66|            859.7|              68.4|    177.706446124485|   2520.597698113207|          6656.5534|1156.8713450292398|164.08630798095075|2020-12-07 00:00:00|\n",
      "|     131637|Praveg Communicat...|2020-12-07 00:00:00|             47.1|      87.060111|              68.687|       467.0|             51.377|            74.8|             47.1|              4.63|   22.82823868895842|  31.696320754716982|            34.5068|  917.278617710583| 8.866894258901537|2020-12-07 00:00:00|\n",
      "|     289554|Adani Green Energ...|2020-12-07 00:00:00|           1041.5|  162892.087262|   6150.860000000001|    335627.0|           3139.709|           51.05|           1041.5|            132.65|  298.68637865173895|   8779.774886792455|         20509.0772| 685.1488880512627|133.59456779298645|2020-12-07 00:00:00|\n",
      "|     130665|Zenith Health Car...|2020-12-07 00:00:00|             9.41|      50.568399|  507.49699999999996|       557.0| 507.49699999999996|           100.0|             9.41|               1.2|  1.9713043724606398|  342.68709433962266|           359.9076| 684.1666666666667|  5.02513982721241|2020-12-07 00:00:00|\n",
      "|     285838|Classic Leasing &...|2020-12-07 00:00:00|            18.28|      5.4843656|               0.822|        29.0|              0.822|           100.0|            18.28|               2.5|   4.977364664157128|  0.9187200000000001|             1.3088|             631.2| 42.45907349355623|2020-12-07 00:00:00|\n",
      "|     131260|Sunedison Infrast...|2020-12-07 00:00:00|            38.95|     17.4881605|              29.181|       138.0|             29.181|           100.0|            38.95|              5.55|  12.019450653004071|  11.712319999999998| 26.995800000000003|  601.801801801802|130.49062867134785|2020-12-07 00:00:00|\n",
      "|     124572|Pharmaids Pharmac...|2020-12-07 00:00:00|            17.13|   17.663143842|   52.69200000000001|       168.0|  52.69200000000001|           100.0|            17.13|              2.47|   3.362994294388988|    9.44754716981132|            35.2328| 593.5222672064776|272.93065984981627|2020-12-07 00:00:00|\n",
      "|     246727|Integra Garments ...|2020-12-07 00:00:00|0.437994445424275|    4.904867115|             102.586|        62.0|             102.27|           99.69|0.437994445424275|0.0648880659887815| 0.25859018367426956|  26.168754716981134|              63.79| 574.9999999999999|143.76398758709794|2020-12-07 00:00:00|\n",
      "|     273610|Karda Constructio...|2020-12-07 00:00:00|           12.525|       770.2875|             349.728|      3220.0|            228.474|           65.33|           12.525|             1.881|  3.3959765698315265|  307.32439622641505| 406.09180000000003| 565.8692185007975| 32.13783382846707|2020-12-07 00:00:00|\n",
      "|     114360|K&R Rail Engineer...|2020-12-07 00:00:00|             13.3|    20.98753965|  17.137999999999998|        37.0| 17.137999999999998|           100.0|             13.3|               2.0|  10.977853378692206|  16.090245283018866| 55.330999999999996|             565.0| 243.8791580038533|2020-12-07 00:00:00|\n",
      "|     131541|   Kobo Biotech Ltd.|2020-12-07 00:00:00|             9.01|      21.466325|  52.275999999999996|       113.0| 52.275999999999996|           100.0|             9.01|              1.37|  1.9514379350914002|  10.464584905660379|            14.9708| 557.6642335766422| 43.06157516006366|2020-12-07 00:00:00|\n",
      "|     124348|    Aarti Drugs Ltd.|2020-12-07 00:00:00|           787.45|       7339.034|              5834.4|    218324.0|           2044.049|           35.03|           787.45|          125.9625|  268.03950334774817|  1668.0759056603772|          3786.4894|  525.146372928451|126.99742782394313|2020-12-07 00:00:00|\n",
      "|     126953| Venus Remedies Ltd.|2020-12-07 00:00:00|           142.65|   176.05845882|  469.85300000000007|      7840.0| 333.09900000000005|           70.89|           142.65|              22.9|  45.540559802035034|    99.7228113207547| 249.67860000000002| 522.9257641921397|  150.372604515649|2020-12-07 00:00:00|\n",
      "|     216545|Prakash Steelage ...|2020-12-07 00:00:00|             1.15|    20.12504485|            6732.728|      2930.0|  5900.123999999999|           87.63|             1.15|               0.2| 0.28244359288892684|   704.0262830188678| 2295.2201999999997| 474.9999999999999| 226.0134252599328|2020-12-07 00:00:00|\n",
      "|     274213|            HKG Ltd.|2020-12-07 00:00:00|            21.07|           63.0|               320.0|        28.0|              315.0|           98.44|            21.07|              3.86|   6.575759786019046|  126.01886792452831|              433.0|445.85492227979285|243.59934121874528|2020-12-07 00:00:00|\n",
      "|     220781|Dow Jones Composi...|1987-03-30 00:00:00|            886.9|            0.0|            959200.0|         0.0|                0.0|             0.0|            886.9|            684.04|  59.520619713823216|   733801.1320754717|           908820.0|29.656160458452725|23.850994537104032|1987-03-30 00:00:00|\n",
      "|     132356|Triveni Engineeri...|2005-12-26 00:00:00|             80.6|    2078.514009|  43788.212999999996|     50219.0|           6343.104|           14.49|             80.6|             1.162|  16.980870222810953|  3371.9556981132077|         35593.9156| 6836.316695352839| 955.5866917206749|2005-12-26 00:00:00|\n",
      "|     112018|   CNI Research Ltd.|2005-12-26 00:00:00| 2.14888888888889|      13.152167|                 1.5|         3.0|                0.0|             0.0| 2.14888888888889|0.0366666666666667|  1.2649130409371616|    1.66078431372549|               2.35| 5760.606060606058| 41.49940968122788|2005-12-26 00:00:00|\n",
      "|     131583|      Rap Media Ltd.|2005-12-26 00:00:00|            123.6|           61.8|                 8.5|        32.0|                8.5|           100.0|            123.6|              5.15|   50.73250916320022|   13.69433962264151| 17.580000000000002|2299.9999999999995|28.374207770735755|2005-12-26 00:00:00|\n",
      "|     130721| ANG Industries Ltd.|2005-12-26 00:00:00|           162.05|       128.6677|             387.301|      1415.0|            354.555|           91.55|           162.05|               7.4|   44.70435129219227|   107.8439811320755| 405.73279999999994| 2089.864864864865|276.22201604659125|2005-12-26 00:00:00|\n",
      "|     131540|Maruti Infrastruc...|2005-12-26 00:00:00|             21.2|       10.87242|            1097.244|       932.0|                0.0|             0.0|             21.2|               1.0|   9.001637615082357|   524.5624905660378|           871.6148|            2020.0| 66.16033659964319|2005-12-26 00:00:00|\n",
      "|     130821|          SSPDL Ltd.|2005-12-26 00:00:00| 98.9075133485889|      101.44145|              18.626|       209.0|             18.626|           100.0| 98.9075133485889|  4.67068649885583|   29.17991989142392|   26.44662264150944| 29.938200000000002|2017.6226101413167|13.202356330408477|2005-12-26 00:00:00|\n",
      "|     122235|Minal Industries ...|2005-12-26 00:00:00|             3.05|       16.19062|               3.426|        88.0|                0.0|             0.0|             3.05|            0.1625|   2.557900167714754|  1.9217391304347833|             2.6274|1776.9230769230767|36.719909502262404|2005-12-26 00:00:00|\n",
      "|     131565|Indo Pacific Proj...|2005-12-26 00:00:00|             5.46|      54.877368|                51.1|        15.0|               51.1|           100.0|             5.46|            0.3125|    2.79095835155917|   76.59947169811322|  308.1359999999999|            1647.2| 302.2690929441356|2005-12-26 00:00:00|\n",
      "|     123810|Divine Multimedia...|2005-12-26 00:00:00|             4.04|        21.3716|            3729.502|      1227.0|           3729.502|           100.0|             4.04|             0.234|  1.2587281527038667|  463.78888679245284|          3590.7078|1626.4957264957263| 674.2116946426219|2005-12-26 00:00:00|\n",
      "|     111726|          Vipul Ltd.|2005-12-26 00:00:00|             6.54|     66.7386072|  2.4000000000000004|         7.0|                0.0|             0.0|             6.54|               0.4|  2.8443326458063938|  2.4902439024390244| 3.4400000000000004|1534.9999999999998|  38.1390793339863|2005-12-26 00:00:00|\n",
      "|     130619|Religare Technova...|2005-12-26 00:00:00|           51.475|         43.239|              24.107|       188.0|                0.0|             0.0|           51.475|              3.15|  21.212070659714342|    72.4853962264151|            90.1626| 1534.126984126984|24.387262391956092|2005-12-26 00:00:00|\n",
      "|     112185|     IOL Netcom Ltd.|2005-12-26 00:00:00|             67.1|      93.373005|            1566.946|      1749.0|           1566.946|           100.0|             67.1|              4.19|   19.73740061637897|   535.5453584905661|           850.3064|1501.4319809069211|58.773927645753034|2005-12-26 00:00:00|\n",
      "|     104240|  Delton Cables Ltd.|2005-12-26 00:00:00|            25.85|        22.3344|  42.571000000000005|       197.0|                0.0|             0.0|            25.85|              1.66|   8.782198782145683|  7.0829433962264154| 25.933600000000002|1457.2289156626507|266.14156783769675|2005-12-26 00:00:00|\n",
      "|     111413| Crest Ventures Ltd.|2005-12-26 00:00:00| 139.835867895545|      171.48105|   66.96300000000001|       300.0|              55.08|           82.25| 139.835867895545|  9.76031746031746|   45.81535986389281|   92.19435849056602|           195.0256| 1332.697947214073|111.53745542896358|2005-12-26 00:00:00|\n",
      "|     123329|Eldeco Housing & ...|2005-12-26 00:00:00|            30.43|      29.921819|              32.698|       360.0| 26.448000000000004|           80.89|            30.43|              2.16|   11.01960976105423|  16.959396226415095| 36.382600000000004| 1308.796296296296|114.52768432482468|2005-12-26 00:00:00|\n",
      "|     131297|Artefact Projects...|2005-12-26 00:00:00|             45.8|      18.675408|  118.49399999999999|       350.0|                0.0|             0.0|             45.8|              3.28|   9.518235450743537|   34.78137735849056|            76.4914| 1296.341463414634|119.92056039531028|2005-12-26 00:00:00|\n",
      "|     131746|Prajay Engineers ...|2005-12-26 00:00:00|             92.2|      107.58357|            1265.185|      5841.0|            544.823|           43.06|             92.2|               7.0|   37.05375521417091|    719.676358490566|           1091.994|1217.1428571428573|51.734038101560685|2005-12-26 00:00:00|\n",
      "|     130577|Ladderup Finance ...|2005-12-26 00:00:00|             6.31|      2.5256406|  5.7540000000000004|        44.0|                0.0|             0.0|             6.31|              0.51|   2.089073742151085|   5.044094339622641|             9.1602| 1137.254901960784| 81.60247178654656|2005-12-26 00:00:00|\n",
      "|     131381|Arihant Foundatio...|2005-12-26 00:00:00|           206.05|         123.63|  21.314999999999998|       320.0|                0.0|             0.0|           206.05|             16.99|   95.43817944165679|   42.71992452830189|            73.5592|1112.7722189523251| 72.18944277691114|2005-12-26 00:00:00|\n",
      "|     126550|Country Club Hosp...|2005-12-26 00:00:00|             5.04|      22.025556|                23.5|        72.0|               23.5|           100.0|             5.04|              0.42|   2.485472925752052|  16.324444444444442|              27.48|            1100.0|  68.3365096651239|2005-12-26 00:00:00|\n",
      "|     131025|Visagar Financial...|2007-12-24 00:00:00|             4.22|      37.991394|                98.1|        78.0|               98.1|           100.0|             4.22|             0.045|  0.9768336078554514|  2.1981132075471694|              19.86| 9277.777777777777| 803.5021459227469|2007-12-24 00:00:00|\n",
      "|     116072|Vishnu Chemicals ...|2007-12-24 00:00:00|            151.7|    181.7434265|  62.400000000000006|       256.0|                0.0|             0.0|            151.7|              1.75|  61.282079409625766|    94.6288888888889| 134.45999999999998| 8568.571428571428| 42.09191461381299|2007-12-24 00:00:00|\n",
      "|     126652|Cals Refineries Ltd.|2007-12-24 00:00:00|            9.125|        7245.25|                81.5|       188.0|               81.5|           100.0|            9.125|              0.19|  2.1358882927213294|   60.15283018867925|              119.1| 4702.631578947368| 97.99567140302999|2007-12-24 00:00:00|\n",
      "|     131624| Country CondoS Ltd.|2007-12-24 00:00:00| 7.53333333333333|      36.609966|             107.715|         0.0|            107.715|           100.0| 7.53333333333333|               0.2|   1.439657841031006|   87.38769811320756|           371.0774|3666.6666666666642| 324.6334530053451|2007-12-24 00:00:00|\n",
      "|     112455|Lloyds Metals & E...|2007-12-24 00:00:00|           68.175|  1449.28173915|              382.62|      1416.0|                0.0|             0.0|           68.175|              2.59|  17.421773108077083|  124.64686792452832|           400.3182| 2532.239382239382| 221.1618604347012|2007-12-24 00:00:00|\n",
      "|     111626|RR Financial Cons...|2007-12-24 00:00:00|           65.775|    72.75175425|   63.24300000000001|       700.0|              42.15|           66.65|           65.775|              2.75|  22.726663155389083|  11.931433962264153| 36.143600000000006| 2291.818181818182|202.92754512418446|2007-12-24 00:00:00|\n",
      "|     131832|Nagarjuna Agri Te...|2007-12-24 00:00:00|            30.37|     18.5086928|                 3.7|         9.0|                3.7|           100.0|            30.37|               1.5|   5.489285255135217|  28.648000000000003| 137.34000000000003|1924.6666666666665|  379.405194079866|2007-12-24 00:00:00|\n",
      "|     117534|    We Internet Ltd.|2007-12-24 00:00:00|            119.5|       6.303147|                 3.1|        24.0|                3.1|           100.0|            119.5|               6.0|     31.331321243387|  1.1264150943396227|               5.62|1891.6666666666667| 398.9279731993299|2007-12-24 00:00:00|\n",
      "|     123373|Mini Diamonds (In...|2007-12-24 00:00:00|            33.85|       11.67825|                21.6|       101.0|                0.0|             0.0|            33.85|              1.75|  14.266036234369668|   3.052830188679245|               15.7|1834.2857142857144| 414.2768850432633|2007-12-24 00:00:00|\n",
      "|     111533|Sahara Housingfin...|2007-12-24 00:00:00|            822.3|         575.61|              85.577|      2151.0|                0.0|             0.0|            822.3|              45.5|  326.01836786953646|   41.15030188679246|           115.4956|1707.2527472527472| 180.6676857869402|2007-12-24 00:00:00|\n",
      "|     132166|Alka Securities Ltd.|2007-12-24 00:00:00|              8.6|           86.0|              340.98|       505.0|            209.073|           61.32|              8.6|             0.489|  2.4280575868660694|   283.4728490566038|           475.4398| 1658.691206543967| 67.71969576002118|2007-12-24 00:00:00|\n",
      "|     111110|VB Desai Financia...|2007-12-24 00:00:00|            167.0|       75.92154|             210.043|      1320.0|                0.0|             0.0|            167.0|               9.6|     39.736322147664|   50.23575471698112| 193.04400000000004|1639.5833333333335|284.27610192695215|2007-12-24 00:00:00|\n",
      "|     131494|Navkar Builders Ltd.|2007-12-24 00:00:00|             15.4|       46.99002|                11.5|        56.0|               11.5|           100.0|             15.4|               0.9|  3.0588632354485092|   4.052830188679244|  9.459999999999999| 1611.111111111111|133.41713221601495|2007-12-24 00:00:00|\n",
      "|     111306|Pal Credit & Capi...|2007-12-24 00:00:00|            16.46|   35.554021376|            1067.286|      1426.0|           1067.286|           100.0|            16.46|              0.97|  3.1407428308846406|  142.43188679245281|           565.4334|1596.9072164948454| 296.9851223159962|2007-12-24 00:00:00|\n",
      "|     101827|Central Provinces...|2007-12-24 00:00:00|            445.7|        41.8958|  16.252000000000002|       155.0|                0.0|             0.0|            445.7|              29.4|   91.16218877667663|   7.333943396226415| 13.349799999999998|1415.9863945578231| 82.02758432617526|2007-12-24 00:00:00|\n",
      "|     132642|   JSW Holdings Ltd.|2007-12-24 00:00:00|          2339.55| 2596.812766875|             180.741|      2399.0|             26.869|           14.87|          2339.55|            154.45|  487.90390497126776|   106.1524150943396|  580.9734000000001|1414.7620589187443|447.30116077310004|2007-12-24 00:00:00|\n",
      "|     131778|Kachchh Minerals ...|2007-12-24 00:00:00|            30.15|     15.9822135|               145.9|       372.0|                0.0|             0.0|            30.15|               2.0|    9.72315322121044|   45.62830188679246|              180.3|            1407.5|295.14948517553654|2007-12-24 00:00:00|\n",
      "|     126033|Crystal Software ...|2007-12-24 00:00:00|            12.45|       6.218028|             178.202|       567.0|            124.523|           69.88|            12.45|              0.84|   4.922851649190939|   130.1364905660377|           170.8942| 1382.142857142857|31.319201291416277|2007-12-24 00:00:00|\n",
      "|     122298|Micro Forge (Indi...|2007-12-24 00:00:00|             31.8|      17.835666|                31.8|       143.0|               31.8|           100.0|             31.8|              2.15|  15.121991238360852|  12.364150943396227|              71.58|1379.0697674418607| 478.9317869678009|2007-12-24 00:00:00|\n",
      "|     113377|           MMTC Ltd.|2007-12-24 00:00:00|          1027.47|       154120.5|               2.965|      1161.0|                0.0|             0.0|          1027.47|  73.5333333333333|   450.0155441049212|  0.9959999999999999|             3.4954|1297.2846781504993|250.94377510040164|2007-12-24 00:00:00|\n",
      "|     121105|Olympia Industrie...|2015-12-14 00:00:00|            142.0|      42.934694|                 0.5|         4.0|                0.5|           100.0|            142.0|               2.0|   62.16914995182857|   1.990566037735849|               4.04|            7000.0|102.95734597156398|2015-12-14 00:00:00|\n",
      "|     131343|India Infraspace ...|2015-12-14 00:00:00|            66.85|          66.85|              13.626|        89.0|             13.318|           97.74|            66.85|              1.25|   52.32210781548697|   2.006905660377358|             4.4532|            5248.0|121.89383825658582|2015-12-14 00:00:00|\n",
      "|     113703|Kumar Wire Cloth ...|2015-12-14 00:00:00|            33.75|          9.315|  14.612000000000002|        83.0| 14.612000000000002|           100.0|            33.75|               0.9|  13.701019987349813|   14.51133962264151|            19.5494|            3650.0|34.718092942279355|2015-12-14 00:00:00|\n",
      "|     114366|  Citizen Yarns Ltd.|2015-12-14 00:00:00|            21.65|      13.636036|  159.38500000000002|       234.0|            102.826|           64.51|            21.65|             0.625|   37.26462537130704|  12.030735849056605| 31.881600000000002|            3364.0|165.00124680652857|2015-12-14 00:00:00|\n",
      "|     220082|Mercury Laborator...|2015-12-14 00:00:00|            531.0|          63.72|  1.9700000000000002|       122.0| 1.9700000000000002|           100.0|            531.0|             34.11|    181.427028054641|  1.5343428571428572|             2.8058|1456.7282321899736| 82.86655990465904|2015-12-14 00:00:00|\n",
      "|     132637|Mangalam Drugs & ...|2015-12-14 00:00:00|            293.6|   422.14536128|            1554.753|     23472.0|            669.687|           43.07|            293.6|             19.75|   95.65379293223143|  1283.3532452830189|          1382.5822|1386.5822784810127| 7.732006373280193|2015-12-14 00:00:00|\n",
      "|     119604|Suryo Foods & Ind...|2015-12-14 00:00:00|            25.15|         9.9594|               0.115|         2.0|              0.115|           100.0|            25.15|              1.75|   8.260442329234003|   1.678490566037736| 2.0317999999999996| 1337.142857142857|21.049235611510753|2015-12-14 00:00:00|\n",
      "|     114010|Himachal Fibres Ltd.|2015-12-14 00:00:00|             60.2|        519.225|            2429.123|     11754.0|            520.885|           21.44|             60.2|             4.945|  14.469426856384104|   538.9723207547169|          2233.8572| 1117.391304347826|  314.466033593702|2015-12-14 00:00:00|\n",
      "|     247731|Vitan Agro Indust...|2015-12-14 00:00:00|             14.4|     120.291336|             127.161|        65.0|            111.154|           87.41|             14.4|             1.214|  10.361717713551482|  10.552283018867923| 55.519000000000005| 1086.161449752883|426.13259046151165|2015-12-14 00:00:00|\n",
      "|     130843|          Cupid Ltd.|2015-12-14 00:00:00|            377.5|       503.5095|              146.41|      4159.0|             96.416|           65.85|            377.5|  37.8333333333333|    93.2240853205728|    314.153679245283|           576.1164| 897.7973568281947| 83.38680654132442|2015-12-14 00:00:00|\n",
      "|     118011|Keerthi Industrie...|2015-12-14 00:00:00|            230.8|   185.02631304|              19.287|       333.0|             19.287|           100.0|            230.8|              24.8|    77.3495649369545|   16.50956603773585|            20.7214| 830.6451612903226| 25.51147590819271|2015-12-14 00:00:00|\n",
      "|     117548|Starlite Componen...|2015-12-14 00:00:00|             36.0|          61.56|                 9.0|        62.0|                9.0|           100.0|             36.0|              3.95|  11.572828651191564|   6.817075471698113| 14.192600000000002|  811.392405063291|108.19191541772193|2015-12-14 00:00:00|\n",
      "|     131879|Pioneer Distiller...|2015-12-14 00:00:00|           285.25|     381.898405|             360.769|      5561.0|            203.156|           56.31|           285.25|              34.0|  52.535966652284856|   99.37437735849059|           297.0046| 738.9705882352941|198.87442607923296|2015-12-14 00:00:00|\n",
      "|     124174|Kesar Petroproduc...|2015-12-14 00:00:00|             51.9|    377.1737523|             378.924|       318.0|            378.924|           100.0|             51.9|              6.59|  17.731739074596693|   41.47056603773584| 237.75100000000003|  687.556904400607|473.30059055297255|2015-12-14 00:00:00|\n",
      "|     246531|         Kushal Ltd.|2015-12-14 00:00:00|           39.975|  948.473273475|  3040.1490000000003|     33807.0|            404.978|           13.32|           39.975|             5.235|   7.923570035083354|  399.51413207547176| 2387.4476000000004| 663.6103151862465|497.58777182605155|2015-12-14 00:00:00|\n",
      "|     237053|       Mudunuru Ltd.|2015-12-14 00:00:00|             47.9|     114.612725|                62.6|        15.0|               62.6|           100.0|             47.9|              6.51|  12.038262936499681|   18.94690566037736|  94.19500000000001| 635.7910906298004| 397.1524199700055|2015-12-14 00:00:00|\n",
      "|     272519|Panafic Industria...|2015-12-14 00:00:00|             36.2|       297.2925|            2384.783|      1094.0|           2117.842|           88.81|             36.2|              4.98|  11.427803662157325|           754.77358|          1917.6268| 626.9076305220883| 154.0664976641074|2015-12-14 00:00:00|\n",
      "|     124764|Nutraplus India Ltd.|2015-12-14 00:00:00| 143.045454545455|   385.59083256|              383.48|      2967.0|  79.96700000000001|           20.85| 143.045454545455|  19.9090909090909|   37.30809011855488|              242.19|           264.4432|  618.493150684934| 9.188323217308723|2015-12-14 00:00:00|\n",
      "|     130207|  Brawn Biotech Ltd.|2015-12-14 00:00:00|             48.6|      14.581458|               5.908|        33.0|              5.908|           100.0|             48.6|              7.15|  13.180865265364277|   11.73247169811321|            22.0004| 579.7202797202798| 87.51717938120451|2015-12-14 00:00:00|\n",
      "|     117330|            CMI Ltd.|2015-12-14 00:00:00|            391.2|   523.32611784|  128.32500000000002|      1037.0|             57.542|           44.84|            391.2|             62.15|   95.94582394286616|  198.17349056603774| 219.46479999999997|  529.444891391794| 10.74377272820316|2015-12-14 00:00:00|\n",
      "|     101831|Coastal Corporati...|2018-12-10 00:00:00| 341.327498228207|     366.025956|  11.967000000000002|       223.0|              9.937|           83.04| 341.327498228207|  8.94923812898653|  119.86275617374022|   3.355943396226416| 26.628400000000006|3714.0397350993403| 693.4698788406938|2018-12-10 00:00:00|\n",
      "|     245147|Sportking India Ltd.|2018-12-10 00:00:00|           153.75|       219.0015|               0.656|        62.0|              0.656|           100.0|           153.75|            4.1625|  59.995768130007434|  0.6174339622641509|             1.8194|3593.6936936936936|194.67118934115632|2018-12-10 00:00:00|\n",
      "|     112165|ABans Enterprises...|2018-12-10 00:00:00|            21.85|    30.48026056|                 0.1|         1.0|                0.1|           100.0|            21.85|           1.88125|   8.774978138789722|  1.3493421052631576| 2.3731999999999998|1061.4617940199334| 75.87830326669919|2018-12-10 00:00:00|\n",
      "|     132159|        Trescon Ltd.|2018-12-10 00:00:00|            54.75|     286.378635|  39.132999999999996|        50.0| 39.132999999999996|           100.0|            54.75|               5.2|  14.354770308998082|    5.01633962264151|             9.8184| 952.8846153846154|  95.7283744442689|2018-12-10 00:00:00|\n",
      "|     122091|United Van Der Ho...|2018-12-10 00:00:00|             40.4|       16.14182|               8.278|        84.0|              8.278|           100.0|             40.4|               4.3|  12.702383885950965|  4.1136603773584905|             6.2744| 839.5348837209303| 52.52596044472169|2018-12-10 00:00:00|\n",
      "|     200340|Quantum Build-Tec...|2018-12-10 00:00:00|             9.09|    11.46760767|              12.579|        17.0|             12.579|           100.0|             9.09|              1.06|  2.3113792306219163|  12.652283018867923|             28.591| 757.5471698113207|125.97502725289347|2018-12-10 00:00:00|\n",
      "|     279657| Mishtann Foods Ltd.|2018-12-10 00:00:00|             10.5|         1050.0|              41.288|       393.0|             41.288|           100.0|             10.5|               1.3|    2.69630034778698|  35.320428571428565|            65.0774| 707.6923076923076| 84.24861371201614|2018-12-10 00:00:00|\n",
      "|     243756|Darjeeling Ropewa...|2018-12-10 00:00:00|            102.8|         31.354|              151.57|       282.0|            105.072|           69.32|            102.8|             13.25|  29.074952310997734|  101.92022641509433|           136.5514| 675.8490566037735| 33.97870550626721|2018-12-10 00:00:00|\n",
      "|     131592|Generic Pharmasec...|2018-12-10 00:00:00|           10.955|  226.614965675|  13.446000000000002|        37.0| 13.446000000000002|           100.0|           10.955|             1.445|  1.5921404839883688| 0.46498113207547165|             2.9074| 658.1314878892732| 525.2726830060055|2018-12-10 00:00:00|\n",
      "|     130915|       JR Foods Ltd.|2018-12-10 00:00:00|             22.7|         21.565|              57.605|        99.0|             57.605|           100.0|             22.7|              3.32|   7.605453098665075|  39.575509433962274|            45.8338| 583.7349397590361|15.813543920339491|2018-12-10 00:00:00|\n",
      "|     209185|Satia Industries ...|2018-12-10 00:00:00|            51.61|          516.1|              14.064|       225.0|              3.157|           22.45|            51.61|              7.69|   18.56286121266279|   11.01575471698113| 23.755000000000003| 571.1313394018205|115.64568756583631|2018-12-10 00:00:00|\n",
      "|     105526|Dolat Investments...|2018-12-10 00:00:00|            48.45|         852.72|            1315.963|      2471.0|  875.2020000000001|           66.51|            48.45|              7.25|   12.25890998203961|  1116.0182830188683| 2046.9262000000003| 568.2758620689656| 83.41332137167088|2018-12-10 00:00:00|\n",
      "|     130805|Onesource Ideas V...|2018-12-10 00:00:00|            18.95|       5.827125|                 5.0|         2.0|                5.0|           100.0|            18.95|               3.0|   7.421199984925312|  2.0125471698113206| 6.1530000000000005| 531.6666666666666|205.73196456194634|2018-12-10 00:00:00|\n",
      "|     107808|United Leasing & ...|2018-12-10 00:00:00|             15.0|            4.5|                 0.1|         2.0|                0.1|           100.0|             15.0|               2.5|   6.842574519305553|  0.4437735849056603|               0.56|             500.0|26.190476190476218|2018-12-10 00:00:00|\n",
      "|     131518|Vikas Proppant & ...|2018-12-10 00:00:00|             3.02|       54.71485|            1518.324|        86.0|           1518.324|           100.0|             3.02|             0.542|  0.5674305734915475|  1930.5326226415095|  8610.945000000002| 457.1955719557195| 346.0398596226681|2018-12-10 00:00:00|\n",
      "|     111742|   Ugro Capital Ltd.|2018-12-10 00:00:00|            190.3|    377.6143833|             105.635|       218.0| 104.19100000000002|           98.63|            190.3|             36.75|   74.32210562554982|  43.024452830188686|            72.7876| 417.8231292517007| 69.17728224756783|2018-12-10 00:00:00|\n",
      "|     238968|Intellivate Capit...|2018-12-10 00:00:00|             23.3|     72.3577073|                 0.1|         5.0|                0.1|           100.0|             23.3|              4.64|   4.919731303210673|   186.6669245283019| 1503.1042000000002|402.15517241379314| 705.2332805065869|2018-12-10 00:00:00|\n",
      "|     225142|The Yamuna Syndic...|2018-12-10 00:00:00|         11229.95|   345.16823518|               0.021|        11.0|              0.021|           100.0|         11229.95|           2244.55|    5115.92091418102| 0.03090476190476191|0.06620000000000001|400.32077699316125| 114.2064714946071|2018-12-10 00:00:00|\n",
      "|     131512|Orient Tradelink ...|2018-12-10 00:00:00|            16.65|      18.256725|   628.9490000000001|       677.0|  628.9490000000001|           100.0|            16.65|              3.47|   3.206138592363058|  192.94822641509433|           424.9306| 379.8270893371757|120.23037365776881|2018-12-10 00:00:00|\n",
      "|     130665|Zenith Health Car...|2018-12-10 00:00:00|             2.26|      12.145014|             411.743|       737.0|            411.743|           100.0|             2.26|              0.48|  0.6159875901149445|  138.41277358490564|           233.4786| 370.8333333333333| 68.68284187425719|2018-12-10 00:00:00|\n",
      "|     126921|21st Century Mana...|2000-01-03 00:00:00|             20.0|           21.0|  252.90000000000003|       273.0|                0.0|             0.0|             20.0|              0.05|   5.256822403809733|   88.67924528301887|             344.66| 39899.99999999999|288.65914893617025|2000-01-03 00:00:00|\n",
      "|     119602|Kellton Tech Solu...|2000-01-03 00:00:00|           65.325|     65.8358415|               102.7|       478.0|                0.0|             0.0|           65.325|             0.425|  17.732807454751004|   54.02444444444444| 169.70000000000002|15270.588235294119|214.11706634856654|2000-01-03 00:00:00|\n",
      "|     111431|      Vakrangee Ltd.|2000-01-03 00:00:00|           3.3075|     78.9051753|               627.5|      1958.0|                0.0|             0.0|           3.3075|            0.0375|  0.9389986739156688|   250.2518867924528|  706.6700000000001|            8720.0|182.38348531856587|2000-01-03 00:00:00|\n",
      "|     130435|Noesis Industries...|2000-01-03 00:00:00|           111.05|    113.6430175|               403.7|      2012.0|                0.0|             0.0|           111.05|              1.85|  35.862821382975014|  128.43018867924528|             546.22|5902.7027027027025|325.30498912851857|2000-01-03 00:00:00|\n",
      "|     130175|Odyssey Technolog...|2000-01-03 00:00:00|           268.25|         91.205|               135.4|       792.0|                0.0|             0.0|           268.25|              4.55|    61.1119216703806|   76.74339622641507| 243.12000000000003| 5795.604395604396|216.79598760879202|2000-01-03 00:00:00|\n",
      "|     131429|Advent Computer S...|2000-01-03 00:00:00|            122.1|   137.98612575|               644.2|      2658.0|                0.0|             0.0|            122.1|               2.2|   33.18495700694782|   474.1471698113208|  688.5200000000001| 5449.999999999999| 45.21229775008159|2000-01-03 00:00:00|\n",
      "|     131554|  Top Telemedia Ltd.|2000-01-03 00:00:00|            27.05|     27.9288545|               695.2|      1633.0|                0.0|             0.0|            27.05|               0.5|   7.131253907496109|  442.64528301886793|            2027.52|            5310.0|358.04622296485104|2000-01-03 00:00:00|\n",
      "|     123277|       GV Films Ltd.|2000-01-03 00:00:00|             33.2|          19.09|               181.0|       811.0|                0.0|             0.0|             33.2|               1.1|   9.780909751822405|   48.34339622641509| 228.45999999999998| 2918.181818181818| 372.5774724845836|2000-01-03 00:00:00|\n",
      "|     112289|Shirpur Gold Refi...|2000-01-03 00:00:00|            97.95|    103.4596875|                11.5|        42.0|                0.0|             0.0|            97.95|               3.3|  29.053530233822173|  4.9714285714285715| 12.680000000000001|2868.1818181818185|155.05747126436785|2000-01-03 00:00:00|\n",
      "|     126441| Vision Cinemas Ltd.|2000-01-03 00:00:00|            126.6|     42.8982201|  331.09999999999997|      1309.0|                0.0|             0.0|            126.6|               4.5|  24.868187232122516|  16.503773584905662| 102.74000000000001|2713.3333333333335| 522.5242940436721|2000-01-03 00:00:00|\n",
      "|     131486| Filmcity Media Ltd.|2000-01-03 00:00:00| 3.66822975558536|     20.0320225|               249.7|      1027.0|                0.0|             0.0| 3.66822975558536| 0.140187124417275|   1.229701850765784|   113.4566037735849|  846.5199999999999| 2516.666666666665| 646.1178740105101|2000-01-03 00:00:00|\n",
      "|     126741|Credence Sound & ...|2000-01-03 00:00:00|             6.74|            0.0|  319.90000000000003|      1102.0|                0.0|             0.0|             6.74|              0.26|  1.6907219926154322|   48.47358490566038|              272.0|2492.3076923076924|  461.130356934335|2000-01-03 00:00:00|\n",
      "|     132163| Saregama India Ltd.|2000-01-03 00:00:00| 52.0076062786135|    514.7341763|             195.397|       784.0|                0.0|             0.0| 52.0076062786135|  2.11252563226247|  13.327533182526658|   49.13245283018867|             95.627|2361.8686506972444| 94.63103201972338|2000-01-03 00:00:00|\n",
      "|     130163|Kerala Ayurveda Ltd.|2000-01-03 00:00:00|             72.9|          43.74|  192.29999999999998|       552.0|                0.0|             0.0|             72.9|               3.0|   12.68627376694928|  39.818867924528305|             134.04|            2330.0|236.62433661865046|2000-01-03 00:00:00|\n",
      "|     126504|Dolphin Medical S...|2000-01-03 00:00:00| 14.6587628865979|       9.475636|               419.1|       722.0|                0.0|             0.0| 14.6587628865979| 0.621134020618557|   4.010729182898275|  56.766666666666666| 159.78000000000003|2259.9999999999927| 181.4679976512038|2000-01-03 00:00:00|\n",
      "|     119473|Trillenium Techno...|2000-01-03 00:00:00|             24.6|      13.063338|                53.7|       204.0|                0.0|             0.0|             24.6|               1.1|   7.884284267186026|   58.59166666666666|              156.2|2136.3636363636365| 166.5908121177642|2000-01-03 00:00:00|\n",
      "|     124636|    SS Organics Ltd.|2000-01-03 00:00:00|            10.75|      5.9676475|                37.9|       125.0|                0.0|             0.0|            10.75|               0.5|   4.547202843618917|  17.871698113207547|               32.7|            2050.0|  82.9708614864865|2000-01-03 00:00:00|\n",
      "|     117494|          Accel Ltd.|2000-01-03 00:00:00|             61.2|     23.7702024|               211.1|       916.0|                0.0|             0.0|             61.2|              2.85|  14.156790490119294|  60.443396226415096| 217.87999999999997|2047.3684210526314|260.46948649914145|2000-01-03 00:00:00|\n",
      "|     111503|Secure Earth Tech...|2000-01-03 00:00:00|           131.65|     177.474732|              1385.1|      5483.0|                0.0|             0.0|           131.65|  6.28135593220339|  31.798597595963848|   396.4329433962263|             743.76| 1995.885051268214| 87.61306606565937|2000-01-03 00:00:00|\n",
      "|     123758|Information Techn...|2000-01-03 00:00:00|          304.775|  4221.75280898|             715.364|       310.0|                0.0|             0.0|          304.775|            14.575|   63.62665565255814|   82.95277358490567| 201.53040000000001| 1991.080617495712| 142.9459453742377|2000-01-03 00:00:00|\n",
      "|     112205|Vatsa Educations ...|2001-12-31 00:00:00|            30.55|        31.7109|  152.84999999999997|      1787.0|                0.0|             0.0|            30.55| 0.366666666666667|  22.226294155715483|   25.20329787234043|           144.3426| 8231.818181818177| 472.7131454428034|2001-12-31 00:00:00|\n",
      "|     132099|Database Finance ...|2001-12-31 00:00:00|             33.5|      178.66555|             158.281|      1859.0|                0.0|             0.0|             33.5|              0.75|   9.406155836908356|   49.68532499999999| 146.61939999999998| 4366.666666666666|195.09598659161435|2001-12-31 00:00:00|\n",
      "|     111076| Sat Industries Ltd.|2001-12-31 00:00:00|            22.15|      71.932125|             130.725|       820.0|                0.0|             0.0|            22.15|               1.8|   5.919550407507907|  29.390054054054055|            121.644|1130.5555555555554|313.89512171795576|2001-12-31 00:00:00|\n",
      "|     112447|Innovision E-Comm...|2001-12-31 00:00:00|             2.37|         22.515|  140.82999999999998|      1226.0|                0.0|             0.0|             2.37|              0.37|  0.6633945126482167|   20.64588235294118|  69.45599999999999| 540.5405405405405|236.41575018519566|2001-12-31 00:00:00|\n",
      "|     105506|Axon Ventures Ltd...|2001-12-31 00:00:00|           8.4875|         2.2407|                 0.1|         2.0|                0.0|             0.0|           8.4875|            1.4875|   3.639899684324732|  16.289795918367346|              29.95| 470.5882352941177| 83.85742921573541|2001-12-31 00:00:00|\n",
      "|     115127|Ramasigns Industr...|2001-12-31 00:00:00|              2.8|          1.792|  3.3000000000000003|        15.0|                0.0|             0.0|              2.8|             0.525|  0.5278561124697697|   1.207547169811321|               2.12| 433.3333333333333| 75.56249999999999|2001-12-31 00:00:00|\n",
      "|     117488|Satkar Electronic...|2001-12-31 00:00:00|             4.85|      2.7460215|                0.15|         3.0|                0.0|             0.0|             4.85|               1.0|   1.671606672613067|   1.666716981132076|             2.3446|384.99999999999994|40.671753305560536|2001-12-31 00:00:00|\n",
      "|     112079|Doctors Biotech I...|2001-12-31 00:00:00|           3.3375|       6.668325|                 0.2|         2.0|                0.0|             0.0|           3.3375|               0.7|  0.6360396161251533|  0.3178695652173914|             0.5422|376.78571428571433| 70.57310901381474|2001-12-31 00:00:00|\n",
      "|     100257|          Lupin Ltd.|2001-12-31 00:00:00|             9.31|    26.34810066|            1002.944|      4931.0|            238.397|           23.77|             9.31|             2.055|   3.303033194466044|  288.25967924528305|          1258.8084| 353.0413625304136|336.69250007347273|2001-12-31 00:00:00|\n",
      "|     122183| ITL Industries Ltd.|2001-12-31 00:00:00|             8.95|      2.9510835|               16.37|       106.0|                0.0|             0.0|             8.95|               2.0|   1.621434263498786|  2.7260714285714287|  7.484399999999999|347.49999999999994|174.54893226778458|2001-12-31 00:00:00|\n",
      "|     132055|Rashel Agrotech Ltd.|2001-12-31 00:00:00|           158.55|     153.270285|                 7.5|        51.0|                0.0|             0.0|           158.55|              35.8|   35.83421844970679|   8.377358490566039| 10.069999999999999| 342.8770949720671|20.204954954954925|2001-12-31 00:00:00|\n",
      "|     132113|Brijlaxmi Leasing...|2001-12-31 00:00:00|             42.7|      24.119095|                 1.0|         1.0|                0.0|             0.0|             42.7|              10.9|    9.50124283368315|   3.465384615384615| 4.5600000000000005| 291.7431192660551| 31.58712541620424|2001-12-31 00:00:00|\n",
      "|     107446|Simbhaoli Sugars ...|2001-12-31 00:00:00| 10.1656071328615|    14.53476064|             103.699|       132.0|                0.0|             0.0| 10.1656071328615|  2.87776378393507|  1.9889238899945465|  15.746603773584905|  75.32860000000001|253.24675324675164|378.37998010951753|2001-12-31 00:00:00|\n",
      "|     131943|CSJ Technologies ...|2001-12-31 00:00:00|             54.5|        33.5175|              18.895|       121.0|                0.0|             0.0|             54.5|             15.75|  19.471897244315425|   7.932169811320756|             14.675|246.03174603174605| 85.00612504608648|2001-12-31 00:00:00|\n",
      "|     132161|Baffin Engineerin...|2001-12-31 00:00:00|            23.49|          234.9|              26.644|       315.0|                0.0|             0.0|            23.49|             7.235|   5.231751401989643|  14.270207547169813| 15.671999999999997|224.67173462335865| 9.823209986235971|2001-12-31 00:00:00|\n",
      "|     108998|Sterling Internat...|2001-12-31 00:00:00|           18.445|     344.460375|                 2.4|        99.0|                0.0|             0.0|           18.445|               6.0|  3.0518250594945764|  1.3176792452830188|             2.2924|207.41666666666669| 73.97253604822662|2001-12-31 00:00:00|\n",
      "|     131816|Panoramic Univers...|2001-12-31 00:00:00|              7.0|         42.084|              35.976|       431.0|                0.0|             0.0|              7.0|  2.33333333333333|  1.3082348039976397|   16.29777358490566|            45.3176| 200.0000000000004|178.06006608148817|2001-12-31 00:00:00|\n",
      "|     113353|Cochin Minerals &...|2001-12-31 00:00:00|            11.75|        9.20025|  12.501999999999999|       106.0|                0.0|             0.0|            11.75|               4.0|   4.207108332631377|  14.693339622641506| 25.428599999999996|            193.75| 73.06208563243263|2001-12-31 00:00:00|\n",
      "|     131690| Seagull Leafin Ltd.|2001-12-31 00:00:00|              5.7|       28.60146|               0.395|         6.0|                0.0|             0.0|              5.7|              2.01|  1.2614737003755294|  0.6393750000000001|              1.549|183.58208955223884|142.26783968719445|2001-12-31 00:00:00|\n",
      "|     132010|Netvision Web Tec...|2001-12-31 00:00:00|            38.05|        97.0275|              150.09|      1178.0|                0.0|             0.0|            38.05|              15.0|   7.577774519386723|  108.81349999999999| 125.31620000000001|153.66666666666663|15.166040978371267|2001-12-31 00:00:00|\n",
      "|     220781|Dow Jones Composi...|1982-09-13 00:00:00|           354.93|            0.0|            355120.0|         0.0|                0.0|             0.0|           354.93|            327.08|  14.927271382083479|  260057.16981132075|           417128.0| 8.514736455912935| 60.39857709081385|1982-09-13 00:00:00|\n",
      "|     101110|Sunrise Industria...|1997-01-06 00:00:00|           128.25|            0.0|                0.05|         1.0|                0.0|             0.0|           128.25|               4.0|   42.26765423892909|0.010869565217391304|               0.05|           3106.25|360.00000000000006|1997-01-06 00:00:00|\n",
      "|     105703|Deccan Bearings Ltd.|1997-01-06 00:00:00| 43.3522727272727|            0.0|                 0.3|         3.0|                0.0|             0.0| 43.3522727272727|  2.80748663101604|  12.115701381617837| 0.19137931034482758|               0.26|1444.1666666666672|35.855855855855864|1997-01-06 00:00:00|\n",
      "|     101179|Oscar Investments...|1997-01-06 00:00:00|            95.25|            0.0|                 0.5|         4.0|                0.0|             0.0|            95.25|              17.0|   39.48225289215036|  0.6958333333333333|               1.48| 460.2941176470588|112.69461077844312|1997-01-06 00:00:00|\n",
      "|     130387|European Software...|1997-01-06 00:00:00|            241.5|    146.8482288|                 0.4|         4.0|                0.0|             0.0|            241.5|             52.75|    56.2296018381257|  0.5632653061224488|                0.6|357.81990521327015| 6.521739130434804|1997-01-06 00:00:00|\n",
      "|     130729|Scintilla Softwar...|1997-01-06 00:00:00|            107.5|            0.0|  0.7999999999999999|         8.0|                0.0|             0.0|            107.5|  24.8888888888889|  15.817902772585025|               0.406|                0.6|331.91964285714266| 47.78325123152708|1997-01-06 00:00:00|\n",
      "|     100314|Oriental Hotels Ltd.|1997-01-06 00:00:00|           30.385|            0.0|  16.439999999999998|        95.0|                0.0|             0.0|           30.385|  7.93650793650794|   9.046302838025222|  2.0352599999999996|             7.1548|282.85099999999983| 251.5423090907305|1997-01-06 00:00:00|\n",
      "|     112205|Vatsa Educations ...|1997-01-06 00:00:00|             1.35|            0.0|                 0.4|         4.0|                0.0|             0.0|             1.35| 0.366666666666667| 0.32580624242383566|  1.8052631578947367|               6.16| 268.1818181818179|241.22448979591843|1997-01-06 00:00:00|\n",
      "|     100407| Swaraj Engines Ltd.|1997-01-06 00:00:00| 101.716666666667|            0.0|                41.6|        43.0|                0.0|             0.0| 101.716666666667|  31.6666666666667|  21.963146388355344|  11.074528301886794|              14.52| 221.2105263157902|31.111679018655746|1997-01-06 00:00:00|\n",
      "|     106102|  Qpro Infotech Ltd.|1997-01-06 00:00:00|             72.5|            0.0|                0.05|         1.0|                0.0|             0.0|             72.5|              24.5|   93.08693291273563|  1.7377358490566037|                2.2|195.91836734693877|26.601520086862116|1997-01-06 00:00:00|\n",
      "|     100103|Bharat Heavy Elec...|1997-01-06 00:00:00| 15.6833333333333|       5757.979|              1776.2|      1722.0|                0.0|             0.0| 15.6833333333333|               5.6|  2.6056862726466985|  45.681132075471695| 484.21999999999997|180.05952380952323|             960.0|1997-01-06 00:00:00|\n",
      "|     100086|Exide Industries ...|1997-01-06 00:00:00| 5.42208064693938|       309.8208|   80.83800000000001|       118.0|                0.0|             0.0| 5.42208064693938|  2.40981362086195|  0.8014001395865897|   1.978867924528302| 16.636000000000003|124.99999999999967| 740.6826849733028|1997-01-06 00:00:00|\n",
      "|     100267|  Majestic Auto Ltd.|1997-01-06 00:00:00|             62.0|            0.0|               110.0|        21.0|                0.0|             0.0|             62.0|              30.0|  21.814653736584017|   42.67450980392156|  96.50999999999999|106.66666666666667|126.15374012130125|1997-01-06 00:00:00|\n",
      "|     100178|Harig Crankshafts...|1997-01-06 00:00:00|             8.15|            0.0|                38.1|        36.0|                0.0|             0.0|             8.15|               4.0|   1.797029081681252|   4.091836734693878| 11.680000000000001|103.75000000000001|185.44638403990027|1997-01-06 00:00:00|\n",
      "|     100209|        Infosys Ltd.|1997-01-06 00:00:00|    1.60361328125|     595.967353|                15.6|        25.0|                0.0|             0.0|    1.60361328125|      0.7935546875| 0.21286704533892736|    7.63209433962264|               8.28| 102.0797440315038| 8.489224995735503|1997-01-06 00:00:00|\n",
      "|     124117|Protchem Industri...|1997-01-06 00:00:00|            15.75|            0.0|  25.300000000000004|       108.0|                0.0|             0.0|            15.75|               8.0|  2.7121892650733455|    9.08490566037736| 20.060000000000002|            96.875|120.80581516095532|1997-01-06 00:00:00|\n",
      "|     100840|            EIH Ltd.|1997-01-06 00:00:00|  52.697590434123|    2383.876859|  357.89099999999996|       283.0|                0.0|             0.0|  52.697590434123|  28.3756256183739|   5.506044211394026|   8.765377358490564|  92.91299999999998| 85.71428571428588|             960.0|1997-01-06 00:00:00|\n",
      "|     100520|Mahindra & Mahind...|1997-01-06 00:00:00|           44.725|  3642.17940894|             296.313|       823.0|                0.0|             0.0|           44.725|          25.23125|   5.188595169927999|  140.88588679245285|           263.3174| 77.26034183799852| 86.90119074021099|1997-01-06 00:00:00|\n",
      "|     112579|Gujarat NRE Coke ...|1997-01-06 00:00:00|              2.5|      14.102298|               751.2|       396.0|                0.0|             0.0|              2.5|  1.47392290249433|  0.6992488011901644|   89.87735849056605| 251.78000000000003| 69.61538461538474| 180.1372940065078|1997-01-06 00:00:00|\n",
      "|     106590|Phillips Carbon B...|1997-01-06 00:00:00|              6.4|     85.8017856|  21.822000000000003|        83.0|                0.0|             0.0|              6.4|             3.775|  1.1292548148513786|   7.365641509433962|             9.1706| 69.53642384105962|24.505109137530464|1997-01-06 00:00:00|\n",
      "|     100108|Mahanagar Telepho...|1997-01-06 00:00:00|           248.75|        14925.0|             10619.7|      7103.0|                0.0|             0.0|           248.75|             147.0|  28.721464162337668|   3571.977358490567| 14116.539999999999| 69.21768707482994|295.20239305115064|1997-01-06 00:00:00|\n",
      "|     103655|Aeonian Investmen...|2004-12-27 00:00:00|             88.7|         42.576|               0.069|        34.0|                0.0|             0.0|             88.7|             1.975|  36.492067965311286| 0.09323076923076923|0.27699999999999997|  4391.13924050633|197.11221122112207|2004-12-27 00:00:00|\n",
      "|     106142|Vyapar Industries...|2004-12-27 00:00:00| 23.0444444444444|        14.1032|               0.042|         7.0|              0.042|           100.0| 23.0444444444444|              0.56|    5.40542662792399|   5.760377358490564|            20.4418|4015.0793650793576|254.86911234850976|2004-12-27 00:00:00|\n",
      "|     104351|  Empower India Ltd.|2004-12-27 00:00:00|            0.528|            3.3|                38.3|        46.0|               38.3|           100.0|            0.528|            0.0138| 0.18023811803708004|  1.8937499999999998|              10.08| 3726.086956521739| 432.2772277227724|2004-12-27 00:00:00|\n",
      "|     103229| Simplex Realty Ltd.|2004-12-27 00:00:00|             74.2|    22.19605444|               2.388|        28.0|                0.0|             0.0|             74.2|               2.0|    18.3002398467076|  1.1724905660377354| 1.6676000000000002|            3610.0| 42.22715715619073|2004-12-27 00:00:00|\n",
      "|     117258|Precision Electro...|2004-12-27 00:00:00|            15.36|     21.2713152|               10.92|       225.0|                0.0|             0.0|            15.36|              0.42|   6.287234805367375|   9.884396226415095| 13.609399999999999| 3557.142857142857| 37.68569863306562|2004-12-27 00:00:00|\n",
      "|     121248| Kitex Garments Ltd.|2004-12-27 00:00:00| 2.02142857142857|        13.4425|  43.699999999999996|       152.0|                0.0|             0.0| 2.02142857142857|0.0642857142857143|  0.6265294718386143|   7.884905660377357|               23.9|3044.4444444444416|203.11079205551573|2004-12-27 00:00:00|\n",
      "|     112233|Jaybharat Textile...|2004-12-27 00:00:00|             0.24|         9.1881|                0.15|         1.0|               0.15|           100.0|             0.24|0.0084552845528455| 0.07899920999107175|  0.6727272727272728|               1.11|2738.4615384615477| 64.99999999999999|2004-12-27 00:00:00|\n",
      "|     132039|Zenotech Laborato...|2004-12-27 00:00:00| 119.111471779774|     185.111245|             186.416|      2084.0|                0.0|             0.0| 119.111471779774|  5.73253617171183|  24.339129832063577|  101.85588636363637| 213.68699999999998|1977.8145695364249|109.79347156934516|2004-12-27 00:00:00|\n",
      "|     112070|            UPL Ltd.|2004-12-27 00:00:00| 51.7566666666667|  2511.80139257|             268.097|      1561.0| 134.25199999999998|           50.08| 51.7566666666667|              2.55|  10.733885326504472|   172.8963396226415|           212.2322|1929.6732026143807|22.751123860234287|2004-12-27 00:00:00|\n",
      "|     112068|Deccan Gold Mines...|2004-12-27 00:00:00| 11.0776109442776|         73.059|  1444.3809999999999|      4999.0|                0.0|             0.0| 11.0776109442776| 0.548041492222834|  3.1659513081632022|   558.8787169811321|          1349.1892|  1921.30880626342|141.41001598483646|2004-12-27 00:00:00|\n",
      "|     126608|Electrotherm (Ind...|2004-12-27 00:00:00|             59.4|     28.3122675|                68.9|       233.0|                0.0|             0.0|             59.4|               3.1|  13.340879281910686|   8.426415094339623|              45.34|1816.1290322580644| 438.0698611733094|2004-12-27 00:00:00|\n",
      "|     130151| Vijay Textiles Ltd.|2004-12-27 00:00:00| 120.333333333333|      120.11192|  299.96999999999997|      2314.0|                0.0|             0.0| 120.333333333333|  6.66666666666667|  32.973485134020464|   97.99236585365854|           323.6128| 1704.999999999994|230.24286859578655|2004-12-27 00:00:00|\n",
      "|     111549|Morarka Finance Ltd.|2004-12-27 00:00:00|            16.32|      7.3474272|             114.844|       405.0|                0.0|             0.0|            16.32|              0.91|  3.9454163572708785|   21.39190566037736|           108.5598|1693.4065934065934|407.48073464570876|2004-12-27 00:00:00|\n",
      "|     131660|Global Films & Br...|2004-12-27 00:00:00|           10.485|          62.91|              82.478|       304.0|             82.478|           100.0|           10.485|               0.7|  2.9184285244373616|   49.00862264150944|            82.8486| 1397.857142857143| 69.04902756811757|2004-12-27 00:00:00|\n",
      "|     131998|           IFSL Ltd.|2004-12-27 00:00:00|           15.995|         127.96|             205.486|      1248.0|            205.486|           100.0|           15.995|              1.25|   5.314776259041717|  37.392714285714284| 192.81419999999997|            1179.6|   415.64643990999|2004-12-27 00:00:00|\n",
      "|     115085|Restile Ceramics ...|2004-12-27 00:00:00| 5.73672266630538|      3.6936036|                8.24|        82.0|               8.04|           97.57| 5.73672266630538| 0.449939032651402|  1.6188178281081156|   3.703150943396225|             6.1482|1175.0000000000011| 66.02617862401733|2004-12-27 00:00:00|\n",
      "|     123874|Precision Contain...|2004-12-27 00:00:00|             5.25|       1.885065|                2.68|        22.0|              1.964|           73.28|             5.25|              0.45|  1.0333888548843213|   1.660867924528302|  8.142800000000001|1066.6666666666665| 390.2737827460069|2004-12-27 00:00:00|\n",
      "|     205542|   Arrow Webtex Ltd.|2004-12-27 00:00:00|             33.3|     9.99421911|              27.044|       288.0|                0.0|             0.0|             33.3|              2.91|  11.731180454140375|   5.387301886792453|            16.9788|1044.3298969072164|215.16332956252825|2004-12-27 00:00:00|\n",
      "|     117569| KEI Industries Ltd.|2004-12-27 00:00:00|            14.06|    55.67790229|              73.058|       540.0|                0.0|             0.0|            14.06|             1.274|   4.366473239529122|   51.91547169811321| 261.12800000000004|1003.6106750392465|402.98685817293716|2004-12-27 00:00:00|\n",
      "|     113349|Ajmera Realty & I...|2004-12-27 00:00:00| 28.0770198355104|       196.1376|             205.785|      1074.0|            187.386|           91.06| 28.0770198355104|  2.55910337042413|   8.481147717025971|   38.06949056603774| 133.02659999999997| 997.1428571428551|249.43099585019038|2004-12-27 00:00:00|\n",
      "|     103804|Shri Dinesh Mills...|1998-01-05 00:00:00|            311.1|     16.4183025| 0.34999999999999987|        18.0|                0.0|             0.0|            311.1|              55.0|  178.07596406246955| 0.18862264150943395|0.23959999999999998|465.63636363636374|27.026107832349705|1998-01-05 00:00:00|\n",
      "|     123033|Soundcraft Indust...|1998-01-05 00:00:00|          10.6925|      255.59352|                68.5|       167.0|                0.0|             0.0|          10.6925|          2.059375|    2.41431784993275|   53.18867924528301|              77.44|419.21092564491653| 45.59489180560484|1998-01-05 00:00:00|\n",
      "|     107685|          Wipro Ltd.|1998-01-05 00:00:00|         3.724875|  2276.21002455|               54.94|       186.0|                0.0|             0.0|         3.724875|            0.8625|   1.254447270720693|   24.23966037735849| 26.965999999999998| 331.8695652173913|11.247433256895366|1998-01-05 00:00:00|\n",
      "|     126512|Interlink Petrole...|1998-01-05 00:00:00|              5.0|            0.0|                22.4|        31.0|                0.0|             0.0|              5.0|               1.4|  1.6822905802853116|    9.28867924528302|              15.48|257.14285714285717| 66.65447897623397|1998-01-05 00:00:00|\n",
      "|     100074|            BPL Ltd.|1998-01-05 00:00:00|           102.75|       274.3425|  15252.599999999999|     15987.0|                0.0|             0.0|           102.75|             33.05|  21.605439717791654|  1183.7789433962262|             5202.8|   210.89258698941|339.50773318144377|1998-01-05 00:00:00|\n",
      "|     100209|        Infosys Ltd.|1998-01-05 00:00:00|     4.6548828125|    1730.180468|               332.9|       809.0|                0.0|             0.0|     4.6548828125|     1.60361328125|  1.4643391817862896|  151.98283018867923|              369.0|190.27464831618053| 142.7905833454375|1998-01-05 00:00:00|\n",
      "|     119532|Asian Tea & Expor...|1998-01-05 00:00:00|              4.6|           4.06|                22.9|        68.0|                0.0|             0.0|              4.6|              1.78|  0.7786614896922496|   4.271698113207547|               12.7| 158.4269662921348|197.30565371024733|1998-01-05 00:00:00|\n",
      "|     131962|Shree Metalloys Ltd.|1998-01-05 00:00:00|              9.7|            0.0|                 0.5|         1.0|                0.0|             0.0|              9.7|               4.0|   2.145821673297847|   4.727777777777778|               8.52|142.49999999999997| 80.21151586368977|1998-01-05 00:00:00|\n",
      "|     106248|Amines & Plastici...|1998-01-05 00:00:00|             1.05|           2.52|  2.4499999999999997|         6.0|                0.0|             0.0|             1.05|              0.45|  0.3662586091237433|   2.181547619047619|                2.9|133.33333333333334|  32.9331514324693|1998-01-05 00:00:00|\n",
      "|     126654|Thakkers Develope...|1998-01-05 00:00:00|              7.0|            0.0|                 4.0|         7.0|                0.0|             0.0|              7.0|               3.0|  1.2076393737961915|  5.7639999999999985|  7.219999999999999|133.33333333333331|25.260235947258863|1998-01-05 00:00:00|\n",
      "|     101061|State Bank Of Bik...|1998-01-05 00:00:00|  49.901915531964|        203.112|                1.44|       101.0|                0.0|             0.0|  49.901915531964|  22.3574890376183|  13.371650487436066| 0.10627659574468083|0.45899999999999996| 123.1999999999998|331.89189189189193|1998-01-05 00:00:00|\n",
      "|     100255|            LML Ltd.|1998-01-05 00:00:00|            93.15|  386.009585235|            2206.181|      1157.0|                0.0|             0.0|            93.15|              45.0|  18.526007197195433|  1433.7474905660374|          3404.9762|             107.0|137.48785768794824|1998-01-05 00:00:00|\n",
      "|     108134|Apeejay Tea Ltd. ...|1998-01-05 00:00:00|           190.15|            0.0|  13.849999999999998|        42.0|                0.0|             0.0|           190.15|              92.5|   34.60728638136985|   4.375943396226415|              10.59|105.56756756756758|142.00495849951494|1998-01-05 00:00:00|\n",
      "|     105141| Scooters India Ltd.|1998-01-05 00:00:00|              8.2|      6.4039991|   4.550000000000001|        15.0|                0.0|             0.0|              8.2|               4.0|  1.9106703772033995|   1.706451612903226|               2.04|104.99999999999999|19.546313799621924|1998-01-05 00:00:00|\n",
      "|     205518|Williamson Tea As...|1998-01-05 00:00:00|            148.3|            0.0|              10.519|        55.0|                0.0|             0.0|            148.3|              72.5|   28.16563126070008|   4.266529411764706|             5.2476|104.55172413793106|22.994581627166312|1998-01-05 00:00:00|\n",
      "|     131269|     KLG Systel Ltd.|1998-01-05 00:00:00|            10.55|       6.709378|                54.0|       163.0|                0.0|             0.0|            10.55|               5.5|  1.8433351880177995|  15.626415094339622|              40.58| 91.81818181818183| 159.6884810432263|1998-01-05 00:00:00|\n",
      "|     100302|Piramal Enterpris...|1998-01-05 00:00:00| 55.7435593924551|    832.6365185|               8.318|       116.0|                0.0|             0.0| 55.7435593924551|  30.6165133312875|  12.224243054802937|   79.68960377358492| 112.80259999999998| 82.07024029574873| 41.55246689454764|1998-01-05 00:00:00|\n",
      "|     106820|Astrazeneca Pharm...|1998-01-05 00:00:00|            52.05|        130.125|                6.65|        39.0|                0.0|             0.0|            52.05|              29.1|  11.910197436454466|   9.578320754716978| 15.200000000000003| 78.86597938144328|58.691699612529156|1998-01-05 00:00:00|\n",
      "|     100800|Tata Consumer Pro...|1998-01-05 00:00:00|            40.91|  1989.12016987|           37675.344|     36013.0|                0.0|             0.0|            40.91|            22.945|   8.403688268005036|  12674.941396226417| 29625.726199999997| 78.29592503813465|133.73462072826757|1998-01-05 00:00:00|\n",
      "|     100660|Glaxosmithkline P...|1998-01-05 00:00:00|            260.3|      2277.4275|            1648.007|      2596.0|                0.0|             0.0|            260.3|            146.75|    42.4459145363946|    444.046566037736|  812.8738000000001| 77.37649063032369| 83.06048558225318|1998-01-05 00:00:00|\n",
      "|     131082|        Alankit Ltd.|2012-12-17 00:00:00|            4.835|    46.87924135|               0.032|         3.0|              0.032|           100.0|            4.835|            0.0225|   1.797962982517209|   4.524905660377358|  32.17360000000001|21388.888888888887| 611.0336085397385|2012-12-17 00:00:00|\n",
      "|     113305|Terrascope Ventur...|2012-12-17 00:00:00|           73.225|   120.82403255|   8.018999999999998|        61.0|  8.018999999999998|           100.0|           73.225|              0.75|  17.490544732094513|  1.2883584905660375| 1.7709999999999997| 9663.333333333332|  37.4617401110086|2012-12-17 00:00:00|\n",
      "|     105533|Westlife Developm...|2012-12-17 00:00:00|            34.63|   316.62226315|               0.005|         5.0|              0.005|           100.0|            34.63|              0.47|    6.91528519278364|  156.67481132075477|           534.5736|7268.0851063829805| 241.1994535009119|2012-12-17 00:00:00|\n",
      "|     124210|Pentokey Organy (...|2012-12-17 00:00:00|            40.35|   25.310058015|  0.2719999999999999|         9.0| 0.2719999999999999|           100.0|            40.35|               0.6|   12.90066072046984|  1.0686603773584904|  4.652199999999999|            6625.0|  335.330072917954|2012-12-17 00:00:00|\n",
      "|     122233|VHCL Industries Ltd.|2012-12-17 00:00:00|             10.3|    130.4061164|              80.536|       198.0|             67.123|           83.35|             10.3|            0.1645|  3.8013611785608283|   99.88869811320755|           141.8826| 6161.398176291793| 42.04069397240437|2012-12-17 00:00:00|\n",
      "|     220162|         ABANOFSHCPR|2012-12-17 00:00:00|            735.0|            0.0|               0.024|         6.0|                0.0|             0.0|            735.0|              13.2|  294.04746146963146| 0.07843396226415095|0.17360000000000003| 5468.181818181818|121.33269184508062|2012-12-17 00:00:00|\n",
      "|     108969|Sulabh Engineers ...|2012-12-17 00:00:00|           41.335|    415.3134125|               33.28|        78.0|              33.28|           100.0|           41.335|              1.05|  15.435121669763646|  5.8639807692307695|            21.8906|3836.6666666666665| 273.3061355668733|2012-12-17 00:00:00|\n",
      "|     131380|Centenial Surgica...|2012-12-17 00:00:00|             38.6|      14.082438|  3.1189999999999998|        51.0| 3.1189999999999998|           100.0|             38.6|              1.15|  15.117725001343803|   2.092132075471698| 3.7343999999999995| 3256.521739130435| 78.49733502881413|2012-12-17 00:00:00|\n",
      "|     126671|Matra Kaushal Ent...|2012-12-17 00:00:00|              2.8|        9.61996|                 0.5|         1.0|                0.5|           100.0|              2.8|               0.1|  2.0094168244440906|  1.1692307692307693| 2.3200000000000003|2699.9999999999995| 98.42105263157896|2012-12-17 00:00:00|\n",
      "|     130441|Mahanivesh (India...|2012-12-17 00:00:00|            231.0|          231.0|  203.51600000000002|       834.0| 193.98400000000004|           95.32|            231.0|              12.0|  160.86230144839007|   46.49245454545454|  90.48920000000001|            1825.0| 94.63201262374935|2012-12-17 00:00:00|\n",
      "|     131246|Prima Industries ...|2012-12-17 00:00:00|            42.55|       54.49804|                3.24|        14.0|               3.24|           100.0|            42.55|               2.5|   23.11871090601818|  1.1294285714285714|             1.6024|            1602.0|  41.8770554009613|2012-12-17 00:00:00|\n",
      "|     119273|Unno Industries Ltd.|2012-12-17 00:00:00|             19.0|          123.5|             814.685|       342.0|            814.685|           100.0|             19.0|             1.157|   5.161724514160657|   30.25552830188679|           257.2268|1542.1780466724285| 750.1811551046653|2012-12-17 00:00:00|\n",
      "|     131192|Midas Infra Trade...|2012-12-17 00:00:00|             3.96|      19.917612|             462.748|       102.0|            462.748|           100.0|             3.96|              0.25|  1.3980814443242267|   97.52575471698113|            551.978|            1484.0|465.98177743082863|2012-12-17 00:00:00|\n",
      "|     111138|Kothari World Fin...|2012-12-17 00:00:00|            115.5|      85.903125|             125.912|        86.0|            125.912|           100.0|            115.5|              10.0|   44.69820220579047|   36.63835714285714|           165.1536|            1055.0| 350.7669362904217|2012-12-17 00:00:00|\n",
      "|     131820|Finalysis Credit ...|2012-12-17 00:00:00|            132.2|      72.786676|             295.704|       580.0|            295.704|           100.0|            132.2|             11.75|   31.81126616251103|  228.86243396226416|           257.5232|1025.1063829787233| 12.52314132185692|2012-12-17 00:00:00|\n",
      "|     131712|Trilogic Digital ...|2012-12-17 00:00:00|           22.225|      26.909141|                 4.7|        15.0|                4.7|           100.0|           22.225|               2.0|   7.473462826932658|  10.105471698113206|             15.618|1011.2500000000001| 54.54993558505576|2012-12-17 00:00:00|\n",
      "|     101945|Dhenu Buildcon In...|2012-12-17 00:00:00|             97.5|        178.425|                1.09|        24.0|               1.09|           100.0|             97.5|             9.115|   26.02582729717111|  0.7294716981132076|             2.0576| 969.6653867251782|182.06714603486625|2012-12-17 00:00:00|\n",
      "|     132411|MPS Infotecnics Ltd.|2012-12-17 00:00:00|             2.45|  924.736980475|             594.758|      1049.0|            594.758|           100.0|             2.45| 0.268181818181818|  0.5407762301890431|  229.78988679245285| 470.29040000000003|  813.559322033899| 104.6610521309705|2012-12-17 00:00:00|\n",
      "|     106822|Aikyam Intellectu...|2012-12-17 00:00:00|           23.575|     102.782285|              114.85|       157.0|             114.85|           100.0|           23.575|             2.625|    6.06100301452573|   9.490566037735851|               66.8| 798.0952380952381| 603.8568588469183|2012-12-17 00:00:00|\n",
      "|     131463|Global Infratech ...|2012-12-17 00:00:00| 57.2727272727273|      150.28839|              23.714|        13.0|             23.714|           100.0| 57.2727272727273|  6.59090909090909|  15.702026448315452|  1.0858846153846153|             4.8494| 768.9655172413799|  346.585201714306|2012-12-17 00:00:00|\n",
      "|     220781|Dow Jones Composi...|1989-10-30 00:00:00|          1006.48|            0.0|            740910.0|         0.0|                0.0|             0.0|          1006.48|            810.85|   95.63011850630419|   786780.5660377359|           890170.0|  24.1265338841956|13.140822031603827|1989-10-30 00:00:00|\n",
      "|     101630| Anand Projects Ltd.|2008-12-22 00:00:00| 16.0027777777778|    1.495123525|                 3.0|         4.0|                3.0|           100.0| 16.0027777777778| 0.285714285714286|   5.619777946904625|  0.4466666666666666|               0.65| 5500.972222222225| 45.52238805970152|2008-12-22 00:00:00|\n",
      "|     200025|ISGEC Heavy Engin...|2008-12-22 00:00:00|           65.215|    480.6045511|               1.282|        59.0|                0.0|             0.0|           65.215|               2.1|  16.057302447271894|   1.365301886792453|             4.7602|3005.4761904761904|248.65549121764485|2008-12-22 00:00:00|\n",
      "|     130655| Goodluck India Ltd.|2008-12-22 00:00:00|            34.85|    64.33571375|                11.8|         5.0|                0.0|             0.0|            34.85|               2.9|   20.74272837421312|   39.18356603773585|            88.8522|1101.7241379310346| 126.7588404649812|2008-12-22 00:00:00|\n",
      "|     112463|Shree Global Trad...|2008-12-22 00:00:00|             42.7|      4394.0435|              18.014|       131.0|                0.0|             0.0|             42.7|               4.3|  17.782282695128384|  0.8173870967741935|             3.6436| 893.0232558139537|  345.761869055606|2008-12-22 00:00:00|\n",
      "|     111728|KZ Leasing & Fina...|2008-12-22 00:00:00|            46.95|      14.278434|             507.544|      1000.0|                0.0|             0.0|            46.95|              7.29|    9.63560093079475|   59.41716981132075|           311.8606| 544.0329218106997| 424.8661304305026|2008-12-22 00:00:00|\n",
      "|     111200|Munoth Capital Ma...|2008-12-22 00:00:00| 1.05555555555556|        0.94905|               0.007|         7.0|                0.0|             0.0| 1.05555555555556|              0.35| 0.24872604074976007|  0.5084444444444445|              0.907|201.58730158730287| 78.38723776223776|2008-12-22 00:00:00|\n",
      "|     105533|Westlife Developm...|2008-12-22 00:00:00|            0.072|          1.152|                0.09|         4.0|                0.0|             0.0|            0.072|          0.024375|0.020089085648169434| 0.15318518518518515|             0.1694|195.38461538461536|10.585106382978749|2008-12-22 00:00:00|\n",
      "|     108860|Diamant Infrastru...|2008-12-22 00:00:00|            3.065|      7.3495635|                0.05|         1.0|               0.05|           100.0|            3.065|              1.21|  2.0950228205559522|   4.502830188679246|  5.880000000000001|153.30578512396696| 30.58453802639849|2008-12-22 00:00:00|\n",
      "|     131336|    Auroma Coke Ltd.|2008-12-22 00:00:00|            12.29|      7.7659281|                 0.1|         1.0|                0.1|           100.0|            12.29|               6.0|  3.7134324040946565|   8.807142857142857|              13.52|104.83333333333331|53.511759935117595|2008-12-22 00:00:00|\n",
      "|     112585|Karma Industries ...|2008-12-22 00:00:00|             33.4|         105.21|   7.580999999999999|        25.0|  7.580999999999999|           100.0|             33.4|              16.4|   5.884885839995732|  12.788188679245287|            46.8438|103.65853658536585| 266.3051990781587|2008-12-22 00:00:00|\n",
      "|     124202|Lactose (India) Ltd.|2008-12-22 00:00:00|             9.45|         5.9535|  2.9000000000000004|        15.0|                0.0|             0.0|             9.45|               5.0|   2.802918989574799|  1.4509433962264158| 3.8200000000000003| 88.99999999999999|163.27698309492837|2008-12-22 00:00:00|\n",
      "|     108998|Sterling Internat...|2008-12-22 00:00:00|           210.15|     3924.55125|             587.486|       182.0|                0.0|             0.0|           210.15|            122.05|   68.55482594255867|   639.5001698113208|            668.951| 72.18353133961493| 4.605288876994113|2008-12-22 00:00:00|\n",
      "|     119602|Kellton Tech Solu...|2008-12-22 00:00:00|            4.395|      6.6268689|               95.37|       199.0|                0.0|             0.0|            4.395|             2.805|  0.7227007733754311|  48.782245283018874| 57.586400000000005|  56.6844919786096| 18.04786693581294|2008-12-22 00:00:00|\n",
      "|     205951|Swarnajyothi Agro...|2008-12-22 00:00:00|            73.85|       81.20546|             297.685|       288.0|            297.685|           100.0|            73.85|              50.0|   19.47313341504135|  103.59655000000001|            111.828| 47.69999999999999| 7.945679658251162|2008-12-22 00:00:00|\n",
      "|     111664|BGIL Films & Tech...|2008-12-22 00:00:00|            31.25|    20.02134375|             111.079|       292.0|            111.079|           100.0|            31.25|              21.3|   5.885220480287591|  47.130735849056606|             48.842|46.713615023474176|3.6308878274762737|2008-12-22 00:00:00|\n",
      "|     131602|Koffee Break Pict...|2008-12-22 00:00:00|              3.1|       17.75091|             539.878|       197.0|            528.245|           97.85|              3.1|              2.12|  0.6634332509903264|   360.3043396226415|  516.5222000000001|46.226415094339615|43.357196458130545|2008-12-22 00:00:00|\n",
      "|     132166|Alka Securities Ltd.|2008-12-22 00:00:00|             12.1|          121.0|            1047.051|       459.0|           1009.044|           96.37|             12.1|               8.6|  2.1915298253335633|   523.2068679245282|  891.0291999999997| 40.69767441860465| 70.30151066910868|2008-12-22 00:00:00|\n",
      "|     190049|Aditya Birla Mone...|2008-12-22 00:00:00|             50.3|        278.662|            1106.653|       476.0|                0.0|             0.0|             50.3|             37.81|   8.986777483730787|  268.68744680851074|           367.8858| 33.03358899761966| 36.91960840365808|2008-12-22 00:00:00|\n",
      "|     131882|        Kwality Ltd.|2008-12-22 00:00:00| 2.68916666666667|         83.902|             150.191|       748.0|            111.391|           74.17| 2.68916666666667|  2.18458333333333|  0.4636332331705933|   58.01390566037737| 237.16000000000003|  23.0974632843795|308.79854114351895|2008-12-22 00:00:00|\n",
      "|     100696|Hindustan Unileve...|2008-12-22 00:00:00|            252.1| 54944.33612051|   8018.807000000001|     66931.0|           3912.862|            48.8|            252.1|            216.35|   14.81896536191639|  16370.748188679254|         18313.3158|16.524150681765658|11.866089374363941|2008-12-22 00:00:00|\n",
      "|     126671|Matra Kaushal Ent...|2013-12-16 00:00:00|             55.9|   1127.6027815|  154.85000000000002|       287.0| 154.85000000000002|           100.0|             55.9|               0.1|  21.298456324049393|   20.26195652173913|             125.55|55799.999999999985| 519.6341397993671|2013-12-16 00:00:00|\n",
      "|     103637|Dhanleela Investm...|2013-12-16 00:00:00|          513.125|     971.345625|             336.504|       758.0|            336.504|           100.0|          513.125|              0.93|  161.38934096770674|   22.39992857142857|           176.8336|  55074.7311827957| 689.4382316270141|2013-12-16 00:00:00|\n",
      "|     126735|Excel Castronics ...|2013-12-16 00:00:00|             39.2|      159.59692|              194.25|      1127.0|             174.75|           89.96|             39.2|              0.18|    14.1747316761195|    9.16254716981132|            68.8768| 21677.77777777778| 651.7210959299033|2013-12-16 00:00:00|\n",
      "|     124031|Patidar Buildcon ...|2013-12-16 00:00:00|            150.0|       82.50855|                31.4|        41.0|               31.4|           100.0|            150.0|               1.0|   53.71894285471906|               1.288|  7.919999999999999|           14900.0| 514.9068322981365|2013-12-16 00:00:00|\n",
      "|     106113|Arihant Multi Com...|2013-12-16 00:00:00|            91.35|       331.0524|                0.56|        35.0|               0.56|           100.0|            91.35|             0.928|   24.85656416115626|  1.0045283018867925| 10.511800000000001| 9743.749999999998| 946.4413974455296|2013-12-16 00:00:00|\n",
      "|     131963|Universal Credit ...|2013-12-16 00:00:00|             35.0|        175.119|              85.049|       426.0|             85.049|           100.0|             35.0|              0.52|  10.099326959857766|  15.301333333333337|            36.9498|  6630.76923076923|141.48091669571275|2013-12-16 00:00:00|\n",
      "|     106938|  Kappac Pharma Ltd.|2013-12-16 00:00:00|            575.0|      1739.8695|             300.105|       224.0|            300.105|           100.0|            575.0|             11.82|  186.27564078127892|  21.918962264150945|            194.781| 4764.636209813874| 788.6415225896419|2013-12-16 00:00:00|\n",
      "|     105502|PS IT Infrastruct...|2013-12-16 00:00:00|            238.7|      1283.2512|               0.125|         6.0|              0.125|           100.0|            238.7|              4.95|   69.45523370784784| 0.40434285714285706| 2.2501999999999995| 4722.222222222222|  456.507914075749|2013-12-16 00:00:00|\n",
      "|     131307|           RRIL Ltd.|2013-12-16 00:00:00|           195.15|   1531.0177107|  2126.3379999999997|      3137.0|            2071.97|           97.44|           195.15|             4.355|   79.33680960963098|  476.00369811320746| 2066.3743999999997|  4381.05625717566|334.10889625243124|2013-12-16 00:00:00|\n",
      "|     112113|  Kelvin Fincap Ltd.|2013-12-16 00:00:00|            378.1|     1058.37752|             195.276|       592.0|            195.276|           100.0|            378.1|               9.3|  109.43751780549886|   125.0063962264151|           212.5576|3965.5913978494623| 70.03737921938786|2013-12-16 00:00:00|\n",
      "|     112311|Superspace Infras...|2013-12-16 00:00:00|            58.75|     1270.82125|            2673.047|      2760.0|           2584.385|           96.68|            58.75|             1.483|  22.076757494861823|   710.9703773584906|          3631.8174|3861.5643964935944|410.82541771901964|2013-12-16 00:00:00|\n",
      "|     106863|Swadeshi Industri...|2013-12-16 00:00:00|            197.0|     213.113615|  178.77499999999998|      1715.0| 178.77499999999998|           100.0|            197.0|              5.01|   62.76976845759916|  10.902566037735848|            72.7202|3832.1357285429144| 567.0007753064884|2013-12-16 00:00:00|\n",
      "|     130251|RISA Internationa...|2013-12-16 00:00:00|           121.79|  1942.55354475|             991.424|     15790.0|  405.9690000000001|           40.95|           121.79|             3.158|   33.58308521239769|  193.46535849056605|  596.4458000000001| 3756.554781507283| 208.2959164645926|2013-12-16 00:00:00|\n",
      "|     113359|    Parab Infra Ltd.|2013-12-16 00:00:00|            250.2|     134.247312|              61.282|       651.0|             37.744|           61.59|            250.2|              6.88|   92.77444078980302|   7.376452830188679| 46.651599999999995|3536.6279069767443| 532.4394810616137|2013-12-16 00:00:00|\n",
      "|     242448|Mystic Electronic...|2013-12-16 00:00:00|           206.05|   407.28354004| 0.42200000000000004|        16.0|0.34400000000000003|           81.52|           206.05|              6.35|   76.87910820209036|  19.933874999999997|  51.71260000000001|  3144.88188976378|159.42070972151686|2013-12-16 00:00:00|\n",
      "|     103659| SW Investments Ltd.|2013-12-16 00:00:00|           338.65|        30.4785|               0.511|        10.0|              0.511|           100.0|           338.65|              11.0|   83.92774052561435| 0.09196969696969697|0.13140000000000002|2978.6363636363635| 42.87314662273479|2013-12-16 00:00:00|\n",
      "|     103641|Zodiac Ventures Ltd.|2013-12-16 00:00:00|           14.415|      53.753535|               0.004|         4.0|              0.004|           100.0|           14.415|              0.63|   3.668315624804589|  0.8233437500000002| 1.0049999999999997| 2188.095238095238| 22.06323300565523|2013-12-16 00:00:00|\n",
      "|     131769|   PFL Infotech Ltd.|2013-12-16 00:00:00|            452.0|      338.01012|             224.044|       336.0|            222.373|           99.25|            452.0|              24.8|    116.695411113564|   90.16016981132078| 219.99439999999998|1722.5806451612905|144.00397698937877|2013-12-16 00:00:00|\n",
      "|     242447|Mukta Agriculture...|2013-12-16 00:00:00|            210.0|     455.317191|  0.9960000000000001|        14.0| 0.9960000000000001|           100.0|            210.0|              11.6|   61.90804768322708|            19.89195| 47.388400000000004|1710.3448275862072|138.22903234725607|2013-12-16 00:00:00|\n",
      "|     124588|Emed.Com Technolo...|2013-12-16 00:00:00|            441.5|     149.398302|                64.9|       220.0|               64.9|           100.0|            441.5|              26.5|  156.15168698236835|   39.13684210526316|  96.17999999999999|1566.0377358490566|145.75309306078532|2013-12-16 00:00:00|\n",
      "|     100298|National Peroxide...|1999-01-04 00:00:00|            982.0|      22.574216| 0.40499999999999997|        26.0|                0.0|             0.0|            982.0|              44.0|  336.20277014319703| 0.35869811320754724| 0.8549999999999999|2131.8181818181815| 138.3620009468202|1999-01-04 00:00:00|\n",
      "|     117344|Mindteck (India) ...|1999-01-04 00:00:00| 26.4656964656965|            0.0|  468.40000000000003|       829.0|                0.0|             0.0| 26.4656964656965|  1.48128898128898|   5.769690772729647|   96.08490566037736| 252.62000000000003|1686.6666666666706|162.91330387825235|1999-01-04 00:00:00|\n",
      "|     100179|HCL Infosystems Ltd.|1999-01-04 00:00:00|  71.171061632352|   1143.6878472|   9536.630000000001|      7680.0|                0.0|             0.0|  71.171061632352|  5.00281939507746|  18.622056920920343|  3394.8647924528304|  6743.595000000001|1322.6190476190482| 98.64104794369949|1999-01-04 00:00:00|\n",
      "|     117271|HBL Power Systems...|1999-01-04 00:00:00| 6.26828737057266|      42.768145|               100.4|       564.0|                0.0|             0.0| 6.26828737057266| 0.612689742988305|  1.9533336332583413|    44.9754716981132|  76.73999999999998| 923.0769230769232| 70.62633720686325|1999-01-04 00:00:00|\n",
      "|     117429|Athena Global Tec...|1999-01-04 00:00:00|            52.35|      29.016558|               226.1|       840.0|                0.0|             0.0|            52.35|               5.8|  13.036459910963544|   55.26415094339622|             104.88| 802.5862068965517| 89.77944691020828|1999-01-04 00:00:00|\n",
      "|     119281|Agro Dutch Indust...|1999-01-04 00:00:00| 12.8774509803922|         25.493|               228.8|       127.0|                0.0|             0.0| 12.8774509803922|  1.49656862745098|  2.1370801943095077|  20.230188679245284|              69.74|  760.465116279073|244.73232605857112|1999-01-04 00:00:00|\n",
      "|     117063|Jetking Infotrain...|1999-01-04 00:00:00|            5.275|          3.165|   5.699999999999999|        36.0|                0.0|             0.0|            5.275| 0.666666666666667|   1.174243943530595|  2.7571428571428567| 3.4799999999999995| 691.2499999999997| 26.21761658031089|1999-01-04 00:00:00|\n",
      "|     112149|Avance Technologi...|1999-01-04 00:00:00|             16.8|         6.2748|                 1.5|        10.0|                0.0|             0.0|             16.8|  2.14666666666667|   5.479231963148022|   5.351886792452829|               6.63| 682.6086956521726| 23.88154415653096|1999-01-04 00:00:00|\n",
      "|     123864|   DSQ Software Ltd.|1999-01-04 00:00:00|           337.15|      682.72875|              4392.9|      3637.0|                0.0|             0.0|           337.15|             46.05|   95.70124518998888|  1784.8726415094336| 3786.2400000000002| 632.1389793702497| 112.1294209988029|1999-01-04 00:00:00|\n",
      "|     131225|XT Global Infotec...|1999-01-04 00:00:00|            14.95|      12.566073|               708.3|      1587.0|                0.0|             0.0|            14.95|               2.2|  3.2323462700163823|  57.613207547169814|             234.18| 579.5454545454545| 306.4692975274275|1999-01-04 00:00:00|\n",
      "|     117447|RS Software (Indi...|1999-01-04 00:00:00| 55.8004772053373|       67.76679|               161.3|      1216.0|                0.0|             0.0| 55.8004772053373|   9.0685422844082|  16.572997517537633|   116.7075471698113|              149.2| 515.3191489361706| 27.84091827661467|1999-01-04 00:00:00|\n",
      "|     117415|Lee & Nee Softwar...|1999-01-04 00:00:00|             16.5|         8.2335|               208.2|       842.0|                0.0|             0.0|             16.5|               3.0|  3.5318419893089175|  15.666037735849056|              81.16|             450.0|418.06335059617004|1999-01-04 00:00:00|\n",
      "|     105537|Zee Entertainment...|1999-01-04 00:00:00|             32.7|      1221.1488|  15877.199999999999|     25215.0|                0.0|             0.0|             32.7|             6.085|   9.644960862680275|   8369.278301886794|            19001.2| 437.3870172555464|127.03510762351296|1999-01-04 00:00:00|\n",
      "|     130175|Odyssey Technolog...|1999-01-04 00:00:00|              8.0|           2.72|                 5.1|        17.0|                0.0|             0.0|              8.0|               1.5|  1.6697947917228173|   2.204444444444444|                2.4| 433.3333333333333| 8.870967741935502|1999-01-04 00:00:00|\n",
      "|     100376|Mahindra Satyam L...|1999-01-04 00:00:00|          40.6625|    2115.995175|  27130.190000000002|     30724.0|                0.0|             0.0|          40.6625|            8.0625|    8.14095919243745|  24778.797754716976|         36367.6728|404.34108527131787|  46.7693193188799|1999-01-04 00:00:00|\n",
      "|     100329|Pentamedia Graphi...|1999-01-04 00:00:00| 357.636363636364|     1340.66786|             29958.0|     35973.0|                0.0|             0.0| 357.636363636364|  71.1363636363636|   99.91735920313941|            9317.474| 30705.629999999997|402.74760383386666|229.54886699978982|1999-01-04 00:00:00|\n",
      "|     124804|Aurobindo Pharma ...|1999-01-04 00:00:00|           5.8925|       222.7365|  278.70000000000005|       173.0|                0.0|             0.0|           5.8925|              1.21|  1.5635427890030253|  116.03018867924528|              124.6| 386.9834710743802| 7.385846233901386|1999-01-04 00:00:00|\n",
      "|     100575|         Voltas Ltd.|1999-01-04 00:00:00|             13.3|    440.0767042|            7321.354|     11262.0|                0.0|             0.0|             13.3|             2.745|  2.3889937746764156|   983.9256226415093|  5229.040999999999| 384.5173041894353| 431.4467760237592|1999-01-04 00:00:00|\n",
      "|     131439|Goldstone Technol...|1999-01-04 00:00:00|             49.6|      36.559664|                65.1|       270.0|                0.0|             0.0|             49.6|              10.6|  11.560691038425066|   38.04339622641509|             110.72| 367.9245283018868|191.03605614243912|1999-01-04 00:00:00|\n",
      "|     124790|Everest Organics ...|1999-01-04 00:00:00|              7.0|         6.4911|  10.299999999999999|        45.0|                0.0|             0.0|              7.0|               1.5|  1.3561596829397893|   3.435849056603773|               13.2|366.66666666666663|284.18451400329496|1999-01-04 00:00:00|\n",
      "|     123483|Pacific Industrie...|2009-12-21 00:00:00|            230.0|        31.0845|              67.631|      2027.0|                0.0|             0.0|            230.0|               2.5|  100.34363334187992|  15.272641509433964|            21.9018|            9100.0|43.405448143801344|2009-12-21 00:00:00|\n",
      "|     126843| Atlanta Devcon Ltd.|2009-12-21 00:00:00|             53.4|    47.25392166|              27.752|       212.0|             27.752|           100.0|             53.4|               0.6|  24.815115862191565|   43.71524528301885|            67.5808|            8800.0| 54.59320784424764|2009-12-21 00:00:00|\n",
      "|     111092|   JMD Ventures Ltd.|2009-12-21 00:00:00|            262.5|        736.533|               4.658|        51.0|              4.523|            97.1|            262.5|              4.15|   72.02285553982615|  15.883377358490568| 19.643400000000003| 6225.301204819278|23.672689734966784|2009-12-21 00:00:00|\n",
      "|     111200|Munoth Capital Ma...|2009-12-21 00:00:00|             19.0|        17.0829|  1.0270000000000001|        13.0|                0.0|             0.0|             19.0|              0.35|    7.51957483678841|  0.7127073170731708| 3.7242000000000006| 5328.571428571428| 422.5426918996613|2009-12-21 00:00:00|\n",
      "|     106971|     B&B Realty Ltd.|2009-12-21 00:00:00|           125.65|    186.8779885|                 1.3|        12.0|                1.3|           100.0|           125.65|               3.3|   35.19431136509215|  0.4896551724137932|               1.46| 3707.575757575758|198.16901408450698|2009-12-21 00:00:00|\n",
      "|     112149|Avance Technologi...|2009-12-21 00:00:00|             31.2|        75.0009|            4459.399|      1163.0|           4091.973|           91.76|             31.2|             1.172|  13.254639914158034|   3219.938056603773|          4853.0964|2562.1160409556314| 50.72017891918081|2009-12-21 00:00:00|\n",
      "|     131882|        Kwality Ltd.|2009-12-21 00:00:00| 69.1833333333333|        2158.52|            4205.495|     15931.0|            994.092|           23.64| 69.1833333333333|  2.68916666666667|  23.954667116088842|   293.8552075471698|           1400.054|  2472.66811279826|376.44348782733846|2009-12-21 00:00:00|\n",
      "|     130025|Samyak Internatio...|2009-12-21 00:00:00|             62.0|       18.79964|              10.974|       109.0|                0.0|             0.0|             62.0|               3.0|   53.63988872305965|             10.4999|            20.7798|1966.6666666666667| 97.90474194992335|2009-12-21 00:00:00|\n",
      "|     131863|Sigrun Holdings Ltd.|2009-12-21 00:00:00|            73.45|   3931.3394159|            1709.044|      2964.0|            832.249|            48.7|            73.45|              3.69|  22.671268828575357|  261.96075471698117| 1744.4227999999998|1890.5149051490519| 565.9099764331686|2009-12-21 00:00:00|\n",
      "|     126544|Scanpoint Geomati...|2009-12-21 00:00:00| 30.2854889775871|       52.25856|              93.376|       427.0|             93.376|           100.0| 30.2854889775871|  1.59361001226028|   9.315511381532504|  106.37686792452833|           265.0998|1800.4329004328977| 149.2081268909718|2009-12-21 00:00:00|\n",
      "|     131784|KCL Infra Project...|2009-12-21 00:00:00| 23.2147968397291|     115.775835|             338.437|       540.0|            289.227|           85.46| 23.2147968397291|  1.29111738148984|   8.148873636462776|   56.64743396226414|           198.0106|1698.0392156862756|249.54910778819283|2009-12-21 00:00:00|\n",
      "|     131834|Natura Hue Chem Ltd.|2009-12-21 00:00:00|            39.55|     16.3946615|  100.04599999999999|       176.0|                0.0|             0.0|            39.55|               2.2|  12.456606208909056|   87.19309433962266|           155.4192|1697.7272727272723| 78.24714351188443|2009-12-21 00:00:00|\n",
      "|     130271|Rich Universe Net...|2009-12-21 00:00:00|            120.8|      87.613824|             702.789|      1778.0|                0.0|             0.0|            120.8|              7.25|   42.97273501724226|   75.11196226415095|           360.0626|1566.2068965517242| 379.3678518659188|2009-12-21 00:00:00|\n",
      "|     106172|Sampada Chemicals...|2009-12-21 00:00:00|             55.8|        27.7884|                 1.4|         8.0|                1.4|           100.0|             55.8|               3.4|   15.92892230234945|   88.90555555555557|               93.3|1541.1764705882354| 4.942823220646114|2009-12-21 00:00:00|\n",
      "|     131358|Choice Internatio...|2009-12-21 00:00:00| 49.4997993799015|       76.91926|   82.12899999999999|       393.0|             58.128|           70.78| 49.4997993799015|  3.06417362757614|   20.35138979007568|   62.78216981132074|             84.926|1515.4371584699472|35.270890214893996|2009-12-21 00:00:00|\n",
      "|     131249|Well Pack Papers ...|2009-12-21 00:00:00| 20.1085714285714|    156.0683538|             920.944|      1237.0|            485.954|           52.77| 20.1085714285714|  1.25657142857143|   5.169113708188608|   620.2523773584905|          1050.4268|1500.2728512960393| 69.35473983566519|2009-12-21 00:00:00|\n",
      "|     114386|  Gujarat Cotex Ltd.|2009-12-21 00:00:00|             2.59|         1.9943|              24.821|        77.0|             18.999|           76.54|             2.59|             0.175|  1.8347031452934783|   38.23754716981133| 40.120400000000004|            1380.0|  4.92409416803595|2009-12-21 00:00:00|\n",
      "|     131515|Mahan Industries ...|2009-12-21 00:00:00|            24.33|       17.39595|             630.946|       508.0|            630.946|           100.0|            24.33|              1.86|   4.695953017866417|   46.25992452830188|           320.6304|1208.0645161290322| 593.1061891461537|2009-12-21 00:00:00|\n",
      "|     112018|   CNI Research Ltd.|2009-12-21 00:00:00|            20.25|    131.2291125|  136.77599999999998|       479.0|                0.0|             0.0|            20.25|             1.575|   4.829144185374359|   384.0285471698113| 439.06440000000003|1185.7142857142858| 14.33118793792503|2009-12-21 00:00:00|\n",
      "|     114316|Raghuvir Syntheti...|2009-12-21 00:00:00|             2.81|          10.88|               29.56|       303.0|               22.5|           76.12|             2.81|              0.25|  0.9399910446412804|  5.5192452830188685| 44.001999999999995|            1024.0| 697.2466839874195|2009-12-21 00:00:00|\n",
      "|     285855|     7NR Retail Ltd.|2019-12-09 00:00:00| 19.5899860335196|    230.2818825|              2822.8|     17224.0|           1020.354|           36.15| 19.5899860335196|  1.60094040968343|  5.1755052224882245|   382.1373396226415|          2582.3716|1123.6549165120596| 575.7705495490385|2019-12-09 00:00:00|\n",
      "|     112165|ABans Enterprises...|2019-12-09 00:00:00|            246.0|    343.1644896|               9.771|       238.0|              9.771|           100.0|            246.0|             21.85|  46.359938941711796|   5.924358490566037| 23.718600000000002| 1025.858123569794| 300.3572713867596|2019-12-09 00:00:00|\n",
      "|     132435|   Sanmit Infra Ltd.|2019-12-09 00:00:00|             4.55|           45.5|               5.653|       175.0|               3.46|           61.21|             4.55|             0.545|  1.2209071091142154|  2.1761509433962267|             4.6574| 734.8623853211009|114.02008046056736|2019-12-09 00:00:00|\n",
      "|     131225|XT Global Infotec...|2019-12-09 00:00:00|            10.05|    95.42588364|  28.756999999999998|        71.0| 28.756999999999998|           100.0|            10.05|              1.73|  2.1507467734718144|  14.597698113207548|             82.538| 480.9248554913295|465.41791287848434|2019-12-09 00:00:00|\n",
      "|     132041|Hindustan Bio Sci...|2019-12-09 00:00:00|              2.5|         2.5627|  2.5530000000000004|        18.0| 2.5530000000000004|           100.0|              2.5|              0.49|  0.7887926877253607|  12.307339622641509|             37.705| 410.2040816326531|206.36190400267367|2019-12-09 00:00:00|\n",
      "|     273425|   SSPN Finance Ltd.|2019-12-09 00:00:00|           46.175|      17.483702|                72.0|        15.0|               36.0|            50.0|           46.175|               9.5|  12.096106439737186|   74.18867924528301|               90.4|386.05263157894734| 21.85147507629707|2019-12-09 00:00:00|\n",
      "|     280309|  CHD Chemicals Ltd.|2019-12-09 00:00:00|             51.0|      51.556308|  269.95000000000005|       698.0|             82.813|           30.68|             51.0|              12.5|  12.137949458359968|   57.57664150943396| 169.47560000000001|             308.0|194.34783891004022|2019-12-09 00:00:00|\n",
      "|     285017|Leading Leasing F...|2019-12-09 00:00:00|            10.61|       56.60435|             132.536|       381.0|              43.11|           32.53|            10.61|             2.825|   3.198925966687621|     90.912641509434| 151.73780000000002|  275.575221238938|  66.9050612551547|2019-12-09 00:00:00|\n",
      "|     271285|JLA Infraville Sh...|2019-12-09 00:00:00|             13.4|         8.6966|               450.0|        45.0|              225.0|            50.0|             13.4|              3.85|  1.8051782876540776|    604.433962264151|             1235.0|248.05194805194807|104.32339628531292|2019-12-09 00:00:00|\n",
      "|     293410|Jonjua Overseas Ltd.|2019-12-09 00:00:00|   26.36520662979|   17.707902285|                20.8|         2.0|               20.8|           100.0|   26.36520662979|  7.68644357186024|   8.441823464544974|   182.5714285714286|             372.32|243.00917431192696| 103.9311424100156|2019-12-09 00:00:00|\n",
      "|     103816|Swadeshi Polytex ...|2019-12-09 00:00:00|             4.36|         17.004|  1.0150000000000001|        38.0| 1.0150000000000001|           100.0|             4.36|             1.296|   1.051743873926787|  0.6487735849056605| 2.7356000000000003|236.41975308641975|321.65711792932956|2019-12-09 00:00:00|\n",
      "|     124444|Evexia Lifecare Ltd.|2019-12-09 00:00:00|              9.3|    575.9799969|              305.39|      1350.0|             92.523|            30.3|              9.3|             2.775|   1.849570131087578|  202.19830188679254| 311.83360000000005| 235.1351351351352| 54.22167104775711|2019-12-09 00:00:00|\n",
      "|     286893|Mehai Technology ...|2019-12-09 00:00:00|            171.5|       183.6765|              22.794|      1066.0| 17.753999999999998|           77.89|            171.5|              54.5|   33.34618186773448|   63.28649056603773| 161.73679999999996|214.67889908256882|155.56291485499898|2019-12-09 00:00:00|\n",
      "|     283888| Osiajee Texfab Ltd.|2019-12-09 00:00:00|             35.0|           18.9|             217.321|       386.0|            141.221|           64.98|             35.0|              11.5|   9.045579564166639|  135.24977358490568|           219.9952|204.34782608695653| 62.65846083793532|2019-12-09 00:00:00|\n",
      "|     289554|Adani Green Energ...|2019-12-09 00:00:00|           132.65|  20746.6494242|   7267.277999999999|     75029.0|           2583.342|           35.55|           132.65|             44.15|  26.301668308408036|   7390.517981132075|          15382.894|200.45300113250283|   108.14365162594|2019-12-09 00:00:00|\n",
      "|     274285|  Fraser and Co Ltd.|2019-12-09 00:00:00|            15.14|     12.2941342|   655.6990000000001|      1023.0|             480.22|           73.24|            15.14|              5.48|    2.63797732802312|  118.65566037735849| 428.23699999999997|176.27737226277372| 260.9073504273504|2019-12-09 00:00:00|\n",
      "|     131163|Kemistar Corporat...|2019-12-09 00:00:00|             44.2|    47.55658336|               29.55|       111.0|              1.098|            3.72|             44.2|              16.4|   8.813809321770151|   6.054849056603774|             26.748|169.51219512195127| 341.7616318746552|2019-12-09 00:00:00|\n",
      "|     132884|Refex Industries ...|2019-12-09 00:00:00| 55.8874034401071|    89.29176552|   974.0229999999999|      8988.0| 448.72799999999995|           46.07| 55.8874034401071|   20.974797669983|  25.148495518785296|   578.5096226415093| 1075.7730000000001|166.45026245038576| 85.95593882915149|2019-12-09 00:00:00|\n",
      "|     283500|Agro Phos India Ltd.|2019-12-09 00:00:00|            144.3|   292.55547945|            9609.705|     37653.0|           2815.056|           29.29|            144.3|              58.7|  26.251934413629723|           2244.6635|          4527.6674|145.82623509369677|101.70806893772719|2019-12-09 00:00:00|\n",
      "|     132911|Parle Industries ...|2019-12-09 00:00:00|             14.0|           19.6|              31.468|       548.0|             26.859|           85.35|             14.0|              5.88|   7.809792831975408|  15.349283018867926|            38.3138| 138.0952380952381|149.61296207062708|2019-12-09 00:00:00|\n",
      "|     220781|Dow Jones Composi...|1984-01-30 00:00:00|           472.75|            0.0|            544160.0|         0.0|                0.0|             0.0|           472.75|            428.43|  23.092829103927958|   421582.2641509434|           508638.0| 10.34474709987629|20.649762395575348|1984-01-30 00:00:00|\n",
      "|     220781|Dow Jones Composi...|1985-12-09 00:00:00|           613.91|            0.0|            827400.0|         0.0|                0.0|             0.0|           613.91|             473.6|   29.55347464953427|    519701.320754717|           645734.0|29.626266891891877| 24.25098305739472|1985-12-09 00:00:00|\n",
      "|     206051|Mideast Integrate...|2017-12-11 00:00:00|            69.05|     952.026875|             955.679|      1346.0|            955.679|           100.0|            69.05|               1.3|  23.759762144638806|   71.94958490566039|            271.488| 5211.538461538461| 277.3308773858424|2017-12-11 00:00:00|\n",
      "|     220053|           KIOCL Ltd|2017-12-11 00:00:00|            344.1|   21833.619858|  305.78200000000004|     10485.0|            162.821|           53.25|            344.1|              12.6|  140.43119254547258|          211.759525|           586.9382| 2630.952380952381|177.17204220211585|2017-12-11 00:00:00|\n",
      "|     126095|Ravileela Granite...|2017-12-11 00:00:00|            38.75|       41.02075|                12.0|        23.0|               12.0|           100.0|            38.75|               2.6|  14.474892408312423|  1.7981132075471702| 2.7399999999999998|1390.3846153846152| 52.38195173137456|2017-12-11 00:00:00|\n",
      "|     112441|Enbee Trade & Fin...|2017-12-11 00:00:00|            87.25|    13.96043625|               2.632|        13.0|              2.632|           100.0|            87.25|              5.95|  30.277366111027394| 0.25658490566037734| 0.7070000000000001|1366.3865546218487|  175.542319288183|2017-12-11 00:00:00|\n",
      "|     132386|California Softwa...|2017-12-11 00:00:00|            93.95|   116.16923137|             127.036|      1065.0|             29.396|           23.14|            93.95|              7.14|  21.074420873820202|   59.46654716981132| 240.09340000000003| 1215.826330532213|303.74531804309197|2017-12-11 00:00:00|\n",
      "|     131234|Victory Paper & B...|2017-12-11 00:00:00|            39.75|        53.6625|              23.186|        33.0|             23.186|           100.0|            39.75|              3.05|    12.7356221188726|  12.194358490566039|             17.182|1203.2786885245903|40.901220948134046|2017-12-11 00:00:00|\n",
      "|     109631|            HEG Ltd.|2017-12-11 00:00:00|           1995.6|  7974.24637752|  2788.9669999999996|    144788.0|            824.936|           29.58|           1995.6|             158.7|   575.0831492334767|  1996.5141320754722|          3058.8512|1157.4669187145557| 53.20959420508472|2017-12-11 00:00:00|\n",
      "|     210289|Yaarii Digital In...|2017-12-11 00:00:00|            229.9|  1166.01815407|            1402.425|      7701.0|            287.769|           20.52|            229.9|              21.8|   58.73057587366933|   2684.420396226415|          3580.0754| 954.5871559633026| 33.36493065812788|2017-12-11 00:00:00|\n",
      "|     109488| Graphite India Ltd.|2017-12-11 00:00:00|            664.9| 12990.52324506|           16656.557|    308672.0| 3377.8849999999998|           20.28|            664.9|             73.05|  180.76856582498218|  8177.7689056603795|         14730.8158| 810.1984941820671|  80.1324538506318|2017-12-11 00:00:00|\n",
      "|     114318|Jattashankar Indu...|2017-12-11 00:00:00|             35.1|      15.398721|                 1.5|         9.0|                1.5|           100.0|             35.1|               4.1|  14.171914753461877|   3.083018867924528|               8.44| 756.0975609756098| 173.7576499388005|2017-12-11 00:00:00|\n",
      "|     223077|Ebixcash World Mo...|2017-12-11 00:00:00|           1425.0|   1647.9208725|             118.687|     11979.0|             51.164|           43.11|           1425.0|            169.95|   323.9976727124392|   85.68584905660379|           274.9666| 738.4819064430715| 220.9008290486309|2017-12-11 00:00:00|\n",
      "|     254912|Lancer Containers...|2017-12-11 00:00:00|          34.6875|      104.55201|                 5.0|         2.0|                5.0|           100.0|          34.6875|  4.45833333333333|   8.094949581968022|   34.66981132075472|               54.0| 678.0373831775706| 55.75510204081632|2017-12-11 00:00:00|\n",
      "|     119260|Sanwaria Consumer...|2017-12-11 00:00:00|            19.85|      1461.1585|           11346.757|     16547.0|           2670.767|           23.54|            19.85|               2.6|   6.264284619368186|  13581.609320754722|         15455.3832| 663.4615384615385|13.796405381664695|2017-12-11 00:00:00|\n",
      "|     122108|    Yuken India Ltd.|2017-12-11 00:00:00|         754.5375|        905.445|  103.72500000000001|      1225.0|  77.03499999999998|           74.27|         754.5375|            102.25|  179.98906923192425|   32.32941509433961|             41.508| 637.9339853300734| 28.39081647124332|2017-12-11 00:00:00|\n",
      "|     100339|Rain Industries Ltd.|2017-12-11 00:00:00|            371.2| 12485.15160448|           15109.323|    172842.0|  4642.034000000001|           30.72|            371.2|             54.35|   90.27104790565737|  15160.938377358496|         26557.5086|  582.980680772769| 75.17061239204865|2017-12-11 00:00:00|\n",
      "|     123261| VenkyS (India) Ltd.|2017-12-11 00:00:00|          2840.15|  4001.01473404|             593.965|     50182.0|            116.088|           19.54|          2840.15|            427.95|   761.9725051680509|  1109.9625283018866| 1369.3776000000003| 563.6639794368501|23.371516162350865|2017-12-11 00:00:00|\n",
      "|     131402|   LWS Knitwear Ltd.|2017-12-11 00:00:00|            10.67|      5.3973128|               4.125|        21.0|              4.125|           100.0|            10.67|              1.61|  2.6089793170746063|  1.2911320754716982|             4.3526| 562.7329192546583|237.11500803741043|2017-12-11 00:00:00|\n",
      "|     244725|Suvifin Credit So...|2017-12-11 00:00:00|            43.95|   27.616312125|             829.183|       317.0|            532.124|           64.17|            43.95|               6.7|   8.193972540483308|   151.2542830188679| 396.79240000000004| 555.9701492537314|162.33465398827946|2017-12-11 00:00:00|\n",
      "|     132895|Nagreeka Capital ...|2017-12-11 00:00:00|            72.05|     90.8932365|             623.503|      3084.0|            415.238|            66.6|            72.05|             11.65|  11.738195132289952|  103.11247169811321|           495.6202| 518.4549356223176|  380.659799768013|2017-12-11 00:00:00|\n",
      "|     100020|Bombay Dyeing & M...|2017-12-11 00:00:00|           266.75|   5509.3184575|           48705.067|    379309.0|  9711.510999999999|           19.94|           266.75|             45.95|   61.78011061996249|    21941.2379245283|         24169.9636|480.52230685527746|10.157702510395671|2017-12-11 00:00:00|\n",
      "|     126407|Ritesh Properties...|2006-12-25 00:00:00|            78.25|     52.5644375|              83.225|       220.0|                0.0|             0.0|            78.25|              2.12|  15.311712161540001|  46.841924528301874|           218.1736|3591.0377358490564|365.76566227158236|2006-12-25 00:00:00|\n",
      "|     106131|Indiaco Ventures ...|2006-12-25 00:00:00|            8.315|        12.4725|               1.503|         5.0|                0.0|             0.0|            8.315|              0.23|   2.141388244317976|  23.442774193548388|           130.2918| 3515.217391304347|455.78661008413064|2006-12-25 00:00:00|\n",
      "|     107878|        Unitech Ltd.|2006-12-25 00:00:00|            230.1|    37353.85875|            6946.285|     39371.0| 1782.0410000000002|           25.65|            230.1|  7.59961538461538|   78.69698320610237|   7846.498603773584|         19386.2466|2927.7848069234287| 147.0687574031639|2006-12-25 00:00:00|\n",
      "|     131574|Vas Infrastructur...|2006-12-25 00:00:00|             80.1|      40.053204|  415.75899999999996|      2362.0|                0.0|             0.0|             80.1|              2.82|  22.099169687362178|  238.60624528301886|           573.5554| 2740.425531914894|140.37736284718224|2006-12-25 00:00:00|\n",
      "|     105523|Maharashtra Corpo...|2006-12-25 00:00:00| 8.73321428571429|   33.230996865|               0.267|        18.0|              0.226|           84.64| 8.73321428571429| 0.313392857142857|   3.090755753758022|  10.077301886792455| 16.409599999999998|2686.6666666666697| 62.83723743065393|2006-12-25 00:00:00|\n",
      "|     111276|Vishvas Projects ...|2006-12-25 00:00:00|            154.4|     43.2915212|            1211.364|      1934.0|                0.0|             0.0|            154.4|              5.75|  30.046590939209974|  189.53384905660377|  810.3055999999999| 2585.217391304348|327.52553384699337|2006-12-25 00:00:00|\n",
      "|     106074|        Arshiya Ltd.|2006-12-25 00:00:00|            87.04|        294.304|              13.137|       118.0|                0.0|             0.0|            87.04|             3.456|  22.535057181348947|   4.390938775510204|            11.6664|2418.5185185185187|165.69261373143206|2006-12-25 00:00:00|\n",
      "|     132264|Indage Restaurant...|2006-12-25 00:00:00|             72.5|       31.59695|                4.35|        43.0|               4.35|           100.0|             72.5|              3.15|  27.518706411092673|   2.172264150943396|               8.83|2201.5873015873017|306.48831755406934|2006-12-25 00:00:00|\n",
      "|     112449|  SVC Resources Ltd.|2006-12-25 00:00:00|         149.8125|        69.9125|              272.61|        76.0|                0.0|             0.0|         149.8125|            6.7875|  56.843962620434226|   224.9975849056604|           799.3746|2107.1823204419893| 255.2814135028032|2006-12-25 00:00:00|\n",
      "|     132057|Abhinav Capital S...|2006-12-25 00:00:00|            43.65|      30.225879|0.020999999999999998|        12.0|                0.0|             0.0|            43.65|               2.0|   16.74669096487002|  30.108811320754718|              45.56|            2082.5| 51.31783023461446|2006-12-25 00:00:00|\n",
      "|     103205|Shree Ram Urban I...|2006-12-25 00:00:00|            525.9|   1085.1704586|             358.952|      4314.0|                0.0|             0.0|            525.9|             26.25|    112.963819457308|   162.7665333333333|           928.7848| 1903.428571428571|470.62393661596286|2006-12-25 00:00:00|\n",
      "|     112369|    Ennore Coke Ltd.|2006-12-25 00:00:00|            23.66|         36.673|  0.7999999999999999|         6.0|                0.5|            62.5|            23.66|  1.20069685751347|   6.722193741194587|  0.6105263157894738|                0.7|1870.5223555758803|14.655172413793075|2006-12-25 00:00:00|\n",
      "|     113361|India Steel Works...|2006-12-25 00:00:00|            15.02|       36.45354|             2252.24|      3640.0|                0.0|             0.0|            15.02|             0.778|  2.6924793437816485|  178.68188679245284|           961.2284|1830.5912596401026|437.95514321857956|2006-12-25 00:00:00|\n",
      "|     121133|Gem Spinners Indi...|2006-12-25 00:00:00|            12.72|    52.62517128|                 8.8|        40.0|                8.8|           100.0|            12.72|               0.7|  2.3774226967969505|  1.6603773584905663|               3.56|1717.1428571428573|114.40909090909088|2006-12-25 00:00:00|\n",
      "|     111726|          Vipul Ltd.|2006-12-25 00:00:00|            117.8|    1202.111304|  11.899999999999999|        63.0|                0.0|             0.0|            117.8|              6.54|  28.252389174822564|   2.311320754716981|               4.62| 1701.223241590214| 99.88571428571429|2006-12-25 00:00:00|\n",
      "|     130067|    CSL Finance Ltd.|2006-12-25 00:00:00| 28.5333333333333|      34.272528|                 2.5|        12.0|                2.5|           100.0| 28.5333333333333|              1.75|   9.916927070858977|   5.182758620689656|              10.02|1530.4761904761885|  93.3333333333333|2006-12-25 00:00:00|\n",
      "|     126550|Country Club Hosp...|2006-12-25 00:00:00|            80.36|     351.185254|               65.19|       768.0|              65.19|           100.0|            80.36|              5.04|  24.816056766532586|   65.93762264150942| 102.35660000000001|1494.4444444444443| 55.23246956672034|2006-12-25 00:00:00|\n",
      "|     114450|Mahalaxmi Rubtech...|2006-12-25 00:00:00|            63.08|     32.6368035|              45.556|       323.0|                0.0|             0.0|            63.08|               4.8|  18.517616796759782|   42.39137735849057|  59.24659999999999|1214.1666666666667| 39.76096954569343|2006-12-25 00:00:00|\n",
      "|     112297|Shantai Industrie...|2006-12-25 00:00:00| 28.8666666666667|           4.33|               0.056|         1.0|                0.0|             0.0| 28.8666666666667|               2.4|      7.939093602057|            8.128125| 24.658399999999997|1102.7777777777792|203.37131872356778|2006-12-25 00:00:00|\n",
      "|     104382|Simplex Trading &...|2006-12-25 00:00:00|            1.954|          4.885|                0.25|         5.0|               0.25|           100.0|            1.954|            0.1852|  0.5476566205855147| 0.22826086956521738|               0.25| 955.0755939524837|  9.52380952380953|2006-12-25 00:00:00|\n",
      "|     112028|Shonkh Technologi...|2001-01-01 00:00:00|           238.35|  417.424571655|              1004.7|       595.0|                0.0|             0.0|           238.35|              2.15|    96.4803287923166|  229.73260869565215|             603.96|10986.046511627907|162.89694067772555|2001-01-01 00:00:00|\n",
      "|     131707|   Sun Infoways Ltd.|2001-01-01 00:00:00|            395.0|            0.0|               171.9|      1025.0|                0.0|             0.0|            395.0|              10.0|  194.09400881059764|  55.105660377358504|              146.9|            3850.0|166.57878518112713|2001-01-01 00:00:00|\n",
      "|     132131|Triumph Internati...|2001-01-01 00:00:00|            450.2|         337.65|              14.687|       612.0|                0.0|             0.0|            450.2|              12.0|  119.52792424132433|    38.4787924528302|            70.9054|3651.6666666666665| 84.27137516573693|2001-01-01 00:00:00|\n",
      "|     131131|  Mascon Global Ltd.|2001-01-01 00:00:00|            362.7|     757.433664|               47.37|       390.0|                0.0|             0.0|            362.7|           10.9875|  240.44875548811586|  104.98564150943398|           874.7268|3201.0238907849825| 733.1870791315756|2001-01-01 00:00:00|\n",
      "|     130695|Prime Property De...|2001-01-01 00:00:00|           13.975|     14.0267075|                69.0|       174.0|                0.0|             0.0|           13.975|               0.7|  3.1240304736958877|   14.32264150943396|              93.66|1896.4285714285716| 553.9296535370834|2001-01-01 00:00:00|\n",
      "|     111690|Warner Multimedia...|2001-01-01 00:00:00|            31.55|      26.992287|              54.025|       186.0|                0.0|             0.0|            31.55|               3.5|  13.656963645819008|  26.252226415094338|            88.0762| 801.4285714285714|235.49992525341966|2001-01-01 00:00:00|\n",
      "|     130485|Samarth Internati...|2001-01-01 00:00:00|            24.25|            0.0|   89.42000000000002|        18.0|                0.0|             0.0|            24.25|              2.85|   8.209627713710534|   32.06689473684211| 47.128400000000006| 750.8771929824561| 46.96901707122119|2001-01-01 00:00:00|\n",
      "|     108998|Sterling Internat...|2001-01-01 00:00:00|             15.0|        280.125|                 0.7|        13.0|                0.0|             0.0|             15.0|  1.86666666666667|   3.951481973415037|  1.2839622641509432| 3.8600000000000003| 703.5714285714271|200.63188831741377|2001-01-01 00:00:00|\n",
      "|     124055|Panther Industria...|2001-01-01 00:00:00|             40.0|       5.600028|                 7.5|        17.0|                0.0|             0.0|             40.0|               5.0|    24.7153545392333|  1.2660377358490567|                1.7|             700.0| 34.27719821162443|2001-01-01 00:00:00|\n",
      "|     132036|Top Media Enterta...|2001-01-01 00:00:00|             6.94|            0.0|  272.33399999999995|      1355.0|                0.0|             0.0|             6.94|             0.905|  1.4104055307395886|  158.45017647058822|           535.1096| 666.8508287292818| 237.7147390551048|2001-01-01 00:00:00|\n",
      "|     114238|IKAB Securities &...|2001-01-01 00:00:00|              9.2|            0.0|                 0.2|         2.0|                0.0|             0.0|              9.2|              1.25|   4.731120765165615|   12.03793103448276|               18.5|             636.0| 53.68089372672584|2001-01-01 00:00:00|\n",
      "|     126187|Ashram Online.Com...|2001-01-01 00:00:00|              4.0|            4.8|               125.5|       116.0|                0.0|             0.0|              4.0|               0.6|  2.5851770579401046|   8.007547169811325|               25.4| 566.6666666666667|217.20075400565486|2001-01-01 00:00:00|\n",
      "|     108978|SPL Techno Chem Ltd.|2001-01-01 00:00:00|            198.1|            0.0|  16.799999999999997|       148.0|                0.0|             0.0|            198.1|              30.0|  52.581170912547535|  24.402702702702697| 27.709999999999997| 560.3333333333334|13.552995902093269|2001-01-01 00:00:00|\n",
      "|     132364|Cyberscape Multim...|2001-01-01 00:00:00|             41.8|       42.22845|               234.0|       613.0|                0.0|             0.0|             41.8|              9.25|  18.257006645851522|   340.7373124999999|           391.6656| 351.8918918918919|14.946495623369712|2001-01-01 00:00:00|\n",
      "|     109079|Gufic Biosciences...|2001-01-01 00:00:00|             7.28|        56.3108|                4.75|        46.0|                0.0|             0.0|             7.28|  1.65714285714286|  1.9205823309079773|  0.5673846153846154| 1.9200000000000004| 339.3103448275855|238.39479392624736|2001-01-01 00:00:00|\n",
      "|     114162|  Welspun India Ltd.|2001-01-01 00:00:00|            3.425|  149.029987125|              284.15|      1527.0|                0.0|             0.0|            3.425|               0.8|   1.076785341985151|   81.62654716981133| 301.35159999999996|           328.125| 269.1833238677668|2001-01-01 00:00:00|\n",
      "|     131984| Gujarat Fiscon Ltd.|2001-01-01 00:00:00|           131.25|     65.6289375|                38.0|       239.0|                0.0|             0.0|           131.25|              34.0|   32.49616559383409|  22.552830188679245| 24.580000000000002| 286.0294117647059| 8.988538442232086|2001-01-01 00:00:00|\n",
      "|     119574|Hindustan Agrigen...|2001-01-01 00:00:00|            14.95|       6.578299|                63.8|       329.0|                0.0|             0.0|            14.95|               4.0|   5.425541481073085|  21.205660377358498|              34.92|            273.75| 64.67301361331074|2001-01-01 00:00:00|\n",
      "|     112535|Asahi Infrastruct...|2001-01-01 00:00:00|             3.25|            0.0|                 1.4|        13.0|                0.0|             0.0|             3.25|               1.0|  1.7157576702914679|  14.947169811320757| 19.800000000000004|             225.0| 32.46654885130019|2001-01-01 00:00:00|\n",
      "|     119262|     Prima Agro Ltd.|2001-01-01 00:00:00|              4.7|      2.4414385|                21.0|        59.0|                0.0|             0.0|              4.7|               1.5|  1.0578941620290532|   9.188679245283023| 30.359999999999996|213.33333333333334|230.40657084188894|2001-01-01 00:00:00|\n",
      "|     131328|  Kretto Syscon Ltd.|2016-12-12 00:00:00|            115.6|   164.78056344|   78.55199999999999|       393.0|             14.786|           18.82|            115.6|  2.89285714285714|  27.839424614668374|  25.420905660377358|            44.6218|3896.0493827160535| 75.53190510261946|2016-12-12 00:00:00|\n",
      "|     124790|Everest Organics ...|2016-12-12 00:00:00|            52.55|     38.2999114|               4.554|        38.0|              4.554|           100.0|            52.55|              3.35|  20.189363694432437|   4.825886792452829|  6.117999999999999|1468.6567164179103|26.774627402530392|2016-12-12 00:00:00|\n",
      "|     131112|Balu Forge Indust...|2016-12-12 00:00:00|            73.75|        2.58125| 0.21299999999999997|        18.0|0.21299999999999997|           100.0|            73.75|              6.11|  13.889083529582761| 0.22643396226415086|              0.515|1107.0376432078558|127.43938005166247|2016-12-12 00:00:00|\n",
      "|     107910|Fiberweb (India) ...|2016-12-12 00:00:00|           87.375|  220.112566125|            1627.304|     13884.0| 1027.4529999999997|           63.14|           87.375|              7.95|   23.32153884448335|   148.5374528301887| 441.51180000000005| 999.0566037735848| 197.2393774011637|2016-12-12 00:00:00|\n",
      "|     130741|   Ovobel Foods Ltd.|2016-12-12 00:00:00|             31.6|      33.182528|   6.999999999999999|        20.0|  6.999999999999999|           100.0|             31.6|               3.0|   10.60529269581966|  11.422641509433964| 14.020000000000001| 953.3333333333334| 22.73868516683184|2016-12-12 00:00:00|\n",
      "|     132407|Moschip Technolog...|2016-12-12 00:00:00|             57.2|   653.47291724|  1270.9759999999999|      3229.0|            782.489|           61.57|             57.2|              6.26|  13.177283813755887|   755.7270943396228|           1074.038| 813.7380191693293| 42.11982183046209|2016-12-12 00:00:00|\n",
      "|     256618|BCPL Internationa...|2016-12-12 00:00:00|             53.0|         207.23|               0.502|        33.0|              0.502|           100.0|             53.0|             6.945|  17.108437906636155|   3.633528301886793|             4.5164| 663.1389488840892| 24.29791719675764|2016-12-12 00:00:00|\n",
      "|     275502|Tejnaksh Healthca...|2016-12-12 00:00:00| 51.7173913043478|       52.52832|                17.6|        22.0|               14.4|           81.82| 51.7173913043478|  7.82608695652174|  10.729944456512403|   5.852631578947365|                8.0| 560.8333333333329| 36.69064748201446|2016-12-12 00:00:00|\n",
      "|     116082|NR Agarwal Indust...|2016-12-12 00:00:00|            227.4|     387.014334|              66.523|       826.0|             49.049|           73.73|            227.4|              34.5|   70.60574550972488|   83.21116981132074|           188.5494| 559.1304347826087|126.59145452170793|2016-12-12 00:00:00|\n",
      "|     279670|Natco Economicals...|2016-12-12 00:00:00|            91.85|      27.558674|             469.047|      2007.0| 106.68599999999999|           22.75|            91.85|             14.45|  20.260969968644286|   268.2068085106383| 446.64520000000005| 535.6401384083044| 66.53014980500916|2016-12-12 00:00:00|\n",
      "|     278804|    Muzali Arts Ltd.|2016-12-12 00:00:00|            10.08|      20.460384|             985.316|       787.0|             773.14|           78.47|            10.08|              1.72|  2.1113829738844845|  136.66345283018867|  613.6397999999999|486.04651162790697|349.01529069551515|2016-12-12 00:00:00|\n",
      "|     111611|DCM Financial Ser...|2016-12-12 00:00:00|             6.43|   14.226409722|              71.277|        86.0|             71.277|           100.0|             6.43|               1.1|   1.607916825178111|  42.904735849056614| 248.95780000000005| 484.5454545454545| 480.2571559369573|2016-12-12 00:00:00|\n",
      "|     130803|Bhageria Industri...|2016-12-12 00:00:00|          186.175|    592.9859925|  373.01700000000005|     13070.0|            140.036|           37.54|          186.175|            32.525|   57.81176690783779|  381.40624528301885|  534.2914000000001| 472.4058416602614|40.084596570655066|2016-12-12 00:00:00|\n",
      "|     272547|Raghuvansh Agrofa...|2016-12-12 00:00:00|             69.0|      82.231095|                12.5|         4.0|               12.5|           100.0|             69.0|             12.12|  13.421910813757973|   23.14516129032258|               24.0| 469.3069306930694| 3.693379790940769|2016-12-12 00:00:00|\n",
      "|     190050|          COSYN Ltd.|2016-12-12 00:00:00|           192.55|       144.4125|  229.24800000000002|      3108.0|            128.524|           56.06|           192.55|              34.9|   41.69841311157084|  187.56137735849052|           313.2172|451.71919770773644| 66.99450836370247|2016-12-12 00:00:00|\n",
      "|     245446|Negotium Internat...|2016-12-12 00:00:00|             51.0|      200.03475|              14.774|       160.0|              13.93|           94.29|             51.0|              9.75|  21.354295034883847|   40.87267924528301|            51.6468| 423.0769230769231| 26.36020186017142|2016-12-12 00:00:00|\n",
      "|     116022|Star Paper Mills ...|2016-12-12 00:00:00|           183.55|   286.49126425|   895.5790000000001|     16214.0| 353.78900000000004|            39.5|           183.55|             37.75|   50.83352746479225|   643.8502075471699|          1321.2078|386.22516556291396|105.20422056448669|2016-12-12 00:00:00|\n",
      "|     132807| Cineline India Ltd.|2016-12-12 00:00:00|             83.2|         232.96|             372.741|      4423.0|            192.329|            51.6|             83.2|             17.25|  23.501789837037247|   723.6123018867924|           886.0626| 382.3188405797102|22.449908285089194|2016-12-12 00:00:00|\n",
      "|     278790|Generic Engineeri...|2016-12-12 00:00:00|           31.325|      31.954006|             206.176|       615.0|              85.46|           41.45|           31.325|              6.56|   5.754760692792805|  118.11735555555555| 148.53519999999997|377.51524390243907|25.752222695281763|2016-12-12 00:00:00|\n",
      "|     119570|Lakshmi Energy & ...|2016-12-12 00:00:00|            70.65|      494.33805|  17440.601000000002|     89366.0|           4502.298|           25.82|            70.65|              15.0|  17.258864384856327|   3691.361075471698|            7302.43|371.00000000000006| 97.82486326041308|2016-12-12 00:00:00|\n",
      "|     220781|Dow Jones Composi...|1992-03-09 00:00:00|          1164.39|            0.0|            896710.0|         0.0|                0.0|             0.0|          1164.39|           1035.11|   47.68615068700726|   893370.3773584906|           994916.0|12.489493870216712|  11.3665759706247|1992-03-09 00:00:00|\n",
      "|     100295|        Vedanta Ltd.|1995-01-09 00:00:00|           11.875|         849.87| 0.15000000000000002|         0.0|                0.0|             0.0|           11.875|          2.390625|   4.309895211007121| 0.02641509433962264|0.27999999999999997|396.73202614379085|             960.0|1995-01-09 00:00:00|\n",
      "|     100260|The Ramco Cements...|1995-01-09 00:00:00|             50.0|            0.0| 0.08499999999999999|         0.0|                0.0|             0.0|             50.0|             10.25|   20.37923061837954|0.013749999999999998|              0.022| 387.8048780487805| 60.00000000000001|1995-01-09 00:00:00|\n",
      "|     100302|Piramal Enterpris...|1995-01-09 00:00:00| 94.3207434728512|       869.5277|                0.95|         0.0|                0.0|             0.0| 94.3207434728512|   34.589635215406|  31.608547077119287|  0.5678571428571428|                0.7|172.68499041828971|23.270440251572325|1995-01-09 00:00:00|\n",
      "|     100210|Ingersoll-Rand (I...|1995-01-09 00:00:00|            390.0|            0.0|                0.35|         0.0|                0.0|             0.0|            390.0|             162.5|   96.38778919187602| 0.02924528301886792|0.22999999999999998|             140.0| 686.4516129032259|1995-01-09 00:00:00|\n",
      "|     100271|Max Financial Ser...|1995-01-09 00:00:00|             44.0|            0.0|                0.25|         0.0|                0.0|             0.0|             44.0|              20.0|   10.25740150887571|                 0.1|               0.16|             120.0|              60.0|1995-01-09 00:00:00|\n",
      "|     107878|        Unitech Ltd.|1995-01-09 00:00:00|0.807692307692308|      114.31875|                 0.1|         0.0|                0.0|             0.0|0.807692307692308| 0.423076923076923|  0.1442036277540132|0.011320754716981131|               0.12| 90.90909090909102|             960.0|1995-01-09 00:00:00|\n",
      "|     102937|Kesoram Industrie...|1995-01-09 00:00:00| 91.2735539958061|            0.0|                 0.1|         0.0|                0.0|             0.0| 91.2735539958061|  57.4685339973594|  27.700817699603874|0.001886792452830...|               0.02| 58.82352941176469|             960.0|1995-01-09 00:00:00|\n",
      "|     103806|            SRF Ltd.|1995-01-09 00:00:00|            25.54|            0.0|                 0.4|         0.0|                0.0|             0.0|            25.54|              16.7|   4.645880324684626|  0.1679245283018868|               1.19| 52.93413173652694| 608.6516853932583|1995-01-09 00:00:00|\n",
      "|     103031| Peninsula Land Ltd.|1995-01-09 00:00:00|             61.0|            0.0|                 0.0|         0.0|                0.0|             0.0|             61.0|              40.0|   7.768833336340622|0.010377358490566039|0.11000000000000001|              52.5| 960.0000000000001|1995-01-09 00:00:00|\n",
      "|     100251|          Trent Ltd.|1995-01-09 00:00:00| 16.5713667820069|    235.5458157|                 0.7|         0.0|                0.0|             0.0| 16.5713667820069|  11.8367984548966|  2.0424266212179876|                0.15|0.27999999999999997| 39.99872385384515| 86.66666666666666|1995-01-09 00:00:00|\n",
      "|     100477|  Ashok Leyland Ltd.|1995-01-09 00:00:00|              9.0|    1559.046528|                 0.4|         0.0|                0.0|             0.0|              9.0|               6.5|  1.0119344660778995|  1.3818181818181818|               2.62| 38.46153846153847| 89.60526315789474|1995-01-09 00:00:00|\n",
      "|     100850|The Indian Hotels...|1995-01-09 00:00:00|  54.323018091212|    2514.891456|                 6.3|         0.0|                0.0|             0.0|  54.323018091212|  40.5255993998032|    6.20750493383835|   0.460377358490566|               1.73|34.046180428551054| 275.7786885245902|1995-01-09 00:00:00|\n",
      "|     100472|      SKF India Ltd.|1995-01-09 00:00:00| 193.969787023279|            0.0|               0.035|         0.0|                0.0|             0.0| 193.969787023279|  149.404799461585|   23.47201781555582|0.010000000000000002|              0.038|29.828350710482077|279.99999999999994|1995-01-09 00:00:00|\n",
      "|     100380|JK Lakshmi Cement...|1995-01-09 00:00:00|           103.75|            0.0|                 1.1|         0.0|                0.0|             0.0|           103.75|             81.25|   28.12162897069028| 0.09056603773584906|               0.54|27.692307692307693|496.25000000000006|1995-01-09 00:00:00|\n",
      "|     100413|Thomas Cook (Indi...|1995-01-09 00:00:00| 16.3259016393443|          315.0|                0.05|         0.0|                0.0|             0.0| 16.3259016393443|  12.9413688888889|  1.8590426594806844|0.008333333333333333|               0.01|26.152818759082475|20.000000000000004|1995-01-09 00:00:00|\n",
      "|     100300|Grasim Industries...|1995-01-09 00:00:00|            143.0|    4821.668423|                1.25|         0.0|                0.0|             0.0|            143.0|             120.0|   13.49875202531438| 0.30094339622641514|               2.44|19.166666666666668| 710.7836990595611|1995-01-09 00:00:00|\n",
      "|     114034| JBF Industries Ltd.|1995-01-09 00:00:00|            66.25|            0.0|                 0.3|         0.0|                0.0|             0.0|            66.25|              57.5|   7.889625474673948| 0.03773584905660377|0.30000000000000004|15.217391304347828| 695.0000000000002|1995-01-09 00:00:00|\n",
      "|     113216|Uttam Galva Steel...|1995-01-09 00:00:00|             37.0|            0.0|                 0.5|         0.0|                0.0|             0.0|             37.0|              35.0|   7.942158116297294|0.018867924528301886|                0.2| 5.714285714285714| 960.0000000000001|1995-01-09 00:00:00|\n",
      "|     100570|    Tata Motors Ltd.|1995-01-09 00:00:00| 56.2915042001618|    6055.678058|  1.2000000000000002|         0.0|                0.0|             0.0| 56.2915042001618|  54.4963860522758|   4.836622830296027|  1.2849056603773583|               7.92|3.2940131959650114|  516.387665198238|1995-01-09 00:00:00|\n",
      "|     100680|         Pfizer Ltd.|1995-01-09 00:00:00|            177.5|            0.0|                 3.7|         0.0|                0.0|             0.0|            177.5|             172.5|   36.37688867609855| 0.09245283018867925|               0.97| 2.898550724637681| 949.1836734693877|1995-01-09 00:00:00|\n",
      "|     100290|            MRF Ltd.|1996-01-08 00:00:00|           1725.0|            0.0|                 1.1|         0.0|                0.0|             0.0|           1725.0|              25.0|   804.5032433447672|  0.7999999999999999|               1.52|            6800.0| 90.00000000000001|1996-01-08 00:00:00|\n",
      "|     126045|Luminaire Technol...|1996-01-08 00:00:00| 3.33333333333333|            4.0|                 3.0|        16.0|                0.0|             0.0| 3.33333333333333|               0.1|  2.4966696988215005|            0.959375|               1.54|3233.3333333333294|  60.5211726384365|1996-01-08 00:00:00|\n",
      "|     101815|    Bharat Line Ltd.|1996-01-08 00:00:00|            23.25|            0.0|                 0.1|         2.0|                0.0|             0.0|            23.25|               1.0|    16.5285785915308|  2.2038461538461545| 2.3299999999999996|            2225.0|  5.72425828970327|1996-01-08 00:00:00|\n",
      "|     106102|  Qpro Infotech Ltd.|1996-01-08 00:00:00|            198.0|            0.0|               14.55|        68.0|                0.0|             0.0|            198.0|              16.0|  38.794895991953055|  0.6678571428571428|               3.56|            1137.5|433.04812834224606|1996-01-08 00:00:00|\n",
      "|     122056|Autocomps India Ltd.|1996-01-08 00:00:00|             54.0|            0.0|                98.6|       228.0|                0.0|             0.0|             54.0|               5.0|  14.548389147277675|  30.300000000000004|               73.6| 980.0000000000001|142.90429042904285|1996-01-08 00:00:00|\n",
      "|     109960|      UP Hotels Ltd.|1996-01-08 00:00:00|             57.5|            0.0|               10.45|        85.0|                0.0|             0.0|             57.5|               6.0|  26.806785521580164|   3.408333333333333|               4.08| 858.3333333333334| 19.70660146699267|1996-01-08 00:00:00|\n",
      "|     112257|Swasti Vinayaka A...|1996-01-08 00:00:00| 0.37037037037037|            0.0|   5.899999999999999|        38.0|                0.0|             0.0| 0.37037037037037|0.0439814814814815| 0.16206407392880937|  12.905555555555555| 13.819999999999999| 742.1052631578935| 7.085665088247948|1996-01-08 00:00:00|\n",
      "|     105725|Hindustan Everest...|1996-01-08 00:00:00| 8.16326530612245|            0.0|                 1.0|        10.0|                0.0|             0.0| 8.16326530612245|  1.02040816326531|   3.344278873705401|               2.225|               2.84| 699.9999999999969|27.640449438202236|1996-01-08 00:00:00|\n",
      "|     130237|Gandhinagar Enter...|1996-01-08 00:00:00|             19.6|            0.0|               278.3|        94.0|                0.0|             0.0|             19.6|               3.0|   5.199970678810013|  117.83749999999999|              215.1| 553.3333333333334| 82.53951416145115|1996-01-08 00:00:00|\n",
      "|     100403|Sundram Fasteners...|1996-01-08 00:00:00|            25.75|            0.0|   5.300000000000001|         0.0|                0.0|             0.0|            25.75|               5.5|   5.274024184225079|  1.2924528301886795| 3.2600000000000002| 368.1818181818182|152.23357664233572|1996-01-08 00:00:00|\n",
      "|     107150|India Sugars & Re...|1996-01-08 00:00:00|             24.0|            0.0|                 0.3|         3.0|                0.0|             0.0|             24.0|              6.25|  6.1514162314398515|   5.596296296296298|              16.28|             284.0|190.90668431502306|1996-01-08 00:00:00|\n",
      "|     109024|Golden Legand Lea...|1996-01-08 00:00:00|             21.5|            0.0|                 0.5|         2.0|                0.0|             0.0|             21.5|             5.625|    6.36481518944842|            0.546875|                0.7|282.22222222222223|27.999999999999993|1996-01-08 00:00:00|\n",
      "|     112197|Silveroak Commerc...|1996-01-08 00:00:00|             17.8|            0.0|                 0.3|         3.0|                0.0|             0.0|             17.8|               5.0|   4.018784020073734| 0.03333333333333333|               0.06|             256.0|              80.0|1996-01-08 00:00:00|\n",
      "|     126486|Hitechi Jewellery...|1996-01-08 00:00:00|            186.0|            0.0|                22.5|       128.0|                0.0|             0.0|            186.0|              53.0|   56.82918436484281|   8.454716981132075|              25.02| 250.9433962264151|195.92948002677974|1996-01-08 00:00:00|\n",
      "|     130821|          SSPDL Ltd.|1996-01-08 00:00:00| 21.7421815408085|           16.8|               261.4|       751.0|                0.0|             0.0| 21.7421815408085|  6.69736842105263|   6.056045313860482|   98.98750000000001| 219.28000000000003|224.63768115941969|121.52291956055056|1996-01-08 00:00:00|\n",
      "|     124382|    Ratna Drugs Ltd.|1996-01-08 00:00:00|             50.5|            0.0|              3868.1|      9509.0|                0.0|             0.0|             50.5|              17.5|   8.188474567797112|  199.74528301886792|             1900.2|188.57142857142856|  851.311576063855|1996-01-08 00:00:00|\n",
      "|     107886|  Dhruv Estates Ltd.|1996-01-08 00:00:00|             11.2|            0.0|                 1.0|         4.0|                0.0|             0.0|             11.2|               4.0|   2.508418757374787|   1.668085106382979|               3.14|179.99999999999997| 88.23979591836734|1996-01-08 00:00:00|\n",
      "|     112345|Yash Trading & Fi...|1996-01-08 00:00:00| 14.3566397078007|            0.0|                 0.2|         2.0|                0.0|             0.0| 14.3566397078007|  5.15366553613358|  16.237185033954862|   1.923333333333334| 3.3600000000000003|178.57142857142878|  74.6967071057192|1996-01-08 00:00:00|\n",
      "|     117170|Effulgent Infomed...|1996-01-08 00:00:00|             53.0|            0.0|               153.2|       580.0|                0.0|             0.0|             53.0|             19.25|  14.203255097235383|               68.85|              94.28|175.32467532467533| 36.93536673928832|1996-01-08 00:00:00|\n",
      "|     131203|Brand Realty Serv...|1996-01-08 00:00:00|             41.0|            0.0|               110.6|       235.0|                0.0|             0.0|             41.0|             15.25|  10.447620675435042|  147.02222222222224| 202.07999999999998|168.85245901639345|37.448609431680744|1996-01-08 00:00:00|\n",
      "|     107940|Highland Industri...|2003-12-29 00:00:00|            63.75|       7.809375|                32.9|        12.0|                0.0|             0.0|            63.75|              1.25|  28.987378666433763|  20.297560975609755| 52.779999999999994|            5000.0|160.03124248978608|2003-12-29 00:00:00|\n",
      "|     112499|Shalimar Producti...|2003-12-29 00:00:00| 38.4817052341382|        62.2962|             163.897|       711.0|                0.0|             0.0| 38.4817052341382|   1.4118026029296|  14.085206940033064|   162.0895471698113|  283.4925999999999|2625.7142857142826| 74.89875500916914|2003-12-29 00:00:00|\n",
      "|     131781|Sapan Chemicals Ltd.|2003-12-29 00:00:00|             72.9|          58.32|             388.895|       980.0|                0.0|             0.0|             72.9|               5.4|  26.831301581498604|  153.90977358490568|           358.4996|            1250.0| 132.9284175070471|2003-12-29 00:00:00|\n",
      "|     123716|Ashiana Housing Ltd.|2003-12-29 00:00:00|0.954285714285714|       8.939677|              39.879|       329.0|                0.0|             0.0|0.954285714285714|0.0714285714285714| 0.18254844355308505|   5.832150943396227|             19.371|1236.0000000000002|232.14160929654736|2003-12-29 00:00:00|\n",
      "|     126139|Transgene Biotek ...|2003-12-29 00:00:00|            77.75|        69.5085|             166.764|       953.0|                0.0|             0.0|            77.75|              6.25|  31.274037141520004|   85.04556603773585|           140.5116|            1144.0|  65.2191954812237|2003-12-29 00:00:00|\n",
      "|     113005|VBC Ferro Alloys ...|2003-12-29 00:00:00|             98.6|      39.897997|              16.965|        83.0|                0.0|             0.0|             98.6|               8.0|  24.121692549474606|   23.89520754716981|  35.25959999999999|            1132.5| 47.55929585627809|2003-12-29 00:00:00|\n",
      "|     126955|ABL Biotechnologi...|2003-12-29 00:00:00|            31.75|        13.0175|   45.14900000000001|       163.0|                0.0|             0.0|            31.75|               2.6|  6.9650803020448535|   7.867584905660378|            30.9498| 1121.153846153846|  293.383743183159|2003-12-29 00:00:00|\n",
      "|     126235|       Mercator Ltd.|2003-12-29 00:00:00|           10.448|         143.66|             330.279|      3783.0|                0.0|             0.0|           10.448|             0.898|  3.1449016288975833|  188.81449056603776|           252.9888|1063.4743875278398|  33.9880213862703|2003-12-29 00:00:00|\n",
      "|     113519|Pitti Engineering...|2003-12-29 00:00:00|            9.125|       11.40625|                 9.0|        56.0|                0.0|             0.0|            9.125|             0.825|  2.6255419131001454|  2.2924528301886795|  7.719999999999999|1006.0606060606062|236.75720164609046|2003-12-29 00:00:00|\n",
      "|     104614|Sarda Energy & Mi...|2003-12-29 00:00:00|             44.1|        57.6828|             348.642|       844.0|                0.0|             0.0|             44.1|              4.05|  10.578323191932421|   56.12103773584906|           227.6748| 988.8888888888891| 305.6852994622472|2003-12-29 00:00:00|\n",
      "|     112018|   CNI Research Ltd.|2003-12-29 00:00:00|0.373333333333333|       2.284968|                 0.1|         2.0|                0.0|             0.0|0.373333333333333|0.0366666666666667| 0.07861385232754965|  1.2340000000000002|               1.72| 918.1818181818164| 39.38411669367907|2003-12-29 00:00:00|\n",
      "|     130693|Aditya Info-Soft ...|2003-12-29 00:00:00|            10.51|      4.0816636|             166.599|       611.0|                0.0|             0.0|            10.51|              1.05|   3.084619641598188|            32.75375|            56.2996| 900.9523809523807| 71.88749379842004|2003-12-29 00:00:00|\n",
      "|     100900|Sterlite Industri...|2003-12-29 00:00:00|          35.5925|  5114.57832587|  326.01899999999995|     15223.0|                0.0|             0.0|          35.5925|             3.645|  11.093221646027365|  202.75462264150948|  538.3783999999999|  876.474622770919|   165.53199773497|2003-12-29 00:00:00|\n",
      "|     100295|        Vedanta Ltd.|2003-12-29 00:00:00|         15.18625|  1195.52295245|   871.3900000000001|      7729.0|             192.63|           22.11|         15.18625|            1.6925|   3.872734128041419|  1339.0838679245282|          1405.0592| 797.2673559822747| 4.926900671107934|2003-12-29 00:00:00|\n",
      "|     100245|Kirloskar Ferrous...|2003-12-29 00:00:00| 26.5172888616891|     189.944912|            1796.109|      6643.0|                0.0|             0.0| 26.5172888616891|  3.02478580171359|   7.583710017886948|   990.1137169811321| 1886.5295999999998| 776.6666666666654| 90.53665933970188|2003-12-29 00:00:00|\n",
      "|     100132|Empee Sugars & Ch...|2003-12-29 00:00:00|             5.25|     22.0343025|                96.4|       272.0|                0.0|             0.0|             5.25|               0.6|  1.1544511573041414|  14.584905660377355|              47.64| 775.0000000000001|226.63906856403625|2003-12-29 00:00:00|\n",
      "|     122267|Veejay Lakshmi En...|2003-12-29 00:00:00|           110.65|     56.1205735|   49.26199999999999|       591.0|                0.0|             0.0|           110.65|             12.75|  31.059629930076817|  22.232981132075466|            44.9928|  767.843137254902|102.36962255632469|2003-12-29 00:00:00|\n",
      "|     112579|Gujarat NRE Coke ...|2003-12-29 00:00:00| 6.14285714285714|    141.5883618|             1668.65|      7466.0|                0.0|             0.0| 6.14285714285714| 0.714285714285714|  1.3843158916741372|   504.5255094339623| 3190.3650000000002| 759.9999999999999| 532.3495919124758|2003-12-29 00:00:00|\n",
      "|     132489|Arvind Products Ltd.|2003-12-29 00:00:00|            18.05|   146.12375334|   809.5269999999999|      2112.0|                0.0|             0.0|            18.05|               2.1|   2.826811614246522|  128.73326829268294|           335.0212| 759.5238095238096|160.24446084776537|2003-12-29 00:00:00|\n",
      "|     122231|Conart Engineers ...|2003-12-29 00:00:00|            15.34|          4.602|              74.585|       394.0|                0.0|             0.0|            15.34|               1.8|   2.976869160712308|   13.52422641509434|            85.6664| 752.2222222222222| 533.4292060090627|2003-12-29 00:00:00|\n",
      "+-----------+--------------------+-------------------+-----------------+---------------+--------------------+------------+-------------------+----------------+-----------------+------------------+--------------------+--------------------+-------------------+------------------+------------------+-------------------+"
     ]
    }
   ],
   "source": [
    "df_portfolio_log.show(n=800)"
   ]
  },
  {
   "cell_type": "code",
   "execution_count": 25,
   "id": "67a4eb9a-0864-4a8d-b302-0e91f1c641b0",
   "metadata": {
    "execution": {
     "iopub.execute_input": "2022-11-27T16:22:15.938996Z",
     "iopub.status.busy": "2022-11-27T16:22:15.938723Z",
     "iopub.status.idle": "2022-11-27T16:22:16.002229Z",
     "shell.execute_reply": "2022-11-27T16:22:16.001654Z",
     "shell.execute_reply.started": "2022-11-27T16:22:15.938961Z"
    },
    "tags": []
   },
   "outputs": [
    {
     "data": {
      "application/vnd.jupyter.widget-view+json": {
       "model_id": "211e141c39ff4c07b817e15b7382953f",
       "version_major": 2,
       "version_minor": 0
      },
      "text/plain": [
       "VBox()"
      ]
     },
     "metadata": {},
     "output_type": "display_data"
    },
    {
     "data": {
      "application/vnd.jupyter.widget-view+json": {
       "model_id": "",
       "version_major": 2,
       "version_minor": 0
      },
      "text/plain": [
       "FloatProgress(value=0.0, bar_style='info', description='Progress:', layout=Layout(height='25px', width='50%'),…"
      ]
     },
     "metadata": {},
     "output_type": "display_data"
    },
    {
     "name": "stderr",
     "output_type": "stream",
     "text": [
      "An error was encountered:\n",
      "name 'start_date_1' is not defined\n",
      "Traceback (most recent call last):\n",
      "NameError: name 'start_date_1' is not defined\n",
      "\n"
     ]
    }
   ],
   "source": [
    "df_price_snap = df_price.filter(col(\"tdate\").between(start_date_1,start_date_2)) \n",
    "#df_price_snap.select(col(\"name\"), col(\"tdate\") ,col(\"blended_price\"), col(\"last_price\"), col(\"growth\"), col(\"std_dev\"), col(\"current_volume\"),col(\"historic_volume\"),col(\"volume_growth\")).show(10)\n",
    "df_folio = df_price_snap.orderBy(\"growth\", ascending=False).limit(50)\n",
    "df_folio = df_folio.orderBy(\"std_dev\")\n",
    "df_folio = df_folio.filter(df_folio.volume_growth > 3).limit(20)\n",
    "df_folio.select(col(\"name\"), col(\"tdate\") ,col(\"blended_price\"), col(\"last_price\"), col(\"growth\"), col(\"std_dev\"), col(\"current_volume\"),col(\"historic_volume\"),col(\"volume_growth\")).show(50)                                \n",
    "                                "
   ]
  },
  {
   "cell_type": "code",
   "execution_count": 26,
   "id": "5772ce16-3427-48d9-bc6e-32511d449f00",
   "metadata": {
    "execution": {
     "iopub.execute_input": "2022-11-27T16:22:16.003423Z",
     "iopub.status.busy": "2022-11-27T16:22:16.003247Z",
     "iopub.status.idle": "2022-11-27T16:22:16.068659Z",
     "shell.execute_reply": "2022-11-27T16:22:16.067963Z",
     "shell.execute_reply.started": "2022-11-27T16:22:16.003402Z"
    },
    "tags": []
   },
   "outputs": [
    {
     "data": {
      "application/vnd.jupyter.widget-view+json": {
       "model_id": "129a5657e8f94905807a7fda6ee01670",
       "version_major": 2,
       "version_minor": 0
      },
      "text/plain": [
       "VBox()"
      ]
     },
     "metadata": {},
     "output_type": "display_data"
    },
    {
     "data": {
      "application/vnd.jupyter.widget-view+json": {
       "model_id": "",
       "version_major": 2,
       "version_minor": 0
      },
      "text/plain": [
       "FloatProgress(value=0.0, bar_style='info', description='Progress:', layout=Layout(height='25px', width='50%'),…"
      ]
     },
     "metadata": {},
     "output_type": "display_data"
    },
    {
     "name": "stderr",
     "output_type": "stream",
     "text": [
      "An error was encountered:\n",
      "name 'start_date_1' is not defined\n",
      "Traceback (most recent call last):\n",
      "NameError: name 'start_date_1' is not defined\n",
      "\n"
     ]
    }
   ],
   "source": [
    "from datetime import datetime, date, timedelta\n",
    "df_folio_history = None\n",
    "while True:\n",
    "    print(\"Rebalancing on : \", start_date_1)\n",
    "    df_price_snap = df_price.filter(col(\"tdate\").between(start_date_1,start_date_2)) \n",
    "    if df_price_snap.count == 0:\n",
    "        break\n",
    "    df_folio = df_price_snap.orderBy(\"growth\", ascending=False).limit(50)\n",
    "    df_folio = df_folio.orderBy(\"std_dev\")\n",
    "    df_folio = df_folio.filter(df_folio.volume_growth > 3).limit(20)\n",
    "    df_folio = df_folio.select(col(\"name\"), col(\"tdate\") ,col(\"blended_price\"), col(\"last_price\"), col(\"growth\"), col(\"std_dev\"), col(\"current_volume\"),col(\"historic_volume\"),col(\"volume_growth\"))                               \n",
    "    if df_folio_history == None:\n",
    "        print(\"portfolio created!\")\n",
    "        df_folio_history = df_folio\n",
    "    else:\n",
    "        df_folio_history = df_folio_history.union(df_folio)\n",
    "    \n",
    "    start_date_1 = (datetime.strptime(start_date_1, '%Y-%m-%d %H:%M:%S') + timedelta(days=rebalance_frequency)).strftime('%Y-%m-%d %H:%M:%S')\n",
    "    start_date_2 = (datetime.strptime(start_date_2, '%Y-%m-%d %H:%M:%S') + timedelta(days=rebalance_frequency)).strftime('%Y-%m-%d %H:%M:%S')    \n",
    "    \n",
    "    "
   ]
  },
  {
   "cell_type": "code",
   "execution_count": null,
   "id": "4c099320-1094-49e7-9800-2f9dfcf00016",
   "metadata": {},
   "outputs": [],
   "source": []
  }
 ],
 "metadata": {
  "kernelspec": {
   "display_name": "PySpark",
   "language": "",
   "name": "pysparkkernel"
  },
  "language_info": {
   "codemirror_mode": {
    "name": "python",
    "version": 3
   },
   "file_extension": ".py",
   "mimetype": "text/x-python",
   "name": "pyspark",
   "pygments_lexer": "python3"
  }
 },
 "nbformat": 4,
 "nbformat_minor": 5
}
